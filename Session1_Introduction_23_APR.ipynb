{
 "cells": [
  {
   "cell_type": "code",
   "execution_count": 16,
   "id": "1af8029a",
   "metadata": {},
   "outputs": [],
   "source": [
    "name='satyam'\n",
    "number=12345\n",
    "abc= \"my name is satyam\"\n",
    "# print(name)\n"
   ]
  },
  {
   "cell_type": "code",
   "execution_count": 17,
   "id": "2e9f838b",
   "metadata": {},
   "outputs": [
    {
     "data": {
      "text/plain": [
       "'satyam'"
      ]
     },
     "execution_count": 17,
     "metadata": {},
     "output_type": "execute_result"
    }
   ],
   "source": [
    "name\n",
    "# number"
   ]
  },
  {
   "cell_type": "code",
   "execution_count": 18,
   "id": "ea26e731",
   "metadata": {},
   "outputs": [
    {
     "name": "stdout",
     "output_type": "stream",
     "text": [
      "satyam\n"
     ]
    },
    {
     "data": {
      "text/plain": [
       "12345"
      ]
     },
     "execution_count": 18,
     "metadata": {},
     "output_type": "execute_result"
    }
   ],
   "source": [
    "print(name)\n",
    "number"
   ]
  },
  {
   "cell_type": "code",
   "execution_count": 19,
   "id": "c81b73b2",
   "metadata": {},
   "outputs": [
    {
     "name": "stdout",
     "output_type": "stream",
     "text": [
      "12345\n"
     ]
    }
   ],
   "source": [
    "name\n",
    "print(number)"
   ]
  },
  {
   "cell_type": "code",
   "execution_count": 20,
   "id": "7cc37f8b",
   "metadata": {},
   "outputs": [
    {
     "name": "stdout",
     "output_type": "stream",
     "text": [
      "my name is satyam\n"
     ]
    }
   ],
   "source": [
    "print(\"my name is satyam\")"
   ]
  },
  {
   "cell_type": "code",
   "execution_count": 21,
   "id": "2abcc5e4",
   "metadata": {},
   "outputs": [
    {
     "name": "stdout",
     "output_type": "stream",
     "text": [
      "12345\n"
     ]
    }
   ],
   "source": [
    "print(12345)"
   ]
  },
  {
   "cell_type": "code",
   "execution_count": 23,
   "id": "794b7a46",
   "metadata": {},
   "outputs": [
    {
     "name": "stdout",
     "output_type": "stream",
     "text": [
      "15\n"
     ]
    }
   ],
   "source": [
    "a=10\n",
    "a=15\n",
    "print(a)"
   ]
  },
  {
   "cell_type": "code",
   "execution_count": 24,
   "id": "ec77059d",
   "metadata": {},
   "outputs": [
    {
     "name": "stdout",
     "output_type": "stream",
     "text": [
      "15.7\n"
     ]
    }
   ],
   "source": [
    "a=15.7\n",
    "print(a)"
   ]
  },
  {
   "cell_type": "code",
   "execution_count": 25,
   "id": "c1a5b844",
   "metadata": {},
   "outputs": [
    {
     "name": "stdout",
     "output_type": "stream",
     "text": [
      "satyam\n"
     ]
    }
   ],
   "source": [
    "a=\"satyam\"\n",
    "print(a)"
   ]
  },
  {
   "cell_type": "code",
   "execution_count": null,
   "id": "5c3335ae",
   "metadata": {},
   "outputs": [],
   "source": [
    "int--1,2,3,4,5\n",
    "float--1.5,2.6,3.4\n",
    "char-\"\", \"satyam\",\"akash\",\"12345\"\n",
    "date-\"06-07-1993\",\"15-12-2000\"\n",
    "boolean- True/False, 0/1, Yes/No\n",
    "complex-1+5j,3+16j\n",
    "list--\n",
    "set\n",
    "dictonary\n",
    "tupple"
   ]
  },
  {
   "cell_type": "code",
   "execution_count": 26,
   "id": "48c07fd9",
   "metadata": {},
   "outputs": [
    {
     "name": "stdout",
     "output_type": "stream",
     "text": [
      "10\n",
      "<class 'int'>\n"
     ]
    }
   ],
   "source": [
    "a=10\n",
    "print(a)\n",
    "print(type(a))\n",
    "\n"
   ]
  },
  {
   "cell_type": "code",
   "execution_count": 28,
   "id": "3423f9d0",
   "metadata": {},
   "outputs": [
    {
     "name": "stdout",
     "output_type": "stream",
     "text": [
      "5.6\n",
      "<class 'float'>\n"
     ]
    }
   ],
   "source": [
    "b=5.6\n",
    "print(b)\n",
    "print(type(b))"
   ]
  },
  {
   "cell_type": "code",
   "execution_count": 29,
   "id": "37bcc72f",
   "metadata": {},
   "outputs": [
    {
     "name": "stdout",
     "output_type": "stream",
     "text": [
      "5.0\n",
      "<class 'float'>\n"
     ]
    }
   ],
   "source": [
    "c=5.0\n",
    "print(c)\n",
    "print(type(c))"
   ]
  },
  {
   "cell_type": "code",
   "execution_count": 30,
   "id": "63d51778",
   "metadata": {},
   "outputs": [
    {
     "name": "stdout",
     "output_type": "stream",
     "text": [
      "satyam\n",
      "<class 'str'>\n"
     ]
    }
   ],
   "source": [
    "abc=\"satyam\"\n",
    "print(abc)\n",
    "print(type(abc))"
   ]
  },
  {
   "cell_type": "code",
   "execution_count": 31,
   "id": "d71877b8",
   "metadata": {},
   "outputs": [
    {
     "name": "stdout",
     "output_type": "stream",
     "text": [
      "1\n",
      "2\n",
      "3\n",
      "1 2 3\n"
     ]
    }
   ],
   "source": [
    "x,y,z=1,2,3\n",
    "print(x)\n",
    "print(y)\n",
    "print(z)\n",
    "print(x,y,z)"
   ]
  },
  {
   "cell_type": "code",
   "execution_count": 32,
   "id": "1197ec3c",
   "metadata": {},
   "outputs": [
    {
     "name": "stdout",
     "output_type": "stream",
     "text": [
      "<class 'int'>\n"
     ]
    }
   ],
   "source": [
    "z=10\n",
    "print(type(z))"
   ]
  },
  {
   "cell_type": "code",
   "execution_count": 33,
   "id": "227d5aca",
   "metadata": {},
   "outputs": [
    {
     "data": {
      "text/plain": [
       "10"
      ]
     },
     "execution_count": 33,
     "metadata": {},
     "output_type": "execute_result"
    }
   ],
   "source": [
    "z"
   ]
  },
  {
   "cell_type": "code",
   "execution_count": 34,
   "id": "053b5c9a",
   "metadata": {},
   "outputs": [
    {
     "name": "stdout",
     "output_type": "stream",
     "text": [
      "10.0\n",
      "<class 'float'>\n"
     ]
    }
   ],
   "source": [
    "y=float(z)\n",
    "print(y)\n",
    "print(type(y))"
   ]
  },
  {
   "cell_type": "code",
   "execution_count": 37,
   "id": "92aa0022",
   "metadata": {},
   "outputs": [
    {
     "name": "stdout",
     "output_type": "stream",
     "text": [
      "5\n",
      "<class 'int'>\n"
     ]
    }
   ],
   "source": [
    "x=5.8\n",
    "y=int(x)\n",
    "print(y)\n",
    "print(type(y))"
   ]
  },
  {
   "cell_type": "code",
   "execution_count": 38,
   "id": "09b9dcd2",
   "metadata": {},
   "outputs": [
    {
     "name": "stdout",
     "output_type": "stream",
     "text": [
      "10\n",
      "<class 'str'>\n"
     ]
    }
   ],
   "source": [
    "x=10\n",
    "y=str(x)\n",
    "print(y)\n",
    "print(type(y))"
   ]
  },
  {
   "cell_type": "code",
   "execution_count": 39,
   "id": "34a54d82",
   "metadata": {},
   "outputs": [
    {
     "name": "stdout",
     "output_type": "stream",
     "text": [
      "10\n"
     ]
    }
   ],
   "source": [
    "print(y)"
   ]
  },
  {
   "cell_type": "code",
   "execution_count": 41,
   "id": "8ac7c862",
   "metadata": {},
   "outputs": [
    {
     "name": "stdout",
     "output_type": "stream",
     "text": [
      "20\n"
     ]
    }
   ],
   "source": [
    "abc=10\n",
    "print(abc+10)"
   ]
  },
  {
   "cell_type": "code",
   "execution_count": 43,
   "id": "2689d104",
   "metadata": {},
   "outputs": [
    {
     "name": "stdout",
     "output_type": "stream",
     "text": [
      "True\n"
     ]
    }
   ],
   "source": [
    "print(15<20)"
   ]
  },
  {
   "cell_type": "code",
   "execution_count": 44,
   "id": "f83f1d2c",
   "metadata": {},
   "outputs": [
    {
     "name": "stdout",
     "output_type": "stream",
     "text": [
      "False\n"
     ]
    }
   ],
   "source": [
    "print(15>20)"
   ]
  },
  {
   "cell_type": "code",
   "execution_count": 45,
   "id": "e7c28f02",
   "metadata": {},
   "outputs": [
    {
     "name": "stdout",
     "output_type": "stream",
     "text": [
      "120\n"
     ]
    }
   ],
   "source": [
    "a=100\n",
    "b=20\n",
    "c=a+b\n",
    "print(c)"
   ]
  },
  {
   "cell_type": "code",
   "execution_count": 46,
   "id": "1710bb8e",
   "metadata": {},
   "outputs": [
    {
     "name": "stdout",
     "output_type": "stream",
     "text": [
      "80\n"
     ]
    }
   ],
   "source": [
    "a=100\n",
    "b=20\n",
    "c=a-b\n",
    "print(c)"
   ]
  },
  {
   "cell_type": "code",
   "execution_count": 50,
   "id": "3e9a7edd",
   "metadata": {},
   "outputs": [
    {
     "name": "stdout",
     "output_type": "stream",
     "text": [
      "2000\n"
     ]
    }
   ],
   "source": [
    "a=100\n",
    "b=20\n",
    "c=a*b\n",
    "print(c)"
   ]
  },
  {
   "cell_type": "code",
   "execution_count": 51,
   "id": "4f20f6df",
   "metadata": {},
   "outputs": [
    {
     "name": "stdout",
     "output_type": "stream",
     "text": [
      "5.0\n"
     ]
    }
   ],
   "source": [
    "a=100\n",
    "b=20\n",
    "c=a/b\n",
    "print(c)"
   ]
  },
  {
   "cell_type": "code",
   "execution_count": 52,
   "id": "a135e613",
   "metadata": {},
   "outputs": [
    {
     "name": "stdout",
     "output_type": "stream",
     "text": [
      "6.666666666666667\n"
     ]
    }
   ],
   "source": [
    "a=100\n",
    "b=15\n",
    "c=a/b\n",
    "print(c)"
   ]
  },
  {
   "cell_type": "code",
   "execution_count": 53,
   "id": "33b95163",
   "metadata": {},
   "outputs": [
    {
     "name": "stdout",
     "output_type": "stream",
     "text": [
      "6\n"
     ]
    }
   ],
   "source": [
    "a=100\n",
    "b=15\n",
    "c=a//b\n",
    "print(c)"
   ]
  },
  {
   "cell_type": "code",
   "execution_count": 54,
   "id": "a6431598",
   "metadata": {},
   "outputs": [
    {
     "name": "stdout",
     "output_type": "stream",
     "text": [
      "10\n"
     ]
    }
   ],
   "source": [
    "a=100\n",
    "b=15\n",
    "c=a%b\n",
    "print(c)"
   ]
  },
  {
   "cell_type": "code",
   "execution_count": 60,
   "id": "f8937ec6",
   "metadata": {},
   "outputs": [
    {
     "name": "stdout",
     "output_type": "stream",
     "text": [
      "25\n"
     ]
    }
   ],
   "source": [
    "a=5\n",
    "b=2\n",
    "c=a**b #5 square 2\n",
    "print(c)"
   ]
  },
  {
   "cell_type": "code",
   "execution_count": 62,
   "id": "1aae3429",
   "metadata": {
    "scrolled": true
   },
   "outputs": [
    {
     "name": "stdout",
     "output_type": "stream",
     "text": [
      "125\n"
     ]
    }
   ],
   "source": [
    "a=5\n",
    "b=3\n",
    "c=a**b #5 square 2\n",
    "print(c)"
   ]
  },
  {
   "cell_type": "code",
   "execution_count": null,
   "id": "c6579fc3",
   "metadata": {},
   "outputs": [],
   "source": [
    "opertor\n",
    "arithmatic\n",
    "assignment\n",
    "comparision\n",
    "logical\n",
    "identity\n",
    "bitwise"
   ]
  },
  {
   "cell_type": "code",
   "execution_count": null,
   "id": "c939771f",
   "metadata": {},
   "outputs": [],
   "source": [
    "arithmatic operator\n",
    "+,-,*,/,//,**,%"
   ]
  },
  {
   "cell_type": "code",
   "execution_count": null,
   "id": "8478a50d",
   "metadata": {},
   "outputs": [],
   "source": [
    "assignment:-\n",
    "asus,lenovo,hp\n",
    "\n",
    "laptop=\"lenovo\"\n"
   ]
  },
  {
   "cell_type": "code",
   "execution_count": null,
   "id": "30442b28",
   "metadata": {},
   "outputs": [],
   "source": [
    "comparision\n",
    "<,>,=,<=,>=,!=,=="
   ]
  },
  {
   "cell_type": "code",
   "execution_count": null,
   "id": "8f841801",
   "metadata": {},
   "outputs": [],
   "source": [
    "logical\n",
    "and , or ,in, not in\n",
    "&,|,in,not in"
   ]
  },
  {
   "cell_type": "code",
   "execution_count": null,
   "id": "1f0dc138",
   "metadata": {},
   "outputs": [],
   "source": [
    "special/identity\n",
    "between and \n"
   ]
  }
 ],
 "metadata": {
  "kernelspec": {
   "display_name": "Python 3 (ipykernel)",
   "language": "python",
   "name": "python3"
  },
  "language_info": {
   "codemirror_mode": {
    "name": "ipython",
    "version": 3
   },
   "file_extension": ".py",
   "mimetype": "text/x-python",
   "name": "python",
   "nbconvert_exporter": "python",
   "pygments_lexer": "ipython3",
   "version": "3.9.13"
  }
 },
 "nbformat": 4,
 "nbformat_minor": 5
}
