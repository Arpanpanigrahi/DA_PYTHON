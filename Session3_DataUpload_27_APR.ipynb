{
 "cells": [
  {
   "cell_type": "code",
   "execution_count": 16,
   "id": "0ff189b7",
   "metadata": {},
   "outputs": [],
   "source": [
    "name='satyam'\n",
    "number=12345\n",
    "abc= \"my name is satyam\"\n",
    "# print(name)\n"
   ]
  },
  {
   "cell_type": "code",
   "execution_count": 17,
   "id": "d525ab6e",
   "metadata": {},
   "outputs": [
    {
     "data": {
      "text/plain": [
       "'satyam'"
      ]
     },
     "execution_count": 17,
     "metadata": {},
     "output_type": "execute_result"
    }
   ],
   "source": [
    "name\n",
    "# number"
   ]
  },
  {
   "cell_type": "code",
   "execution_count": 18,
   "id": "5fbfb0b1",
   "metadata": {},
   "outputs": [
    {
     "name": "stdout",
     "output_type": "stream",
     "text": [
      "satyam\n"
     ]
    },
    {
     "data": {
      "text/plain": [
       "12345"
      ]
     },
     "execution_count": 18,
     "metadata": {},
     "output_type": "execute_result"
    }
   ],
   "source": [
    "print(name)\n",
    "number"
   ]
  },
  {
   "cell_type": "code",
   "execution_count": 19,
   "id": "0bbfc838",
   "metadata": {},
   "outputs": [
    {
     "name": "stdout",
     "output_type": "stream",
     "text": [
      "12345\n"
     ]
    }
   ],
   "source": [
    "name\n",
    "print(number)"
   ]
  },
  {
   "cell_type": "code",
   "execution_count": 20,
   "id": "a43065e3",
   "metadata": {},
   "outputs": [
    {
     "name": "stdout",
     "output_type": "stream",
     "text": [
      "my name is satyam\n"
     ]
    }
   ],
   "source": [
    "print(\"my name is satyam\")"
   ]
  },
  {
   "cell_type": "code",
   "execution_count": 21,
   "id": "5258643c",
   "metadata": {},
   "outputs": [
    {
     "name": "stdout",
     "output_type": "stream",
     "text": [
      "12345\n"
     ]
    }
   ],
   "source": [
    "print(12345)"
   ]
  },
  {
   "cell_type": "code",
   "execution_count": 23,
   "id": "bd9c1c55",
   "metadata": {},
   "outputs": [
    {
     "name": "stdout",
     "output_type": "stream",
     "text": [
      "15\n"
     ]
    }
   ],
   "source": [
    "a=10\n",
    "a=15\n",
    "print(a)"
   ]
  },
  {
   "cell_type": "code",
   "execution_count": 24,
   "id": "cb497fb5",
   "metadata": {},
   "outputs": [
    {
     "name": "stdout",
     "output_type": "stream",
     "text": [
      "15.7\n"
     ]
    }
   ],
   "source": [
    "a=15.7\n",
    "print(a)"
   ]
  },
  {
   "cell_type": "code",
   "execution_count": 25,
   "id": "1f4fc250",
   "metadata": {},
   "outputs": [
    {
     "name": "stdout",
     "output_type": "stream",
     "text": [
      "satyam\n"
     ]
    }
   ],
   "source": [
    "a=\"satyam\"\n",
    "print(a)"
   ]
  },
  {
   "cell_type": "code",
   "execution_count": null,
   "id": "602a28ac",
   "metadata": {},
   "outputs": [],
   "source": [
    "int--1,2,3,4,5\n",
    "float--1.5,2.6,3.4\n",
    "char-\"\", \"satyam\",\"akash\",\"12345\"\n",
    "date-\"06-07-1993\",\"15-12-2000\"\n",
    "boolean- True/False, 0/1, Yes/No\n",
    "complex-1+5j,3+16j\n",
    "list--\n",
    "set\n",
    "dictonary\n",
    "tupple"
   ]
  },
  {
   "cell_type": "code",
   "execution_count": 26,
   "id": "bc875439",
   "metadata": {},
   "outputs": [
    {
     "name": "stdout",
     "output_type": "stream",
     "text": [
      "10\n",
      "<class 'int'>\n"
     ]
    }
   ],
   "source": [
    "a=10\n",
    "print(a)\n",
    "print(type(a))\n",
    "\n"
   ]
  },
  {
   "cell_type": "code",
   "execution_count": 28,
   "id": "4f22e7cf",
   "metadata": {},
   "outputs": [
    {
     "name": "stdout",
     "output_type": "stream",
     "text": [
      "5.6\n",
      "<class 'float'>\n"
     ]
    }
   ],
   "source": [
    "b=5.6\n",
    "print(b)\n",
    "print(type(b))"
   ]
  },
  {
   "cell_type": "code",
   "execution_count": 29,
   "id": "f4eb7afc",
   "metadata": {},
   "outputs": [
    {
     "name": "stdout",
     "output_type": "stream",
     "text": [
      "5.0\n",
      "<class 'float'>\n"
     ]
    }
   ],
   "source": [
    "c=5.0\n",
    "print(c)\n",
    "print(type(c))"
   ]
  },
  {
   "cell_type": "code",
   "execution_count": 30,
   "id": "af21dc39",
   "metadata": {},
   "outputs": [
    {
     "name": "stdout",
     "output_type": "stream",
     "text": [
      "satyam\n",
      "<class 'str'>\n"
     ]
    }
   ],
   "source": [
    "abc=\"satyam\"\n",
    "print(abc)\n",
    "print(type(abc))"
   ]
  },
  {
   "cell_type": "code",
   "execution_count": 31,
   "id": "363649c4",
   "metadata": {},
   "outputs": [
    {
     "name": "stdout",
     "output_type": "stream",
     "text": [
      "1\n",
      "2\n",
      "3\n",
      "1 2 3\n"
     ]
    }
   ],
   "source": [
    "x,y,z=1,2,3\n",
    "print(x)\n",
    "print(y)\n",
    "print(z)\n",
    "print(x,y,z)"
   ]
  },
  {
   "cell_type": "code",
   "execution_count": 32,
   "id": "0636b1ad",
   "metadata": {},
   "outputs": [
    {
     "name": "stdout",
     "output_type": "stream",
     "text": [
      "<class 'int'>\n"
     ]
    }
   ],
   "source": [
    "z=10\n",
    "print(type(z))"
   ]
  },
  {
   "cell_type": "code",
   "execution_count": 33,
   "id": "8d6c32a3",
   "metadata": {},
   "outputs": [
    {
     "data": {
      "text/plain": [
       "10"
      ]
     },
     "execution_count": 33,
     "metadata": {},
     "output_type": "execute_result"
    }
   ],
   "source": [
    "z"
   ]
  },
  {
   "cell_type": "code",
   "execution_count": 34,
   "id": "c63a1ff2",
   "metadata": {},
   "outputs": [
    {
     "name": "stdout",
     "output_type": "stream",
     "text": [
      "10.0\n",
      "<class 'float'>\n"
     ]
    }
   ],
   "source": [
    "y=float(z)\n",
    "print(y)\n",
    "print(type(y))"
   ]
  },
  {
   "cell_type": "code",
   "execution_count": 37,
   "id": "a098f318",
   "metadata": {},
   "outputs": [
    {
     "name": "stdout",
     "output_type": "stream",
     "text": [
      "5\n",
      "<class 'int'>\n"
     ]
    }
   ],
   "source": [
    "x=5.8\n",
    "y=int(x)\n",
    "print(y)\n",
    "print(type(y))"
   ]
  },
  {
   "cell_type": "code",
   "execution_count": 38,
   "id": "9d9e0c4f",
   "metadata": {},
   "outputs": [
    {
     "name": "stdout",
     "output_type": "stream",
     "text": [
      "10\n",
      "<class 'str'>\n"
     ]
    }
   ],
   "source": [
    "x=10\n",
    "y=str(x)\n",
    "print(y)\n",
    "print(type(y))"
   ]
  },
  {
   "cell_type": "code",
   "execution_count": 39,
   "id": "01d7c2e3",
   "metadata": {},
   "outputs": [
    {
     "name": "stdout",
     "output_type": "stream",
     "text": [
      "10\n"
     ]
    }
   ],
   "source": [
    "print(y)"
   ]
  },
  {
   "cell_type": "code",
   "execution_count": 41,
   "id": "20b9215b",
   "metadata": {},
   "outputs": [
    {
     "name": "stdout",
     "output_type": "stream",
     "text": [
      "20\n"
     ]
    }
   ],
   "source": [
    "abc=10\n",
    "print(abc+10)"
   ]
  },
  {
   "cell_type": "code",
   "execution_count": 43,
   "id": "f7176729",
   "metadata": {},
   "outputs": [
    {
     "name": "stdout",
     "output_type": "stream",
     "text": [
      "True\n"
     ]
    }
   ],
   "source": [
    "print(15<20)"
   ]
  },
  {
   "cell_type": "code",
   "execution_count": 44,
   "id": "7a5f1853",
   "metadata": {},
   "outputs": [
    {
     "name": "stdout",
     "output_type": "stream",
     "text": [
      "False\n"
     ]
    }
   ],
   "source": [
    "print(15>20)"
   ]
  },
  {
   "cell_type": "code",
   "execution_count": 45,
   "id": "a727e958",
   "metadata": {},
   "outputs": [
    {
     "name": "stdout",
     "output_type": "stream",
     "text": [
      "120\n"
     ]
    }
   ],
   "source": [
    "a=100\n",
    "b=20\n",
    "c=a+b\n",
    "print(c)"
   ]
  },
  {
   "cell_type": "code",
   "execution_count": 46,
   "id": "c7870af1",
   "metadata": {},
   "outputs": [
    {
     "name": "stdout",
     "output_type": "stream",
     "text": [
      "80\n"
     ]
    }
   ],
   "source": [
    "a=100\n",
    "b=20\n",
    "c=a-b\n",
    "print(c)"
   ]
  },
  {
   "cell_type": "code",
   "execution_count": 50,
   "id": "10201e9c",
   "metadata": {},
   "outputs": [
    {
     "name": "stdout",
     "output_type": "stream",
     "text": [
      "2000\n"
     ]
    }
   ],
   "source": [
    "a=100\n",
    "b=20\n",
    "c=a*b\n",
    "print(c)"
   ]
  },
  {
   "cell_type": "code",
   "execution_count": 51,
   "id": "7941ac84",
   "metadata": {},
   "outputs": [
    {
     "name": "stdout",
     "output_type": "stream",
     "text": [
      "5.0\n"
     ]
    }
   ],
   "source": [
    "a=100\n",
    "b=20\n",
    "c=a/b\n",
    "print(c)"
   ]
  },
  {
   "cell_type": "code",
   "execution_count": 52,
   "id": "6c9a0f06",
   "metadata": {},
   "outputs": [
    {
     "name": "stdout",
     "output_type": "stream",
     "text": [
      "6.666666666666667\n"
     ]
    }
   ],
   "source": [
    "a=100\n",
    "b=15\n",
    "c=a/b\n",
    "print(c)"
   ]
  },
  {
   "cell_type": "code",
   "execution_count": 53,
   "id": "93ac0b55",
   "metadata": {},
   "outputs": [
    {
     "name": "stdout",
     "output_type": "stream",
     "text": [
      "6\n"
     ]
    }
   ],
   "source": [
    "a=100\n",
    "b=15\n",
    "c=a//b\n",
    "print(c)"
   ]
  },
  {
   "cell_type": "code",
   "execution_count": 54,
   "id": "cf777bd8",
   "metadata": {},
   "outputs": [
    {
     "name": "stdout",
     "output_type": "stream",
     "text": [
      "10\n"
     ]
    }
   ],
   "source": [
    "a=100\n",
    "b=15\n",
    "c=a%b\n",
    "print(c)"
   ]
  },
  {
   "cell_type": "code",
   "execution_count": 60,
   "id": "e480ee2a",
   "metadata": {},
   "outputs": [
    {
     "name": "stdout",
     "output_type": "stream",
     "text": [
      "25\n"
     ]
    }
   ],
   "source": [
    "a=5\n",
    "b=2\n",
    "c=a**b #5 square 2\n",
    "print(c)"
   ]
  },
  {
   "cell_type": "code",
   "execution_count": 62,
   "id": "9c9c06ac",
   "metadata": {
    "scrolled": true
   },
   "outputs": [
    {
     "name": "stdout",
     "output_type": "stream",
     "text": [
      "125\n"
     ]
    }
   ],
   "source": [
    "a=5\n",
    "b=3\n",
    "c=a**b #5 square 2\n",
    "print(c)"
   ]
  },
  {
   "cell_type": "code",
   "execution_count": null,
   "id": "de16d9a0",
   "metadata": {},
   "outputs": [],
   "source": [
    "opertor\n",
    "arithmatic\n",
    "assignment\n",
    "comparision\n",
    "logical\n",
    "identity\n",
    "bitwise"
   ]
  },
  {
   "cell_type": "code",
   "execution_count": null,
   "id": "7b6fd615",
   "metadata": {},
   "outputs": [],
   "source": [
    "arithmatic operator\n",
    "+,-,*,/,//,**,%"
   ]
  },
  {
   "cell_type": "code",
   "execution_count": null,
   "id": "85ec19ae",
   "metadata": {},
   "outputs": [],
   "source": [
    "assignment:-\n",
    "asus,lenovo,hp\n",
    "\n",
    "laptop=\"lenovo\"\n"
   ]
  },
  {
   "cell_type": "code",
   "execution_count": null,
   "id": "6a3caf51",
   "metadata": {},
   "outputs": [],
   "source": [
    "comparision\n",
    "<,>,=,<=,>=,!=,=="
   ]
  },
  {
   "cell_type": "code",
   "execution_count": null,
   "id": "383734fc",
   "metadata": {},
   "outputs": [],
   "source": [
    "logical\n",
    "and , or ,in, not in\n",
    "&,|,in,not in"
   ]
  },
  {
   "cell_type": "code",
   "execution_count": null,
   "id": "901bf679",
   "metadata": {},
   "outputs": [],
   "source": [
    "special/identity\n",
    "between and \n"
   ]
  },
  {
   "cell_type": "code",
   "execution_count": null,
   "id": "6572bba8",
   "metadata": {},
   "outputs": [],
   "source": [
    "#data types in Python\n",
    "int,float,boolean,string,complex,date\n",
    "\n",
    "List,set,dictionary,Tuple"
   ]
  },
  {
   "cell_type": "code",
   "execution_count": null,
   "id": "dbf1fc05",
   "metadata": {},
   "outputs": [],
   "source": [
    "#List datatype\n",
    "1. Mention in square bracket-[]\n",
    "2.Collection of item (includes int,float,string)\n",
    "3.It is mutable- means we can change,add,remove items from a list\n"
   ]
  },
  {
   "cell_type": "code",
   "execution_count": 64,
   "id": "ef13e228",
   "metadata": {},
   "outputs": [
    {
     "data": {
      "text/plain": [
       "list"
      ]
     },
     "execution_count": 64,
     "metadata": {},
     "output_type": "execute_result"
    }
   ],
   "source": [
    "abc=[1,2,3,\"apple\",\"grapes\"]\n",
    "type(abc)"
   ]
  },
  {
   "cell_type": "code",
   "execution_count": 65,
   "id": "b77bf4d7",
   "metadata": {},
   "outputs": [
    {
     "data": {
      "text/plain": [
       "5"
      ]
     },
     "execution_count": 65,
     "metadata": {},
     "output_type": "execute_result"
    }
   ],
   "source": [
    "# no of item present in a list\n",
    "len(abc)"
   ]
  },
  {
   "cell_type": "code",
   "execution_count": 67,
   "id": "a1900393",
   "metadata": {},
   "outputs": [],
   "source": [
    "# add item to a list in the last position\n",
    "abc.append(\"Banana\")"
   ]
  },
  {
   "cell_type": "code",
   "execution_count": 68,
   "id": "63921852",
   "metadata": {},
   "outputs": [
    {
     "name": "stdout",
     "output_type": "stream",
     "text": [
      "[1, 2, 3, 'apple', 'grapes', 'Banana']\n"
     ]
    }
   ],
   "source": [
    "print(abc)"
   ]
  },
  {
   "cell_type": "code",
   "execution_count": 69,
   "id": "7592a0e1",
   "metadata": {},
   "outputs": [
    {
     "data": {
      "text/plain": [
       "[1, 2, 3, 'apple', 'grapes', 'Banana']"
      ]
     },
     "execution_count": 69,
     "metadata": {},
     "output_type": "execute_result"
    }
   ],
   "source": [
    "# Indexing\n",
    "abc[:]"
   ]
  },
  {
   "cell_type": "code",
   "execution_count": 70,
   "id": "5c1e6923",
   "metadata": {},
   "outputs": [
    {
     "data": {
      "text/plain": [
       "[2, 3, 'apple', 'grapes', 'Banana']"
      ]
     },
     "execution_count": 70,
     "metadata": {},
     "output_type": "execute_result"
    }
   ],
   "source": [
    "abc[1:]"
   ]
  },
  {
   "cell_type": "code",
   "execution_count": 71,
   "id": "b34ee6ce",
   "metadata": {},
   "outputs": [
    {
     "data": {
      "text/plain": [
       "[3, 'apple', 'grapes', 'Banana']"
      ]
     },
     "execution_count": 71,
     "metadata": {},
     "output_type": "execute_result"
    }
   ],
   "source": [
    "abc[2:]"
   ]
  },
  {
   "cell_type": "code",
   "execution_count": 72,
   "id": "e7905e1c",
   "metadata": {},
   "outputs": [
    {
     "data": {
      "text/plain": [
       "[3, 'apple', 'grapes']"
      ]
     },
     "execution_count": 72,
     "metadata": {},
     "output_type": "execute_result"
    }
   ],
   "source": [
    "abc[2:5]"
   ]
  },
  {
   "cell_type": "code",
   "execution_count": 73,
   "id": "9fcf7dbb",
   "metadata": {},
   "outputs": [
    {
     "data": {
      "text/plain": [
       "[1, 2, 3, 'apple']"
      ]
     },
     "execution_count": 73,
     "metadata": {},
     "output_type": "execute_result"
    }
   ],
   "source": [
    "abc[:4]"
   ]
  },
  {
   "cell_type": "code",
   "execution_count": 74,
   "id": "5eec576c",
   "metadata": {},
   "outputs": [
    {
     "data": {
      "text/plain": [
       "[3, 'apple']"
      ]
     },
     "execution_count": 74,
     "metadata": {},
     "output_type": "execute_result"
    }
   ],
   "source": [
    "abc[2:4]"
   ]
  },
  {
   "cell_type": "code",
   "execution_count": 75,
   "id": "878ce397",
   "metadata": {},
   "outputs": [
    {
     "data": {
      "text/plain": [
       "['Banana', 'grapes', 'apple', 3, 2, 1]"
      ]
     },
     "execution_count": 75,
     "metadata": {},
     "output_type": "execute_result"
    }
   ],
   "source": [
    "# Reverse string value in a list\n",
    "abc[::-1]"
   ]
  },
  {
   "cell_type": "code",
   "execution_count": 77,
   "id": "11171729",
   "metadata": {},
   "outputs": [
    {
     "data": {
      "text/plain": [
       "'Banana'"
      ]
     },
     "execution_count": 77,
     "metadata": {},
     "output_type": "execute_result"
    }
   ],
   "source": [
    "abc[-1]"
   ]
  },
  {
   "cell_type": "code",
   "execution_count": 78,
   "id": "ba14fdab",
   "metadata": {},
   "outputs": [
    {
     "data": {
      "text/plain": [
       "[1, 2, 3, 'apple', 'grapes', 'Banana']"
      ]
     },
     "execution_count": 78,
     "metadata": {},
     "output_type": "execute_result"
    }
   ],
   "source": [
    "abc"
   ]
  },
  {
   "cell_type": "code",
   "execution_count": 81,
   "id": "d66cc512",
   "metadata": {},
   "outputs": [
    {
     "data": {
      "text/plain": [
       "'Banana'"
      ]
     },
     "execution_count": 81,
     "metadata": {},
     "output_type": "execute_result"
    }
   ],
   "source": [
    "abc[5]"
   ]
  },
  {
   "cell_type": "code",
   "execution_count": 83,
   "id": "96eb7dcb",
   "metadata": {},
   "outputs": [
    {
     "data": {
      "text/plain": [
       "[1, 2, 3, 'apple', 'grapes', 'Banana']"
      ]
     },
     "execution_count": 83,
     "metadata": {},
     "output_type": "execute_result"
    }
   ],
   "source": [
    "abc"
   ]
  },
  {
   "cell_type": "code",
   "execution_count": 84,
   "id": "c578d2a1",
   "metadata": {},
   "outputs": [
    {
     "data": {
      "text/plain": [
       "[1, 2, 3, 4, 'apple', 'grapes', 'Banana']"
      ]
     },
     "execution_count": 84,
     "metadata": {},
     "output_type": "execute_result"
    }
   ],
   "source": [
    "# insert item in between the list\n",
    "abc.insert(3,4)\n",
    "abc"
   ]
  },
  {
   "cell_type": "code",
   "execution_count": 85,
   "id": "c9040142",
   "metadata": {},
   "outputs": [
    {
     "data": {
      "text/plain": [
       "[1, 2, 3, 4, 'apple', 'grapes', 'Banana']"
      ]
     },
     "execution_count": 85,
     "metadata": {},
     "output_type": "execute_result"
    }
   ],
   "source": [
    "abc"
   ]
  },
  {
   "cell_type": "code",
   "execution_count": 87,
   "id": "552d6249",
   "metadata": {},
   "outputs": [],
   "source": [
    "abc.append(5)"
   ]
  },
  {
   "cell_type": "code",
   "execution_count": 88,
   "id": "0b319b1c",
   "metadata": {},
   "outputs": [
    {
     "data": {
      "text/plain": [
       "[1, 2, 3, 4, 'apple', 'grapes', 'Banana', 5]"
      ]
     },
     "execution_count": 88,
     "metadata": {},
     "output_type": "execute_result"
    }
   ],
   "source": [
    "abc"
   ]
  },
  {
   "cell_type": "code",
   "execution_count": 90,
   "id": "3ce85bc0",
   "metadata": {},
   "outputs": [],
   "source": [
    "abc.append([6])"
   ]
  },
  {
   "cell_type": "code",
   "execution_count": 91,
   "id": "9d091ad9",
   "metadata": {},
   "outputs": [
    {
     "data": {
      "text/plain": [
       "[1, 2, 3, 4, 'apple', 'grapes', 'Banana', 5, [6]]"
      ]
     },
     "execution_count": 91,
     "metadata": {},
     "output_type": "execute_result"
    }
   ],
   "source": [
    "abc"
   ]
  },
  {
   "cell_type": "code",
   "execution_count": 100,
   "id": "438f7e6c",
   "metadata": {},
   "outputs": [
    {
     "data": {
      "text/plain": [
       "[1, 2, 3, 'apple', 'grapes']"
      ]
     },
     "execution_count": 100,
     "metadata": {},
     "output_type": "execute_result"
    }
   ],
   "source": [
    "xyz=[1,2,3,\"apple\",\"grapes\"]\n",
    "xyz"
   ]
  },
  {
   "cell_type": "code",
   "execution_count": 101,
   "id": "ff1923f5",
   "metadata": {},
   "outputs": [],
   "source": [
    "xyz.append([4,5])"
   ]
  },
  {
   "cell_type": "code",
   "execution_count": 102,
   "id": "b67efcf6",
   "metadata": {},
   "outputs": [
    {
     "data": {
      "text/plain": [
       "[1, 2, 3, 'apple', 'grapes', [4, 5]]"
      ]
     },
     "execution_count": 102,
     "metadata": {},
     "output_type": "execute_result"
    }
   ],
   "source": [
    "xyz"
   ]
  },
  {
   "cell_type": "code",
   "execution_count": 103,
   "id": "f92701b9",
   "metadata": {},
   "outputs": [],
   "source": [
    "xyz.extend([4,5])"
   ]
  },
  {
   "cell_type": "code",
   "execution_count": 104,
   "id": "3c5040ce",
   "metadata": {},
   "outputs": [
    {
     "data": {
      "text/plain": [
       "[1, 2, 3, 'apple', 'grapes', [4, 5], 4, 5]"
      ]
     },
     "execution_count": 104,
     "metadata": {},
     "output_type": "execute_result"
    }
   ],
   "source": [
    "xyz"
   ]
  },
  {
   "cell_type": "code",
   "execution_count": 105,
   "id": "016c4723",
   "metadata": {},
   "outputs": [
    {
     "data": {
      "text/plain": [
       "[4, 5]"
      ]
     },
     "execution_count": 105,
     "metadata": {},
     "output_type": "execute_result"
    }
   ],
   "source": [
    "# remove a item in a list\n",
    "xyz.pop(5)"
   ]
  },
  {
   "cell_type": "code",
   "execution_count": 106,
   "id": "55a28eed",
   "metadata": {},
   "outputs": [
    {
     "data": {
      "text/plain": [
       "[1, 2, 3, 'apple', 'grapes', 4, 5]"
      ]
     },
     "execution_count": 106,
     "metadata": {},
     "output_type": "execute_result"
    }
   ],
   "source": [
    "xyz"
   ]
  },
  {
   "cell_type": "code",
   "execution_count": 108,
   "id": "cb256982",
   "metadata": {},
   "outputs": [],
   "source": [
    "# replacing item with a another item\n",
    "xyz[4]=\"Banana\""
   ]
  },
  {
   "cell_type": "code",
   "execution_count": 109,
   "id": "1afd81ba",
   "metadata": {},
   "outputs": [
    {
     "data": {
      "text/plain": [
       "[1, 2, 3, 'apple', 'Banana', 4, 5]"
      ]
     },
     "execution_count": 109,
     "metadata": {},
     "output_type": "execute_result"
    }
   ],
   "source": [
    "xyz"
   ]
  },
  {
   "cell_type": "code",
   "execution_count": 116,
   "id": "ea3db9b4",
   "metadata": {},
   "outputs": [
    {
     "name": "stdout",
     "output_type": "stream",
     "text": [
      "[1, 2, 3, 4, 5, 1, 2, 3, 4, 5, 1, 2, 3, 4, 5]\n"
     ]
    }
   ],
   "source": [
    "xyz=[1,2,3,4,5]\n",
    "print(xyz*3)"
   ]
  },
  {
   "cell_type": "code",
   "execution_count": null,
   "id": "3f41d9c4",
   "metadata": {},
   "outputs": [],
   "source": [
    "set\n",
    "1.we cant do indexing in set\n",
    "2.It has only unique value\n",
    "3. written in curly bracket-{}"
   ]
  },
  {
   "cell_type": "code",
   "execution_count": 110,
   "id": "25da125c",
   "metadata": {},
   "outputs": [
    {
     "data": {
      "text/plain": [
       "{1, 2, 3, 'apple', 'banana'}"
      ]
     },
     "execution_count": 110,
     "metadata": {},
     "output_type": "execute_result"
    }
   ],
   "source": [
    "abc={1,2,3,\"apple\",\"banana\"}\n",
    "abc"
   ]
  },
  {
   "cell_type": "code",
   "execution_count": 111,
   "id": "30b62a91",
   "metadata": {},
   "outputs": [
    {
     "data": {
      "text/plain": [
       "set"
      ]
     },
     "execution_count": 111,
     "metadata": {},
     "output_type": "execute_result"
    }
   ],
   "source": [
    "type(abc)"
   ]
  },
  {
   "cell_type": "code",
   "execution_count": 112,
   "id": "13e6af51",
   "metadata": {},
   "outputs": [
    {
     "data": {
      "text/plain": [
       "5"
      ]
     },
     "execution_count": 112,
     "metadata": {},
     "output_type": "execute_result"
    }
   ],
   "source": [
    "len(abc)"
   ]
  },
  {
   "cell_type": "code",
   "execution_count": 114,
   "id": "e656f18c",
   "metadata": {},
   "outputs": [],
   "source": [
    "# add item to a set\n",
    "abc.add(\"mango\")"
   ]
  },
  {
   "cell_type": "code",
   "execution_count": 115,
   "id": "a98c224c",
   "metadata": {},
   "outputs": [
    {
     "data": {
      "text/plain": [
       "{1, 2, 3, 'apple', 'banana', 'mango'}"
      ]
     },
     "execution_count": 115,
     "metadata": {},
     "output_type": "execute_result"
    }
   ],
   "source": [
    "abc "
   ]
  },
  {
   "cell_type": "code",
   "execution_count": 117,
   "id": "c846815c",
   "metadata": {},
   "outputs": [],
   "source": [
    "abc={1,2,3,4,5,1,2}"
   ]
  },
  {
   "cell_type": "code",
   "execution_count": 118,
   "id": "3d129828",
   "metadata": {},
   "outputs": [
    {
     "data": {
      "text/plain": [
       "{1, 2, 3, 4, 5}"
      ]
     },
     "execution_count": 118,
     "metadata": {},
     "output_type": "execute_result"
    }
   ],
   "source": [
    "abc"
   ]
  },
  {
   "cell_type": "code",
   "execution_count": 119,
   "id": "b7492212",
   "metadata": {},
   "outputs": [],
   "source": [
    "set1={\"A\",\"B\",\"C\"}\n",
    "set2={\"A\",\"B\",\"C\",\"D\",\"E\"}\n"
   ]
  },
  {
   "cell_type": "code",
   "execution_count": 120,
   "id": "c64b36fb",
   "metadata": {},
   "outputs": [
    {
     "data": {
      "text/plain": [
       "{'D', 'E'}"
      ]
     },
     "execution_count": 120,
     "metadata": {},
     "output_type": "execute_result"
    }
   ],
   "source": [
    "set2.difference(set1)"
   ]
  },
  {
   "cell_type": "code",
   "execution_count": 121,
   "id": "eb3a8472",
   "metadata": {},
   "outputs": [
    {
     "data": {
      "text/plain": [
       "{'A', 'B', 'C'}"
      ]
     },
     "execution_count": 121,
     "metadata": {},
     "output_type": "execute_result"
    }
   ],
   "source": [
    "set2.intersection(set1)"
   ]
  },
  {
   "cell_type": "code",
   "execution_count": null,
   "id": "b6dcfb45",
   "metadata": {},
   "outputs": [],
   "source": [
    "dictionaries\n",
    "1.There is key & its value is asssociated.\n",
    "2.Mutuable-We can add, change & remove item\n",
    "3. With in curly bracket having keys & values\n"
   ]
  },
  {
   "cell_type": "code",
   "execution_count": 126,
   "id": "4045a3ee",
   "metadata": {},
   "outputs": [],
   "source": [
    "dict={\"A\":1,\"B\":2,\"C\":3,\"D\":4}\n"
   ]
  },
  {
   "cell_type": "code",
   "execution_count": 128,
   "id": "7964f542",
   "metadata": {},
   "outputs": [
    {
     "data": {
      "text/plain": [
       "dict_keys(['A', 'B', 'C', 'D'])"
      ]
     },
     "execution_count": 128,
     "metadata": {},
     "output_type": "execute_result"
    }
   ],
   "source": [
    "dict.keys()"
   ]
  },
  {
   "cell_type": "code",
   "execution_count": 129,
   "id": "31f95774",
   "metadata": {},
   "outputs": [
    {
     "data": {
      "text/plain": [
       "dict_values([1, 2, 3, 4])"
      ]
     },
     "execution_count": 129,
     "metadata": {},
     "output_type": "execute_result"
    }
   ],
   "source": [
    "dict.values()"
   ]
  },
  {
   "cell_type": "code",
   "execution_count": 130,
   "id": "7fd59f48",
   "metadata": {},
   "outputs": [
    {
     "data": {
      "text/plain": [
       "dict"
      ]
     },
     "execution_count": 130,
     "metadata": {},
     "output_type": "execute_result"
    }
   ],
   "source": [
    "type(dict)"
   ]
  },
  {
   "cell_type": "code",
   "execution_count": 134,
   "id": "a96f47ac",
   "metadata": {
    "scrolled": true
   },
   "outputs": [
    {
     "data": {
      "text/plain": [
       "4"
      ]
     },
     "execution_count": 134,
     "metadata": {},
     "output_type": "execute_result"
    }
   ],
   "source": [
    "dict[\"D\"]"
   ]
  },
  {
   "cell_type": "code",
   "execution_count": 139,
   "id": "3ad17aa1",
   "metadata": {},
   "outputs": [
    {
     "data": {
      "text/plain": [
       "{'A': 1, 'B': 2, 'C': 3, 'D': 4}"
      ]
     },
     "execution_count": 139,
     "metadata": {},
     "output_type": "execute_result"
    }
   ],
   "source": [
    "dict"
   ]
  },
  {
   "cell_type": "code",
   "execution_count": 140,
   "id": "bd9ea769",
   "metadata": {},
   "outputs": [
    {
     "name": "stdout",
     "output_type": "stream",
     "text": [
      "A\n",
      "B\n",
      "C\n",
      "D\n"
     ]
    }
   ],
   "source": [
    "for y in dict.keys():\n",
    "    print(y)"
   ]
  },
  {
   "cell_type": "code",
   "execution_count": 136,
   "id": "5280d772",
   "metadata": {},
   "outputs": [
    {
     "name": "stdout",
     "output_type": "stream",
     "text": [
      "1\n",
      "2\n",
      "3\n",
      "4\n"
     ]
    }
   ],
   "source": [
    "for x in dict.values():\n",
    "    print(x)"
   ]
  },
  {
   "cell_type": "code",
   "execution_count": 137,
   "id": "c09e655a",
   "metadata": {},
   "outputs": [
    {
     "name": "stdout",
     "output_type": "stream",
     "text": [
      "('A', 1)\n",
      "('B', 2)\n",
      "('C', 3)\n",
      "('D', 4)\n"
     ]
    }
   ],
   "source": [
    "for x in dict.items():\n",
    "    print(x)"
   ]
  },
  {
   "cell_type": "code",
   "execution_count": 141,
   "id": "8c89c3ce",
   "metadata": {},
   "outputs": [
    {
     "data": {
      "text/plain": [
       "{'A': 1, 'B': 2, 'C': 3, 'D': 5}"
      ]
     },
     "execution_count": 141,
     "metadata": {},
     "output_type": "execute_result"
    }
   ],
   "source": [
    "dict[\"D\"]=5\n",
    "dict"
   ]
  },
  {
   "cell_type": "code",
   "execution_count": 142,
   "id": "74f26834",
   "metadata": {},
   "outputs": [],
   "source": [
    "dict[\"C\"]=10"
   ]
  },
  {
   "cell_type": "code",
   "execution_count": 143,
   "id": "e5991c7d",
   "metadata": {},
   "outputs": [
    {
     "data": {
      "text/plain": [
       "{'A': 1, 'B': 2, 'C': 10, 'D': 5}"
      ]
     },
     "execution_count": 143,
     "metadata": {},
     "output_type": "execute_result"
    }
   ],
   "source": [
    "dict"
   ]
  },
  {
   "cell_type": "code",
   "execution_count": null,
   "id": "31481695",
   "metadata": {},
   "outputs": [],
   "source": [
    "tuples\n",
    "1.Immutable- cant add, remove,change the items\n",
    "2.mentioned in ()\n"
   ]
  },
  {
   "cell_type": "code",
   "execution_count": 144,
   "id": "b19017f8",
   "metadata": {},
   "outputs": [
    {
     "data": {
      "text/plain": [
       "(1, 2, 3, 'apple', 'HP')"
      ]
     },
     "execution_count": 144,
     "metadata": {},
     "output_type": "execute_result"
    }
   ],
   "source": [
    "abc=(1,2,3,\"apple\",\"HP\")\n",
    "abc"
   ]
  },
  {
   "cell_type": "code",
   "execution_count": 145,
   "id": "5e21b739",
   "metadata": {},
   "outputs": [
    {
     "data": {
      "text/plain": [
       "tuple"
      ]
     },
     "execution_count": 145,
     "metadata": {},
     "output_type": "execute_result"
    }
   ],
   "source": [
    "type(abc)"
   ]
  },
  {
   "cell_type": "code",
   "execution_count": 146,
   "id": "b69ecd18",
   "metadata": {},
   "outputs": [
    {
     "data": {
      "text/plain": [
       "5"
      ]
     },
     "execution_count": 146,
     "metadata": {},
     "output_type": "execute_result"
    }
   ],
   "source": [
    "len(abc)"
   ]
  },
  {
   "cell_type": "code",
   "execution_count": 147,
   "id": "e4a305b6",
   "metadata": {},
   "outputs": [
    {
     "data": {
      "text/plain": [
       "1"
      ]
     },
     "execution_count": 147,
     "metadata": {},
     "output_type": "execute_result"
    }
   ],
   "source": [
    "abc[0]"
   ]
  },
  {
   "cell_type": "code",
   "execution_count": 148,
   "id": "d3e1b91d",
   "metadata": {},
   "outputs": [
    {
     "data": {
      "text/plain": [
       "1"
      ]
     },
     "execution_count": 148,
     "metadata": {},
     "output_type": "execute_result"
    }
   ],
   "source": [
    "abc.count(1)"
   ]
  },
  {
   "cell_type": "code",
   "execution_count": 150,
   "id": "4545b7ef",
   "metadata": {},
   "outputs": [],
   "source": [
    "abc=(1,1,1,2,2,4,5,6,6)\n"
   ]
  },
  {
   "cell_type": "code",
   "execution_count": 153,
   "id": "dfa9079c",
   "metadata": {},
   "outputs": [
    {
     "data": {
      "text/plain": [
       "1"
      ]
     },
     "execution_count": 153,
     "metadata": {},
     "output_type": "execute_result"
    }
   ],
   "source": [
    "abc.count(4)"
   ]
  },
  {
   "cell_type": "code",
   "execution_count": 161,
   "id": "933d3fe2",
   "metadata": {},
   "outputs": [
    {
     "data": {
      "text/plain": [
       "'HP'"
      ]
     },
     "execution_count": 161,
     "metadata": {},
     "output_type": "execute_result"
    }
   ],
   "source": [
    "abc=(1,2,3,\"HP\",\"Apple\")\n",
    "abc[3]"
   ]
  },
  {
   "cell_type": "code",
   "execution_count": 155,
   "id": "d472bcab",
   "metadata": {},
   "outputs": [
    {
     "data": {
      "text/plain": [
       "3"
      ]
     },
     "execution_count": 155,
     "metadata": {},
     "output_type": "execute_result"
    }
   ],
   "source": [
    "abc.index(\"HP\")"
   ]
  },
  {
   "cell_type": "code",
   "execution_count": 156,
   "id": "ae00528e",
   "metadata": {},
   "outputs": [
    {
     "data": {
      "text/plain": [
       "1"
      ]
     },
     "execution_count": 156,
     "metadata": {},
     "output_type": "execute_result"
    }
   ],
   "source": [
    "abc=[1,2,3]\n",
    "abc.index(2)"
   ]
  },
  {
   "cell_type": "code",
   "execution_count": 162,
   "id": "14a8ea1c",
   "metadata": {},
   "outputs": [
    {
     "data": {
      "text/plain": [
       "4"
      ]
     },
     "execution_count": 162,
     "metadata": {},
     "output_type": "execute_result"
    }
   ],
   "source": [
    "abc.index(\"apple\")"
   ]
  },
  {
   "cell_type": "code",
   "execution_count": 1,
   "id": "16d94995",
   "metadata": {},
   "outputs": [
    {
     "name": "stdout",
     "output_type": "stream",
     "text": [
      "[1, 2, 3, 1, 2, 3, 1, 2, 3]\n"
     ]
    }
   ],
   "source": [
    "list,set,dict,tuple\n",
    "lst=[1,2,3,\"abc\",\"xyz\"]\n",
    "print(lst*3)"
   ]
  },
  {
   "cell_type": "code",
   "execution_count": null,
   "id": "cd3f9254",
   "metadata": {},
   "outputs": [],
   "source": [
    "import export data from different format."
   ]
  },
  {
   "cell_type": "code",
   "execution_count": null,
   "id": "921f825b",
   "metadata": {},
   "outputs": [],
   "source": [
    "python has different libraries for different operations.\n",
    "frequently used lirarry\n",
    "-pandas:-manipulation,analysis,import,export,cleaning of data\n",
    "-numpy-numerical opration on array\n",
    "-matplotlib-bar char,line chart,histogram,bubble chart\n",
    "-seaborn-box plot\n",
    "-scikitlearn-machine learing "
   ]
  },
  {
   "cell_type": "code",
   "execution_count": 19,
   "id": "e6356ec1",
   "metadata": {},
   "outputs": [],
   "source": [
    "import pandas as pd"
   ]
  },
  {
   "cell_type": "code",
   "execution_count": 26,
   "id": "85599664",
   "metadata": {},
   "outputs": [],
   "source": [
    "# for data import\n",
    "\n",
    "# akash_tbl= pd.read_excel(r\"C:\\Users\\ARPAN PANIGRAHI\\Sample-Superstore_Dashboard.xlsx\", sheet_name=\"Sheet1\")\n",
    "akash_tbl= pd.read_csv(r\"C:\\Users\\user\\OneDrive - Alliance University\\Desktop\\New folder (6)\\VRINDA.csv\")"
   ]
  },
  {
   "cell_type": "code",
   "execution_count": 28,
   "id": "89cadd46",
   "metadata": {
    "collapsed": true
   },
   "outputs": [
    {
     "data": {
      "text/html": [
       "<div>\n",
       "<style scoped>\n",
       "    .dataframe tbody tr th:only-of-type {\n",
       "        vertical-align: middle;\n",
       "    }\n",
       "\n",
       "    .dataframe tbody tr th {\n",
       "        vertical-align: top;\n",
       "    }\n",
       "\n",
       "    .dataframe thead th {\n",
       "        text-align: right;\n",
       "    }\n",
       "</style>\n",
       "<table border=\"1\" class=\"dataframe\">\n",
       "  <thead>\n",
       "    <tr style=\"text-align: right;\">\n",
       "      <th></th>\n",
       "      <th>index</th>\n",
       "      <th>Order ID</th>\n",
       "      <th>Cust ID</th>\n",
       "      <th>Gender</th>\n",
       "      <th>Age</th>\n",
       "      <th>Date</th>\n",
       "      <th>Status</th>\n",
       "      <th>Channel</th>\n",
       "      <th>SKU</th>\n",
       "      <th>Category</th>\n",
       "      <th>Size</th>\n",
       "      <th>Qty</th>\n",
       "      <th>currency</th>\n",
       "      <th>Amount</th>\n",
       "      <th>ship-city</th>\n",
       "      <th>ship-state</th>\n",
       "      <th>ship-postal-code</th>\n",
       "      <th>ship-country</th>\n",
       "      <th>B2B</th>\n",
       "    </tr>\n",
       "  </thead>\n",
       "  <tbody>\n",
       "    <tr>\n",
       "      <th>0</th>\n",
       "      <td>1</td>\n",
       "      <td>171-1029312-3038738</td>\n",
       "      <td>1029312</td>\n",
       "      <td>Women</td>\n",
       "      <td>44</td>\n",
       "      <td>04-12-2022</td>\n",
       "      <td>Delivered</td>\n",
       "      <td>Myntra</td>\n",
       "      <td>JNE1233-BLUE-KR-031-XXL</td>\n",
       "      <td>kurta</td>\n",
       "      <td>XXL</td>\n",
       "      <td>1</td>\n",
       "      <td>INR</td>\n",
       "      <td>376</td>\n",
       "      <td>MOHALI</td>\n",
       "      <td>PUNJAB</td>\n",
       "      <td>140301</td>\n",
       "      <td>IN</td>\n",
       "      <td>False</td>\n",
       "    </tr>\n",
       "    <tr>\n",
       "      <th>1</th>\n",
       "      <td>2</td>\n",
       "      <td>405-2183842-2225946</td>\n",
       "      <td>2183842</td>\n",
       "      <td>Women</td>\n",
       "      <td>29</td>\n",
       "      <td>04-12-2022</td>\n",
       "      <td>Delivered</td>\n",
       "      <td>Ajio</td>\n",
       "      <td>SET414-KR-NP-L</td>\n",
       "      <td>Set</td>\n",
       "      <td>L</td>\n",
       "      <td>1</td>\n",
       "      <td>INR</td>\n",
       "      <td>1449</td>\n",
       "      <td>GURUGRAM</td>\n",
       "      <td>HARYANA</td>\n",
       "      <td>122002</td>\n",
       "      <td>IN</td>\n",
       "      <td>False</td>\n",
       "    </tr>\n",
       "    <tr>\n",
       "      <th>2</th>\n",
       "      <td>3</td>\n",
       "      <td>171-1641533-8921966</td>\n",
       "      <td>1641533</td>\n",
       "      <td>Women</td>\n",
       "      <td>67</td>\n",
       "      <td>04-12-2022</td>\n",
       "      <td>Delivered</td>\n",
       "      <td>Myntra</td>\n",
       "      <td>SET261-KR-PP-S</td>\n",
       "      <td>Set</td>\n",
       "      <td>S</td>\n",
       "      <td>1</td>\n",
       "      <td>INR</td>\n",
       "      <td>453</td>\n",
       "      <td>KOLKATA</td>\n",
       "      <td>WEST BENGAL</td>\n",
       "      <td>700029</td>\n",
       "      <td>IN</td>\n",
       "      <td>False</td>\n",
       "    </tr>\n",
       "    <tr>\n",
       "      <th>3</th>\n",
       "      <td>4</td>\n",
       "      <td>404-7490807-6300351</td>\n",
       "      <td>7490807</td>\n",
       "      <td>Women</td>\n",
       "      <td>20</td>\n",
       "      <td>04-12-2022</td>\n",
       "      <td>Delivered</td>\n",
       "      <td>Amazon</td>\n",
       "      <td>SET110-KR-PP-M</td>\n",
       "      <td>Set</td>\n",
       "      <td>M</td>\n",
       "      <td>1</td>\n",
       "      <td>INR</td>\n",
       "      <td>729</td>\n",
       "      <td>THANJAVUR</td>\n",
       "      <td>TAMIL NADU</td>\n",
       "      <td>613007</td>\n",
       "      <td>IN</td>\n",
       "      <td>False</td>\n",
       "    </tr>\n",
       "    <tr>\n",
       "      <th>4</th>\n",
       "      <td>5</td>\n",
       "      <td>403-9293516-4577154</td>\n",
       "      <td>9293516</td>\n",
       "      <td>Women</td>\n",
       "      <td>62</td>\n",
       "      <td>04-12-2022</td>\n",
       "      <td>Delivered</td>\n",
       "      <td>Myntra</td>\n",
       "      <td>JNE2294-KR-A-XXL</td>\n",
       "      <td>kurta</td>\n",
       "      <td>XXL</td>\n",
       "      <td>1</td>\n",
       "      <td>INR</td>\n",
       "      <td>544</td>\n",
       "      <td>GURUGRAM</td>\n",
       "      <td>HARYANA</td>\n",
       "      <td>122001</td>\n",
       "      <td>IN</td>\n",
       "      <td>False</td>\n",
       "    </tr>\n",
       "    <tr>\n",
       "      <th>...</th>\n",
       "      <td>...</td>\n",
       "      <td>...</td>\n",
       "      <td>...</td>\n",
       "      <td>...</td>\n",
       "      <td>...</td>\n",
       "      <td>...</td>\n",
       "      <td>...</td>\n",
       "      <td>...</td>\n",
       "      <td>...</td>\n",
       "      <td>...</td>\n",
       "      <td>...</td>\n",
       "      <td>...</td>\n",
       "      <td>...</td>\n",
       "      <td>...</td>\n",
       "      <td>...</td>\n",
       "      <td>...</td>\n",
       "      <td>...</td>\n",
       "      <td>...</td>\n",
       "      <td>...</td>\n",
       "    </tr>\n",
       "    <tr>\n",
       "      <th>31042</th>\n",
       "      <td>31043</td>\n",
       "      <td>405-4724097-1016369</td>\n",
       "      <td>4724097</td>\n",
       "      <td>M</td>\n",
       "      <td>60</td>\n",
       "      <td>06-01-2022</td>\n",
       "      <td>Delivered</td>\n",
       "      <td>Flipkart</td>\n",
       "      <td>J0083-KR-XL</td>\n",
       "      <td>kurta</td>\n",
       "      <td>XL</td>\n",
       "      <td>One</td>\n",
       "      <td>INR</td>\n",
       "      <td>565</td>\n",
       "      <td>PUNE</td>\n",
       "      <td>MAHARASHTRA</td>\n",
       "      <td>412307</td>\n",
       "      <td>IN</td>\n",
       "      <td>False</td>\n",
       "    </tr>\n",
       "    <tr>\n",
       "      <th>31043</th>\n",
       "      <td>31044</td>\n",
       "      <td>405-4724097-1016369</td>\n",
       "      <td>4724097</td>\n",
       "      <td>M</td>\n",
       "      <td>34</td>\n",
       "      <td>06-01-2022</td>\n",
       "      <td>Delivered</td>\n",
       "      <td>Myntra</td>\n",
       "      <td>J0010-LCD-S</td>\n",
       "      <td>Set</td>\n",
       "      <td>S</td>\n",
       "      <td>One</td>\n",
       "      <td>INR</td>\n",
       "      <td>939</td>\n",
       "      <td>BENGALURU</td>\n",
       "      <td>KARNATAKA</td>\n",
       "      <td>560061</td>\n",
       "      <td>IN</td>\n",
       "      <td>False</td>\n",
       "    </tr>\n",
       "    <tr>\n",
       "      <th>31044</th>\n",
       "      <td>31045</td>\n",
       "      <td>408-3572295-5992330</td>\n",
       "      <td>3572295</td>\n",
       "      <td>M</td>\n",
       "      <td>29</td>\n",
       "      <td>06-01-2022</td>\n",
       "      <td>Delivered</td>\n",
       "      <td>Amazon</td>\n",
       "      <td>SET398-KR-PP-L</td>\n",
       "      <td>Set</td>\n",
       "      <td>L</td>\n",
       "      <td>One</td>\n",
       "      <td>INR</td>\n",
       "      <td>1115</td>\n",
       "      <td>PITHORAGARH</td>\n",
       "      <td>UTTARAKHAND</td>\n",
       "      <td>262501</td>\n",
       "      <td>IN</td>\n",
       "      <td>False</td>\n",
       "    </tr>\n",
       "    <tr>\n",
       "      <th>31045</th>\n",
       "      <td>31046</td>\n",
       "      <td>405-1423498-9705162</td>\n",
       "      <td>1423498</td>\n",
       "      <td>M</td>\n",
       "      <td>46</td>\n",
       "      <td>06-01-2022</td>\n",
       "      <td>Delivered</td>\n",
       "      <td>Amazon</td>\n",
       "      <td>JNE3568-KR-M</td>\n",
       "      <td>kurta</td>\n",
       "      <td>M</td>\n",
       "      <td>One</td>\n",
       "      <td>INR</td>\n",
       "      <td>399</td>\n",
       "      <td>DHULE</td>\n",
       "      <td>MAHARASHTRA</td>\n",
       "      <td>424006</td>\n",
       "      <td>IN</td>\n",
       "      <td>False</td>\n",
       "    </tr>\n",
       "    <tr>\n",
       "      <th>31046</th>\n",
       "      <td>31047</td>\n",
       "      <td>408-4694875-8249153</td>\n",
       "      <td>4694875</td>\n",
       "      <td>M</td>\n",
       "      <td>36</td>\n",
       "      <td>06-01-2022</td>\n",
       "      <td>Delivered</td>\n",
       "      <td>Flipkart</td>\n",
       "      <td>J0341-DR-XXXL</td>\n",
       "      <td>Western Dress</td>\n",
       "      <td>3XL</td>\n",
       "      <td>One</td>\n",
       "      <td>INR</td>\n",
       "      <td>791</td>\n",
       "      <td>WARANGAL</td>\n",
       "      <td>TELANGANA</td>\n",
       "      <td>506001</td>\n",
       "      <td>IN</td>\n",
       "      <td>False</td>\n",
       "    </tr>\n",
       "  </tbody>\n",
       "</table>\n",
       "<p>31047 rows × 19 columns</p>\n",
       "</div>"
      ],
      "text/plain": [
       "       index             Order ID  Cust ID Gender  Age        Date     Status  \\\n",
       "0          1  171-1029312-3038738  1029312  Women   44  04-12-2022  Delivered   \n",
       "1          2  405-2183842-2225946  2183842  Women   29  04-12-2022  Delivered   \n",
       "2          3  171-1641533-8921966  1641533  Women   67  04-12-2022  Delivered   \n",
       "3          4  404-7490807-6300351  7490807  Women   20  04-12-2022  Delivered   \n",
       "4          5  403-9293516-4577154  9293516  Women   62  04-12-2022  Delivered   \n",
       "...      ...                  ...      ...    ...  ...         ...        ...   \n",
       "31042  31043  405-4724097-1016369  4724097      M   60  06-01-2022  Delivered   \n",
       "31043  31044  405-4724097-1016369  4724097      M   34  06-01-2022  Delivered   \n",
       "31044  31045  408-3572295-5992330  3572295      M   29  06-01-2022  Delivered   \n",
       "31045  31046  405-1423498-9705162  1423498      M   46  06-01-2022  Delivered   \n",
       "31046  31047  408-4694875-8249153  4694875      M   36  06-01-2022  Delivered   \n",
       "\n",
       "       Channel                       SKU       Category Size  Qty currency  \\\n",
       "0        Myntra  JNE1233-BLUE-KR-031-XXL          kurta  XXL    1      INR   \n",
       "1          Ajio           SET414-KR-NP-L            Set    L    1      INR   \n",
       "2        Myntra           SET261-KR-PP-S            Set    S    1      INR   \n",
       "3        Amazon           SET110-KR-PP-M            Set    M    1      INR   \n",
       "4        Myntra         JNE2294-KR-A-XXL          kurta  XXL    1      INR   \n",
       "...         ...                      ...            ...  ...  ...      ...   \n",
       "31042  Flipkart              J0083-KR-XL          kurta   XL  One      INR   \n",
       "31043    Myntra              J0010-LCD-S            Set    S  One      INR   \n",
       "31044    Amazon           SET398-KR-PP-L            Set    L  One      INR   \n",
       "31045    Amazon             JNE3568-KR-M          kurta    M  One      INR   \n",
       "31046  Flipkart            J0341-DR-XXXL  Western Dress  3XL  One      INR   \n",
       "\n",
       "       Amount    ship-city   ship-state  ship-postal-code ship-country    B2B  \n",
       "0         376       MOHALI       PUNJAB            140301           IN  False  \n",
       "1        1449     GURUGRAM      HARYANA            122002           IN  False  \n",
       "2         453      KOLKATA  WEST BENGAL            700029           IN  False  \n",
       "3         729    THANJAVUR   TAMIL NADU            613007           IN  False  \n",
       "4         544     GURUGRAM      HARYANA            122001           IN  False  \n",
       "...       ...          ...          ...               ...          ...    ...  \n",
       "31042     565         PUNE  MAHARASHTRA            412307           IN  False  \n",
       "31043     939    BENGALURU    KARNATAKA            560061           IN  False  \n",
       "31044    1115  PITHORAGARH  UTTARAKHAND            262501           IN  False  \n",
       "31045     399        DHULE  MAHARASHTRA            424006           IN  False  \n",
       "31046     791     WARANGAL    TELANGANA            506001           IN  False  \n",
       "\n",
       "[31047 rows x 19 columns]"
      ]
     },
     "execution_count": 28,
     "metadata": {},
     "output_type": "execute_result"
    }
   ],
   "source": [
    "print(akash_tbl)"
   ]
  },
  {
   "cell_type": "code",
   "execution_count": 29,
   "id": "dec27970",
   "metadata": {},
   "outputs": [
    {
     "data": {
      "text/html": [
       "<div>\n",
       "<style scoped>\n",
       "    .dataframe tbody tr th:only-of-type {\n",
       "        vertical-align: middle;\n",
       "    }\n",
       "\n",
       "    .dataframe tbody tr th {\n",
       "        vertical-align: top;\n",
       "    }\n",
       "\n",
       "    .dataframe thead th {\n",
       "        text-align: right;\n",
       "    }\n",
       "</style>\n",
       "<table border=\"1\" class=\"dataframe\">\n",
       "  <thead>\n",
       "    <tr style=\"text-align: right;\">\n",
       "      <th></th>\n",
       "      <th>CUSTOMER_ID</th>\n",
       "      <th>Company</th>\n",
       "      <th>GENDER</th>\n",
       "      <th>DOB</th>\n",
       "      <th>Age</th>\n",
       "      <th>STATE_CODE</th>\n",
       "      <th>PRODUCT</th>\n",
       "      <th>UNITS</th>\n",
       "      <th>SALES_PRICE</th>\n",
       "      <th>DISCOUNT</th>\n",
       "    </tr>\n",
       "  </thead>\n",
       "  <tbody>\n",
       "    <tr>\n",
       "      <th>0</th>\n",
       "      <td>1000032547</td>\n",
       "      <td>MED +</td>\n",
       "      <td>Female</td>\n",
       "      <td>1984-09-15</td>\n",
       "      <td>29</td>\n",
       "      <td>QLD</td>\n",
       "      <td>PROD992</td>\n",
       "      <td>4</td>\n",
       "      <td>612</td>\n",
       "      <td>0.42</td>\n",
       "    </tr>\n",
       "    <tr>\n",
       "      <th>1</th>\n",
       "      <td>1000032548</td>\n",
       "      <td>DR.REDDYS</td>\n",
       "      <td>Female</td>\n",
       "      <td>1974-07-15</td>\n",
       "      <td>39</td>\n",
       "      <td>WA</td>\n",
       "      <td>PROD399</td>\n",
       "      <td>17</td>\n",
       "      <td>715</td>\n",
       "      <td>0.07</td>\n",
       "    </tr>\n",
       "    <tr>\n",
       "      <th>2</th>\n",
       "      <td>1000032549</td>\n",
       "      <td>RELEGARE</td>\n",
       "      <td>Female</td>\n",
       "      <td>1959-04-01</td>\n",
       "      <td>54</td>\n",
       "      <td>NSW</td>\n",
       "      <td>PROD36</td>\n",
       "      <td>1</td>\n",
       "      <td>322</td>\n",
       "      <td>0.16</td>\n",
       "    </tr>\n",
       "    <tr>\n",
       "      <th>3</th>\n",
       "      <td>1000032550</td>\n",
       "      <td>GSK</td>\n",
       "      <td>Male</td>\n",
       "      <td>1978-05-16</td>\n",
       "      <td>35</td>\n",
       "      <td>VIC</td>\n",
       "      <td>PROD46</td>\n",
       "      <td>2</td>\n",
       "      <td>633</td>\n",
       "      <td>0.08</td>\n",
       "    </tr>\n",
       "    <tr>\n",
       "      <th>4</th>\n",
       "      <td>1000032551</td>\n",
       "      <td>GSK</td>\n",
       "      <td>Male</td>\n",
       "      <td>1978-12-16</td>\n",
       "      <td>34</td>\n",
       "      <td>VIC</td>\n",
       "      <td>PROD552</td>\n",
       "      <td>12</td>\n",
       "      <td>839</td>\n",
       "      <td>0.42</td>\n",
       "    </tr>\n",
       "    <tr>\n",
       "      <th>...</th>\n",
       "      <td>...</td>\n",
       "      <td>...</td>\n",
       "      <td>...</td>\n",
       "      <td>...</td>\n",
       "      <td>...</td>\n",
       "      <td>...</td>\n",
       "      <td>...</td>\n",
       "      <td>...</td>\n",
       "      <td>...</td>\n",
       "      <td>...</td>\n",
       "    </tr>\n",
       "    <tr>\n",
       "      <th>5107</th>\n",
       "      <td>1000037830</td>\n",
       "      <td>RELEGARE</td>\n",
       "      <td>Male</td>\n",
       "      <td>1935-11-23</td>\n",
       "      <td>77</td>\n",
       "      <td>WA</td>\n",
       "      <td>PROD493</td>\n",
       "      <td>3</td>\n",
       "      <td>195</td>\n",
       "      <td>0.25</td>\n",
       "    </tr>\n",
       "    <tr>\n",
       "      <th>5108</th>\n",
       "      <td>1000037831</td>\n",
       "      <td>APPOLO</td>\n",
       "      <td>Female</td>\n",
       "      <td>1956-08-27</td>\n",
       "      <td>57</td>\n",
       "      <td>WA</td>\n",
       "      <td>PROD549</td>\n",
       "      <td>1</td>\n",
       "      <td>498</td>\n",
       "      <td>0.42</td>\n",
       "    </tr>\n",
       "    <tr>\n",
       "      <th>5109</th>\n",
       "      <td>1000037832</td>\n",
       "      <td>GSK</td>\n",
       "      <td>Female</td>\n",
       "      <td>1982-05-13</td>\n",
       "      <td>31</td>\n",
       "      <td>WA</td>\n",
       "      <td>PROD296</td>\n",
       "      <td>9</td>\n",
       "      <td>738</td>\n",
       "      <td>0.04</td>\n",
       "    </tr>\n",
       "    <tr>\n",
       "      <th>5110</th>\n",
       "      <td>1000037833</td>\n",
       "      <td>MED +</td>\n",
       "      <td>Female</td>\n",
       "      <td>1960-01-14</td>\n",
       "      <td>53</td>\n",
       "      <td>WA</td>\n",
       "      <td>PROD682</td>\n",
       "      <td>6</td>\n",
       "      <td>781</td>\n",
       "      <td>0.25</td>\n",
       "    </tr>\n",
       "    <tr>\n",
       "      <th>5111</th>\n",
       "      <td>1000037834</td>\n",
       "      <td>RANBAXY</td>\n",
       "      <td>Female</td>\n",
       "      <td>1971-12-22</td>\n",
       "      <td>41</td>\n",
       "      <td>WA</td>\n",
       "      <td>PROD225</td>\n",
       "      <td>1</td>\n",
       "      <td>561</td>\n",
       "      <td>0.36</td>\n",
       "    </tr>\n",
       "  </tbody>\n",
       "</table>\n",
       "<p>5112 rows × 10 columns</p>\n",
       "</div>"
      ],
      "text/plain": [
       "      CUSTOMER_ID    Company  GENDER        DOB  Age STATE_CODE  PRODUCT  \\\n",
       "0      1000032547      MED +  Female 1984-09-15   29        QLD  PROD992   \n",
       "1      1000032548  DR.REDDYS  Female 1974-07-15   39         WA  PROD399   \n",
       "2      1000032549   RELEGARE  Female 1959-04-01   54        NSW   PROD36   \n",
       "3      1000032550        GSK    Male 1978-05-16   35        VIC   PROD46   \n",
       "4      1000032551        GSK    Male 1978-12-16   34        VIC  PROD552   \n",
       "...           ...        ...     ...        ...  ...        ...      ...   \n",
       "5107   1000037830   RELEGARE    Male 1935-11-23   77         WA  PROD493   \n",
       "5108   1000037831     APPOLO  Female 1956-08-27   57         WA  PROD549   \n",
       "5109   1000037832        GSK  Female 1982-05-13   31         WA  PROD296   \n",
       "5110   1000037833      MED +  Female 1960-01-14   53         WA  PROD682   \n",
       "5111   1000037834    RANBAXY  Female 1971-12-22   41         WA  PROD225   \n",
       "\n",
       "      UNITS  SALES_PRICE  DISCOUNT  \n",
       "0         4          612      0.42  \n",
       "1        17          715      0.07  \n",
       "2         1          322      0.16  \n",
       "3         2          633      0.08  \n",
       "4        12          839      0.42  \n",
       "...     ...          ...       ...  \n",
       "5107      3          195      0.25  \n",
       "5108      1          498      0.42  \n",
       "5109      9          738      0.04  \n",
       "5110      6          781      0.25  \n",
       "5111      1          561      0.36  \n",
       "\n",
       "[5112 rows x 10 columns]"
      ]
     },
     "execution_count": 29,
     "metadata": {},
     "output_type": "execute_result"
    }
   ],
   "source": [
    "bablu_tbl=pd.read_excel(r\"C:\\Users\\user\\OneDrive - Alliance University\\Desktop\\New folder (6)\\sample_store.xlsx\")\n",
    "bablu_tbl"
   ]
  },
  {
   "cell_type": "code",
   "execution_count": 30,
   "id": "c9dfb225",
   "metadata": {},
   "outputs": [
    {
     "data": {
      "text/html": [
       "<div>\n",
       "<style scoped>\n",
       "    .dataframe tbody tr th:only-of-type {\n",
       "        vertical-align: middle;\n",
       "    }\n",
       "\n",
       "    .dataframe tbody tr th {\n",
       "        vertical-align: top;\n",
       "    }\n",
       "\n",
       "    .dataframe thead th {\n",
       "        text-align: right;\n",
       "    }\n",
       "</style>\n",
       "<table border=\"1\" class=\"dataframe\">\n",
       "  <thead>\n",
       "    <tr style=\"text-align: right;\">\n",
       "      <th></th>\n",
       "      <th>CUSTOMER_ID</th>\n",
       "      <th>Company</th>\n",
       "      <th>GENDER</th>\n",
       "      <th>DOB</th>\n",
       "      <th>Age</th>\n",
       "      <th>STATE_CODE</th>\n",
       "      <th>PRODUCT</th>\n",
       "      <th>UNITS</th>\n",
       "      <th>SALES_PRICE</th>\n",
       "      <th>DISCOUNT</th>\n",
       "    </tr>\n",
       "  </thead>\n",
       "  <tbody>\n",
       "    <tr>\n",
       "      <th>0</th>\n",
       "      <td>1000032547</td>\n",
       "      <td>MED +</td>\n",
       "      <td>Female</td>\n",
       "      <td>1984-09-15</td>\n",
       "      <td>29</td>\n",
       "      <td>QLD</td>\n",
       "      <td>PROD992</td>\n",
       "      <td>4</td>\n",
       "      <td>612</td>\n",
       "      <td>0.42</td>\n",
       "    </tr>\n",
       "    <tr>\n",
       "      <th>1</th>\n",
       "      <td>1000032548</td>\n",
       "      <td>DR.REDDYS</td>\n",
       "      <td>Female</td>\n",
       "      <td>1974-07-15</td>\n",
       "      <td>39</td>\n",
       "      <td>WA</td>\n",
       "      <td>PROD399</td>\n",
       "      <td>17</td>\n",
       "      <td>715</td>\n",
       "      <td>0.07</td>\n",
       "    </tr>\n",
       "  </tbody>\n",
       "</table>\n",
       "</div>"
      ],
      "text/plain": [
       "   CUSTOMER_ID    Company  GENDER        DOB  Age STATE_CODE  PRODUCT  UNITS  \\\n",
       "0   1000032547      MED +  Female 1984-09-15   29        QLD  PROD992      4   \n",
       "1   1000032548  DR.REDDYS  Female 1974-07-15   39         WA  PROD399     17   \n",
       "\n",
       "   SALES_PRICE  DISCOUNT  \n",
       "0          612      0.42  \n",
       "1          715      0.07  "
      ]
     },
     "execution_count": 30,
     "metadata": {},
     "output_type": "execute_result"
    }
   ],
   "source": [
    "# top2\n",
    "bablu_tbl.head(2)"
   ]
  },
  {
   "cell_type": "code",
   "execution_count": 31,
   "id": "6bc4c125",
   "metadata": {},
   "outputs": [
    {
     "data": {
      "text/html": [
       "<div>\n",
       "<style scoped>\n",
       "    .dataframe tbody tr th:only-of-type {\n",
       "        vertical-align: middle;\n",
       "    }\n",
       "\n",
       "    .dataframe tbody tr th {\n",
       "        vertical-align: top;\n",
       "    }\n",
       "\n",
       "    .dataframe thead th {\n",
       "        text-align: right;\n",
       "    }\n",
       "</style>\n",
       "<table border=\"1\" class=\"dataframe\">\n",
       "  <thead>\n",
       "    <tr style=\"text-align: right;\">\n",
       "      <th></th>\n",
       "      <th>CUSTOMER_ID</th>\n",
       "      <th>Company</th>\n",
       "      <th>GENDER</th>\n",
       "      <th>DOB</th>\n",
       "      <th>Age</th>\n",
       "      <th>STATE_CODE</th>\n",
       "      <th>PRODUCT</th>\n",
       "      <th>UNITS</th>\n",
       "      <th>SALES_PRICE</th>\n",
       "      <th>DISCOUNT</th>\n",
       "    </tr>\n",
       "  </thead>\n",
       "  <tbody>\n",
       "    <tr>\n",
       "      <th>5107</th>\n",
       "      <td>1000037830</td>\n",
       "      <td>RELEGARE</td>\n",
       "      <td>Male</td>\n",
       "      <td>1935-11-23</td>\n",
       "      <td>77</td>\n",
       "      <td>WA</td>\n",
       "      <td>PROD493</td>\n",
       "      <td>3</td>\n",
       "      <td>195</td>\n",
       "      <td>0.25</td>\n",
       "    </tr>\n",
       "    <tr>\n",
       "      <th>5108</th>\n",
       "      <td>1000037831</td>\n",
       "      <td>APPOLO</td>\n",
       "      <td>Female</td>\n",
       "      <td>1956-08-27</td>\n",
       "      <td>57</td>\n",
       "      <td>WA</td>\n",
       "      <td>PROD549</td>\n",
       "      <td>1</td>\n",
       "      <td>498</td>\n",
       "      <td>0.42</td>\n",
       "    </tr>\n",
       "    <tr>\n",
       "      <th>5109</th>\n",
       "      <td>1000037832</td>\n",
       "      <td>GSK</td>\n",
       "      <td>Female</td>\n",
       "      <td>1982-05-13</td>\n",
       "      <td>31</td>\n",
       "      <td>WA</td>\n",
       "      <td>PROD296</td>\n",
       "      <td>9</td>\n",
       "      <td>738</td>\n",
       "      <td>0.04</td>\n",
       "    </tr>\n",
       "    <tr>\n",
       "      <th>5110</th>\n",
       "      <td>1000037833</td>\n",
       "      <td>MED +</td>\n",
       "      <td>Female</td>\n",
       "      <td>1960-01-14</td>\n",
       "      <td>53</td>\n",
       "      <td>WA</td>\n",
       "      <td>PROD682</td>\n",
       "      <td>6</td>\n",
       "      <td>781</td>\n",
       "      <td>0.25</td>\n",
       "    </tr>\n",
       "    <tr>\n",
       "      <th>5111</th>\n",
       "      <td>1000037834</td>\n",
       "      <td>RANBAXY</td>\n",
       "      <td>Female</td>\n",
       "      <td>1971-12-22</td>\n",
       "      <td>41</td>\n",
       "      <td>WA</td>\n",
       "      <td>PROD225</td>\n",
       "      <td>1</td>\n",
       "      <td>561</td>\n",
       "      <td>0.36</td>\n",
       "    </tr>\n",
       "  </tbody>\n",
       "</table>\n",
       "</div>"
      ],
      "text/plain": [
       "      CUSTOMER_ID   Company  GENDER        DOB  Age STATE_CODE  PRODUCT  \\\n",
       "5107   1000037830  RELEGARE    Male 1935-11-23   77         WA  PROD493   \n",
       "5108   1000037831    APPOLO  Female 1956-08-27   57         WA  PROD549   \n",
       "5109   1000037832       GSK  Female 1982-05-13   31         WA  PROD296   \n",
       "5110   1000037833     MED +  Female 1960-01-14   53         WA  PROD682   \n",
       "5111   1000037834   RANBAXY  Female 1971-12-22   41         WA  PROD225   \n",
       "\n",
       "      UNITS  SALES_PRICE  DISCOUNT  \n",
       "5107      3          195      0.25  \n",
       "5108      1          498      0.42  \n",
       "5109      9          738      0.04  \n",
       "5110      6          781      0.25  \n",
       "5111      1          561      0.36  "
      ]
     },
     "execution_count": 31,
     "metadata": {},
     "output_type": "execute_result"
    }
   ],
   "source": [
    "bablu_tbl.tail(5)"
   ]
  },
  {
   "cell_type": "code",
   "execution_count": 34,
   "id": "85143e61",
   "metadata": {},
   "outputs": [
    {
     "data": {
      "text/html": [
       "<div>\n",
       "<style scoped>\n",
       "    .dataframe tbody tr th:only-of-type {\n",
       "        vertical-align: middle;\n",
       "    }\n",
       "\n",
       "    .dataframe tbody tr th {\n",
       "        vertical-align: top;\n",
       "    }\n",
       "\n",
       "    .dataframe thead th {\n",
       "        text-align: right;\n",
       "    }\n",
       "</style>\n",
       "<table border=\"1\" class=\"dataframe\">\n",
       "  <thead>\n",
       "    <tr style=\"text-align: right;\">\n",
       "      <th></th>\n",
       "      <th>CUSTOMER_ID</th>\n",
       "      <th>Company</th>\n",
       "      <th>GENDER</th>\n",
       "      <th>DOB</th>\n",
       "      <th>Age</th>\n",
       "      <th>STATE_CODE</th>\n",
       "      <th>PRODUCT</th>\n",
       "      <th>UNITS</th>\n",
       "      <th>SALES_PRICE</th>\n",
       "      <th>DISCOUNT</th>\n",
       "    </tr>\n",
       "  </thead>\n",
       "  <tbody>\n",
       "    <tr>\n",
       "      <th>0</th>\n",
       "      <td>1000032547</td>\n",
       "      <td>MED +</td>\n",
       "      <td>Female</td>\n",
       "      <td>1984-09-15</td>\n",
       "      <td>29</td>\n",
       "      <td>QLD</td>\n",
       "      <td>PROD992</td>\n",
       "      <td>4</td>\n",
       "      <td>612</td>\n",
       "      <td>0.42</td>\n",
       "    </tr>\n",
       "    <tr>\n",
       "      <th>1</th>\n",
       "      <td>1000032548</td>\n",
       "      <td>DR.REDDYS</td>\n",
       "      <td>Female</td>\n",
       "      <td>1974-07-15</td>\n",
       "      <td>39</td>\n",
       "      <td>WA</td>\n",
       "      <td>PROD399</td>\n",
       "      <td>17</td>\n",
       "      <td>715</td>\n",
       "      <td>0.07</td>\n",
       "    </tr>\n",
       "    <tr>\n",
       "      <th>2</th>\n",
       "      <td>1000032549</td>\n",
       "      <td>RELEGARE</td>\n",
       "      <td>Female</td>\n",
       "      <td>1959-04-01</td>\n",
       "      <td>54</td>\n",
       "      <td>NSW</td>\n",
       "      <td>PROD36</td>\n",
       "      <td>1</td>\n",
       "      <td>322</td>\n",
       "      <td>0.16</td>\n",
       "    </tr>\n",
       "  </tbody>\n",
       "</table>\n",
       "</div>"
      ],
      "text/plain": [
       "   CUSTOMER_ID    Company  GENDER        DOB  Age STATE_CODE  PRODUCT  UNITS  \\\n",
       "0   1000032547      MED +  Female 1984-09-15   29        QLD  PROD992      4   \n",
       "1   1000032548  DR.REDDYS  Female 1974-07-15   39         WA  PROD399     17   \n",
       "2   1000032549   RELEGARE  Female 1959-04-01   54        NSW   PROD36      1   \n",
       "\n",
       "   SALES_PRICE  DISCOUNT  \n",
       "0          612      0.42  \n",
       "1          715      0.07  \n",
       "2          322      0.16  "
      ]
     },
     "execution_count": 34,
     "metadata": {},
     "output_type": "execute_result"
    }
   ],
   "source": [
    "bablu_tbl[0:3]"
   ]
  },
  {
   "cell_type": "code",
   "execution_count": 36,
   "id": "1c148199",
   "metadata": {},
   "outputs": [
    {
     "data": {
      "text/plain": [
       "(5112, 10)"
      ]
     },
     "execution_count": 36,
     "metadata": {},
     "output_type": "execute_result"
    }
   ],
   "source": [
    "bablu_tbl.shape"
   ]
  },
  {
   "cell_type": "code",
   "execution_count": 37,
   "id": "5dfcebf9",
   "metadata": {},
   "outputs": [
    {
     "name": "stdout",
     "output_type": "stream",
     "text": [
      "<class 'pandas.core.frame.DataFrame'>\n",
      "RangeIndex: 5112 entries, 0 to 5111\n",
      "Data columns (total 10 columns):\n",
      " #   Column       Non-Null Count  Dtype         \n",
      "---  ------       --------------  -----         \n",
      " 0   CUSTOMER_ID  5112 non-null   int64         \n",
      " 1   Company      5112 non-null   object        \n",
      " 2   GENDER       5112 non-null   object        \n",
      " 3   DOB          5112 non-null   datetime64[ns]\n",
      " 4   Age          5112 non-null   int64         \n",
      " 5   STATE_CODE   5112 non-null   object        \n",
      " 6   PRODUCT      5112 non-null   object        \n",
      " 7   UNITS        5112 non-null   int64         \n",
      " 8   SALES_PRICE  5112 non-null   int64         \n",
      " 9   DISCOUNT     5112 non-null   float64       \n",
      "dtypes: datetime64[ns](1), float64(1), int64(4), object(4)\n",
      "memory usage: 399.5+ KB\n"
     ]
    }
   ],
   "source": [
    "bablu_tbl.info()"
   ]
  },
  {
   "cell_type": "code",
   "execution_count": 39,
   "id": "9c062653",
   "metadata": {},
   "outputs": [
    {
     "data": {
      "text/plain": [
       "CUSTOMER_ID             int64\n",
       "Company                object\n",
       "GENDER                 object\n",
       "DOB            datetime64[ns]\n",
       "Age                     int64\n",
       "STATE_CODE             object\n",
       "PRODUCT                object\n",
       "UNITS                   int64\n",
       "SALES_PRICE             int64\n",
       "DISCOUNT              float64\n",
       "dtype: object"
      ]
     },
     "execution_count": 39,
     "metadata": {},
     "output_type": "execute_result"
    }
   ],
   "source": [
    "bablu_tbl.dtypes"
   ]
  },
  {
   "cell_type": "code",
   "execution_count": 40,
   "id": "2d9ebd8d",
   "metadata": {
    "scrolled": false
   },
   "outputs": [
    {
     "data": {
      "text/html": [
       "<div>\n",
       "<style scoped>\n",
       "    .dataframe tbody tr th:only-of-type {\n",
       "        vertical-align: middle;\n",
       "    }\n",
       "\n",
       "    .dataframe tbody tr th {\n",
       "        vertical-align: top;\n",
       "    }\n",
       "\n",
       "    .dataframe thead th {\n",
       "        text-align: right;\n",
       "    }\n",
       "</style>\n",
       "<table border=\"1\" class=\"dataframe\">\n",
       "  <thead>\n",
       "    <tr style=\"text-align: right;\">\n",
       "      <th></th>\n",
       "      <th>CUSTOMER_ID</th>\n",
       "      <th>Age</th>\n",
       "      <th>UNITS</th>\n",
       "      <th>SALES_PRICE</th>\n",
       "      <th>DISCOUNT</th>\n",
       "    </tr>\n",
       "  </thead>\n",
       "  <tbody>\n",
       "    <tr>\n",
       "      <th>count</th>\n",
       "      <td>5.112000e+03</td>\n",
       "      <td>5112.000000</td>\n",
       "      <td>5112.000000</td>\n",
       "      <td>5112.00000</td>\n",
       "      <td>5112.000000</td>\n",
       "    </tr>\n",
       "    <tr>\n",
       "      <th>mean</th>\n",
       "      <td>1.000035e+09</td>\n",
       "      <td>50.214397</td>\n",
       "      <td>5.308881</td>\n",
       "      <td>547.02230</td>\n",
       "      <td>0.245505</td>\n",
       "    </tr>\n",
       "    <tr>\n",
       "      <th>std</th>\n",
       "      <td>1.516922e+03</td>\n",
       "      <td>14.950142</td>\n",
       "      <td>5.676040</td>\n",
       "      <td>259.82261</td>\n",
       "      <td>0.146786</td>\n",
       "    </tr>\n",
       "    <tr>\n",
       "      <th>min</th>\n",
       "      <td>1.000033e+09</td>\n",
       "      <td>20.000000</td>\n",
       "      <td>1.000000</td>\n",
       "      <td>100.00000</td>\n",
       "      <td>0.000000</td>\n",
       "    </tr>\n",
       "    <tr>\n",
       "      <th>25%</th>\n",
       "      <td>1.000034e+09</td>\n",
       "      <td>39.000000</td>\n",
       "      <td>2.000000</td>\n",
       "      <td>320.00000</td>\n",
       "      <td>0.120000</td>\n",
       "    </tr>\n",
       "    <tr>\n",
       "      <th>50%</th>\n",
       "      <td>1.000035e+09</td>\n",
       "      <td>50.000000</td>\n",
       "      <td>4.000000</td>\n",
       "      <td>542.00000</td>\n",
       "      <td>0.240000</td>\n",
       "    </tr>\n",
       "    <tr>\n",
       "      <th>75%</th>\n",
       "      <td>1.000037e+09</td>\n",
       "      <td>62.000000</td>\n",
       "      <td>7.000000</td>\n",
       "      <td>775.00000</td>\n",
       "      <td>0.370000</td>\n",
       "    </tr>\n",
       "    <tr>\n",
       "      <th>max</th>\n",
       "      <td>1.000038e+09</td>\n",
       "      <td>84.000000</td>\n",
       "      <td>78.000000</td>\n",
       "      <td>1000.00000</td>\n",
       "      <td>0.500000</td>\n",
       "    </tr>\n",
       "  </tbody>\n",
       "</table>\n",
       "</div>"
      ],
      "text/plain": [
       "        CUSTOMER_ID          Age        UNITS  SALES_PRICE     DISCOUNT\n",
       "count  5.112000e+03  5112.000000  5112.000000   5112.00000  5112.000000\n",
       "mean   1.000035e+09    50.214397     5.308881    547.02230     0.245505\n",
       "std    1.516922e+03    14.950142     5.676040    259.82261     0.146786\n",
       "min    1.000033e+09    20.000000     1.000000    100.00000     0.000000\n",
       "25%    1.000034e+09    39.000000     2.000000    320.00000     0.120000\n",
       "50%    1.000035e+09    50.000000     4.000000    542.00000     0.240000\n",
       "75%    1.000037e+09    62.000000     7.000000    775.00000     0.370000\n",
       "max    1.000038e+09    84.000000    78.000000   1000.00000     0.500000"
      ]
     },
     "execution_count": 40,
     "metadata": {},
     "output_type": "execute_result"
    }
   ],
   "source": [
    "bablu_tbl.describe()"
   ]
  },
  {
   "cell_type": "code",
   "execution_count": 45,
   "id": "db2925ff",
   "metadata": {},
   "outputs": [
    {
     "data": {
      "text/plain": [
       "0"
      ]
     },
     "execution_count": 45,
     "metadata": {},
     "output_type": "execute_result"
    }
   ],
   "source": [
    "bablu_tbl.isnull().sum().sum()"
   ]
  },
  {
   "cell_type": "code",
   "execution_count": 46,
   "id": "caea8451",
   "metadata": {},
   "outputs": [],
   "source": [
    "# for data import\n",
    "\n",
    "# akash_tbl= pd.read_excel(r\"C:\\Users\\ARPAN PANIGRAHI\\Sample-Superstore_Dashboard.xlsx\", sheet_name=\"Sheet1\")\n",
    "akash_tbl= pd.read_csv(r\"C:\\Users\\user\\OneDrive - Alliance University\\Desktop\\New folder (6)\\VRINDA.csv\")"
   ]
  },
  {
   "cell_type": "code",
   "execution_count": 47,
   "id": "e323d580",
   "metadata": {
    "collapsed": true
   },
   "outputs": [
    {
     "data": {
      "text/html": [
       "<div>\n",
       "<style scoped>\n",
       "    .dataframe tbody tr th:only-of-type {\n",
       "        vertical-align: middle;\n",
       "    }\n",
       "\n",
       "    .dataframe tbody tr th {\n",
       "        vertical-align: top;\n",
       "    }\n",
       "\n",
       "    .dataframe thead th {\n",
       "        text-align: right;\n",
       "    }\n",
       "</style>\n",
       "<table border=\"1\" class=\"dataframe\">\n",
       "  <thead>\n",
       "    <tr style=\"text-align: right;\">\n",
       "      <th></th>\n",
       "      <th>index</th>\n",
       "      <th>Order ID</th>\n",
       "      <th>Cust ID</th>\n",
       "      <th>Gender</th>\n",
       "      <th>Age</th>\n",
       "      <th>Date</th>\n",
       "      <th>Status</th>\n",
       "      <th>Channel</th>\n",
       "      <th>SKU</th>\n",
       "      <th>Category</th>\n",
       "      <th>Size</th>\n",
       "      <th>Qty</th>\n",
       "      <th>currency</th>\n",
       "      <th>Amount</th>\n",
       "      <th>ship-city</th>\n",
       "      <th>ship-state</th>\n",
       "      <th>ship-postal-code</th>\n",
       "      <th>ship-country</th>\n",
       "      <th>B2B</th>\n",
       "    </tr>\n",
       "  </thead>\n",
       "  <tbody>\n",
       "    <tr>\n",
       "      <th>0</th>\n",
       "      <td>1</td>\n",
       "      <td>171-1029312-3038738</td>\n",
       "      <td>1029312</td>\n",
       "      <td>Women</td>\n",
       "      <td>44</td>\n",
       "      <td>04-12-2022</td>\n",
       "      <td>Delivered</td>\n",
       "      <td>Myntra</td>\n",
       "      <td>JNE1233-BLUE-KR-031-XXL</td>\n",
       "      <td>kurta</td>\n",
       "      <td>XXL</td>\n",
       "      <td>1</td>\n",
       "      <td>INR</td>\n",
       "      <td>376</td>\n",
       "      <td>MOHALI</td>\n",
       "      <td>PUNJAB</td>\n",
       "      <td>140301</td>\n",
       "      <td>IN</td>\n",
       "      <td>False</td>\n",
       "    </tr>\n",
       "    <tr>\n",
       "      <th>1</th>\n",
       "      <td>2</td>\n",
       "      <td>405-2183842-2225946</td>\n",
       "      <td>2183842</td>\n",
       "      <td>Women</td>\n",
       "      <td>29</td>\n",
       "      <td>04-12-2022</td>\n",
       "      <td>Delivered</td>\n",
       "      <td>Ajio</td>\n",
       "      <td>SET414-KR-NP-L</td>\n",
       "      <td>Set</td>\n",
       "      <td>L</td>\n",
       "      <td>1</td>\n",
       "      <td>INR</td>\n",
       "      <td>1449</td>\n",
       "      <td>GURUGRAM</td>\n",
       "      <td>HARYANA</td>\n",
       "      <td>122002</td>\n",
       "      <td>IN</td>\n",
       "      <td>False</td>\n",
       "    </tr>\n",
       "    <tr>\n",
       "      <th>2</th>\n",
       "      <td>3</td>\n",
       "      <td>171-1641533-8921966</td>\n",
       "      <td>1641533</td>\n",
       "      <td>Women</td>\n",
       "      <td>67</td>\n",
       "      <td>04-12-2022</td>\n",
       "      <td>Delivered</td>\n",
       "      <td>Myntra</td>\n",
       "      <td>SET261-KR-PP-S</td>\n",
       "      <td>Set</td>\n",
       "      <td>S</td>\n",
       "      <td>1</td>\n",
       "      <td>INR</td>\n",
       "      <td>453</td>\n",
       "      <td>KOLKATA</td>\n",
       "      <td>WEST BENGAL</td>\n",
       "      <td>700029</td>\n",
       "      <td>IN</td>\n",
       "      <td>False</td>\n",
       "    </tr>\n",
       "    <tr>\n",
       "      <th>3</th>\n",
       "      <td>4</td>\n",
       "      <td>404-7490807-6300351</td>\n",
       "      <td>7490807</td>\n",
       "      <td>Women</td>\n",
       "      <td>20</td>\n",
       "      <td>04-12-2022</td>\n",
       "      <td>Delivered</td>\n",
       "      <td>Amazon</td>\n",
       "      <td>SET110-KR-PP-M</td>\n",
       "      <td>Set</td>\n",
       "      <td>M</td>\n",
       "      <td>1</td>\n",
       "      <td>INR</td>\n",
       "      <td>729</td>\n",
       "      <td>THANJAVUR</td>\n",
       "      <td>TAMIL NADU</td>\n",
       "      <td>613007</td>\n",
       "      <td>IN</td>\n",
       "      <td>False</td>\n",
       "    </tr>\n",
       "    <tr>\n",
       "      <th>4</th>\n",
       "      <td>5</td>\n",
       "      <td>403-9293516-4577154</td>\n",
       "      <td>9293516</td>\n",
       "      <td>Women</td>\n",
       "      <td>62</td>\n",
       "      <td>04-12-2022</td>\n",
       "      <td>Delivered</td>\n",
       "      <td>Myntra</td>\n",
       "      <td>JNE2294-KR-A-XXL</td>\n",
       "      <td>kurta</td>\n",
       "      <td>XXL</td>\n",
       "      <td>1</td>\n",
       "      <td>INR</td>\n",
       "      <td>544</td>\n",
       "      <td>GURUGRAM</td>\n",
       "      <td>HARYANA</td>\n",
       "      <td>122001</td>\n",
       "      <td>IN</td>\n",
       "      <td>False</td>\n",
       "    </tr>\n",
       "    <tr>\n",
       "      <th>...</th>\n",
       "      <td>...</td>\n",
       "      <td>...</td>\n",
       "      <td>...</td>\n",
       "      <td>...</td>\n",
       "      <td>...</td>\n",
       "      <td>...</td>\n",
       "      <td>...</td>\n",
       "      <td>...</td>\n",
       "      <td>...</td>\n",
       "      <td>...</td>\n",
       "      <td>...</td>\n",
       "      <td>...</td>\n",
       "      <td>...</td>\n",
       "      <td>...</td>\n",
       "      <td>...</td>\n",
       "      <td>...</td>\n",
       "      <td>...</td>\n",
       "      <td>...</td>\n",
       "      <td>...</td>\n",
       "    </tr>\n",
       "    <tr>\n",
       "      <th>31042</th>\n",
       "      <td>31043</td>\n",
       "      <td>405-4724097-1016369</td>\n",
       "      <td>4724097</td>\n",
       "      <td>M</td>\n",
       "      <td>60</td>\n",
       "      <td>06-01-2022</td>\n",
       "      <td>Delivered</td>\n",
       "      <td>Flipkart</td>\n",
       "      <td>J0083-KR-XL</td>\n",
       "      <td>kurta</td>\n",
       "      <td>XL</td>\n",
       "      <td>One</td>\n",
       "      <td>INR</td>\n",
       "      <td>565</td>\n",
       "      <td>PUNE</td>\n",
       "      <td>MAHARASHTRA</td>\n",
       "      <td>412307</td>\n",
       "      <td>IN</td>\n",
       "      <td>False</td>\n",
       "    </tr>\n",
       "    <tr>\n",
       "      <th>31043</th>\n",
       "      <td>31044</td>\n",
       "      <td>405-4724097-1016369</td>\n",
       "      <td>4724097</td>\n",
       "      <td>M</td>\n",
       "      <td>34</td>\n",
       "      <td>06-01-2022</td>\n",
       "      <td>Delivered</td>\n",
       "      <td>Myntra</td>\n",
       "      <td>J0010-LCD-S</td>\n",
       "      <td>Set</td>\n",
       "      <td>S</td>\n",
       "      <td>One</td>\n",
       "      <td>INR</td>\n",
       "      <td>939</td>\n",
       "      <td>BENGALURU</td>\n",
       "      <td>KARNATAKA</td>\n",
       "      <td>560061</td>\n",
       "      <td>IN</td>\n",
       "      <td>False</td>\n",
       "    </tr>\n",
       "    <tr>\n",
       "      <th>31044</th>\n",
       "      <td>31045</td>\n",
       "      <td>408-3572295-5992330</td>\n",
       "      <td>3572295</td>\n",
       "      <td>M</td>\n",
       "      <td>29</td>\n",
       "      <td>06-01-2022</td>\n",
       "      <td>Delivered</td>\n",
       "      <td>Amazon</td>\n",
       "      <td>SET398-KR-PP-L</td>\n",
       "      <td>Set</td>\n",
       "      <td>L</td>\n",
       "      <td>One</td>\n",
       "      <td>INR</td>\n",
       "      <td>1115</td>\n",
       "      <td>PITHORAGARH</td>\n",
       "      <td>UTTARAKHAND</td>\n",
       "      <td>262501</td>\n",
       "      <td>IN</td>\n",
       "      <td>False</td>\n",
       "    </tr>\n",
       "    <tr>\n",
       "      <th>31045</th>\n",
       "      <td>31046</td>\n",
       "      <td>405-1423498-9705162</td>\n",
       "      <td>1423498</td>\n",
       "      <td>M</td>\n",
       "      <td>46</td>\n",
       "      <td>06-01-2022</td>\n",
       "      <td>Delivered</td>\n",
       "      <td>Amazon</td>\n",
       "      <td>JNE3568-KR-M</td>\n",
       "      <td>kurta</td>\n",
       "      <td>M</td>\n",
       "      <td>One</td>\n",
       "      <td>INR</td>\n",
       "      <td>399</td>\n",
       "      <td>DHULE</td>\n",
       "      <td>MAHARASHTRA</td>\n",
       "      <td>424006</td>\n",
       "      <td>IN</td>\n",
       "      <td>False</td>\n",
       "    </tr>\n",
       "    <tr>\n",
       "      <th>31046</th>\n",
       "      <td>31047</td>\n",
       "      <td>408-4694875-8249153</td>\n",
       "      <td>4694875</td>\n",
       "      <td>M</td>\n",
       "      <td>36</td>\n",
       "      <td>06-01-2022</td>\n",
       "      <td>Delivered</td>\n",
       "      <td>Flipkart</td>\n",
       "      <td>J0341-DR-XXXL</td>\n",
       "      <td>Western Dress</td>\n",
       "      <td>3XL</td>\n",
       "      <td>One</td>\n",
       "      <td>INR</td>\n",
       "      <td>791</td>\n",
       "      <td>WARANGAL</td>\n",
       "      <td>TELANGANA</td>\n",
       "      <td>506001</td>\n",
       "      <td>IN</td>\n",
       "      <td>False</td>\n",
       "    </tr>\n",
       "  </tbody>\n",
       "</table>\n",
       "<p>31047 rows × 19 columns</p>\n",
       "</div>"
      ],
      "text/plain": [
       "       index             Order ID  Cust ID Gender  Age        Date     Status  \\\n",
       "0          1  171-1029312-3038738  1029312  Women   44  04-12-2022  Delivered   \n",
       "1          2  405-2183842-2225946  2183842  Women   29  04-12-2022  Delivered   \n",
       "2          3  171-1641533-8921966  1641533  Women   67  04-12-2022  Delivered   \n",
       "3          4  404-7490807-6300351  7490807  Women   20  04-12-2022  Delivered   \n",
       "4          5  403-9293516-4577154  9293516  Women   62  04-12-2022  Delivered   \n",
       "...      ...                  ...      ...    ...  ...         ...        ...   \n",
       "31042  31043  405-4724097-1016369  4724097      M   60  06-01-2022  Delivered   \n",
       "31043  31044  405-4724097-1016369  4724097      M   34  06-01-2022  Delivered   \n",
       "31044  31045  408-3572295-5992330  3572295      M   29  06-01-2022  Delivered   \n",
       "31045  31046  405-1423498-9705162  1423498      M   46  06-01-2022  Delivered   \n",
       "31046  31047  408-4694875-8249153  4694875      M   36  06-01-2022  Delivered   \n",
       "\n",
       "       Channel                       SKU       Category Size  Qty currency  \\\n",
       "0        Myntra  JNE1233-BLUE-KR-031-XXL          kurta  XXL    1      INR   \n",
       "1          Ajio           SET414-KR-NP-L            Set    L    1      INR   \n",
       "2        Myntra           SET261-KR-PP-S            Set    S    1      INR   \n",
       "3        Amazon           SET110-KR-PP-M            Set    M    1      INR   \n",
       "4        Myntra         JNE2294-KR-A-XXL          kurta  XXL    1      INR   \n",
       "...         ...                      ...            ...  ...  ...      ...   \n",
       "31042  Flipkart              J0083-KR-XL          kurta   XL  One      INR   \n",
       "31043    Myntra              J0010-LCD-S            Set    S  One      INR   \n",
       "31044    Amazon           SET398-KR-PP-L            Set    L  One      INR   \n",
       "31045    Amazon             JNE3568-KR-M          kurta    M  One      INR   \n",
       "31046  Flipkart            J0341-DR-XXXL  Western Dress  3XL  One      INR   \n",
       "\n",
       "       Amount    ship-city   ship-state  ship-postal-code ship-country    B2B  \n",
       "0         376       MOHALI       PUNJAB            140301           IN  False  \n",
       "1        1449     GURUGRAM      HARYANA            122002           IN  False  \n",
       "2         453      KOLKATA  WEST BENGAL            700029           IN  False  \n",
       "3         729    THANJAVUR   TAMIL NADU            613007           IN  False  \n",
       "4         544     GURUGRAM      HARYANA            122001           IN  False  \n",
       "...       ...          ...          ...               ...          ...    ...  \n",
       "31042     565         PUNE  MAHARASHTRA            412307           IN  False  \n",
       "31043     939    BENGALURU    KARNATAKA            560061           IN  False  \n",
       "31044    1115  PITHORAGARH  UTTARAKHAND            262501           IN  False  \n",
       "31045     399        DHULE  MAHARASHTRA            424006           IN  False  \n",
       "31046     791     WARANGAL    TELANGANA            506001           IN  False  \n",
       "\n",
       "[31047 rows x 19 columns]"
      ]
     },
     "execution_count": 47,
     "metadata": {},
     "output_type": "execute_result"
    }
   ],
   "source": [
    "akash_tbl"
   ]
  },
  {
   "cell_type": "code",
   "execution_count": 48,
   "id": "de60b911",
   "metadata": {},
   "outputs": [
    {
     "data": {
      "text/html": [
       "<div>\n",
       "<style scoped>\n",
       "    .dataframe tbody tr th:only-of-type {\n",
       "        vertical-align: middle;\n",
       "    }\n",
       "\n",
       "    .dataframe tbody tr th {\n",
       "        vertical-align: top;\n",
       "    }\n",
       "\n",
       "    .dataframe thead th {\n",
       "        text-align: right;\n",
       "    }\n",
       "</style>\n",
       "<table border=\"1\" class=\"dataframe\">\n",
       "  <thead>\n",
       "    <tr style=\"text-align: right;\">\n",
       "      <th></th>\n",
       "      <th>index</th>\n",
       "      <th>Order ID</th>\n",
       "      <th>Cust ID</th>\n",
       "      <th>Gender</th>\n",
       "      <th>Age</th>\n",
       "      <th>Date</th>\n",
       "      <th>Status</th>\n",
       "      <th>Channel</th>\n",
       "      <th>SKU</th>\n",
       "      <th>Category</th>\n",
       "      <th>Size</th>\n",
       "      <th>Qty</th>\n",
       "      <th>currency</th>\n",
       "      <th>Amount</th>\n",
       "      <th>ship-city</th>\n",
       "      <th>ship-state</th>\n",
       "      <th>ship-postal-code</th>\n",
       "      <th>ship-country</th>\n",
       "      <th>B2B</th>\n",
       "    </tr>\n",
       "  </thead>\n",
       "  <tbody>\n",
       "    <tr>\n",
       "      <th>0</th>\n",
       "      <td>1</td>\n",
       "      <td>171-1029312-3038738</td>\n",
       "      <td>1029312</td>\n",
       "      <td>Women</td>\n",
       "      <td>44</td>\n",
       "      <td>04-12-2022</td>\n",
       "      <td>Delivered</td>\n",
       "      <td>Myntra</td>\n",
       "      <td>JNE1233-BLUE-KR-031-XXL</td>\n",
       "      <td>kurta</td>\n",
       "      <td>XXL</td>\n",
       "      <td>1</td>\n",
       "      <td>INR</td>\n",
       "      <td>376</td>\n",
       "      <td>MOHALI</td>\n",
       "      <td>PUNJAB</td>\n",
       "      <td>140301</td>\n",
       "      <td>IN</td>\n",
       "      <td>False</td>\n",
       "    </tr>\n",
       "    <tr>\n",
       "      <th>1</th>\n",
       "      <td>2</td>\n",
       "      <td>405-2183842-2225946</td>\n",
       "      <td>2183842</td>\n",
       "      <td>Women</td>\n",
       "      <td>29</td>\n",
       "      <td>04-12-2022</td>\n",
       "      <td>Delivered</td>\n",
       "      <td>Ajio</td>\n",
       "      <td>SET414-KR-NP-L</td>\n",
       "      <td>Set</td>\n",
       "      <td>L</td>\n",
       "      <td>1</td>\n",
       "      <td>INR</td>\n",
       "      <td>1449</td>\n",
       "      <td>GURUGRAM</td>\n",
       "      <td>HARYANA</td>\n",
       "      <td>122002</td>\n",
       "      <td>IN</td>\n",
       "      <td>False</td>\n",
       "    </tr>\n",
       "    <tr>\n",
       "      <th>2</th>\n",
       "      <td>3</td>\n",
       "      <td>171-1641533-8921966</td>\n",
       "      <td>1641533</td>\n",
       "      <td>Women</td>\n",
       "      <td>67</td>\n",
       "      <td>04-12-2022</td>\n",
       "      <td>Delivered</td>\n",
       "      <td>Myntra</td>\n",
       "      <td>SET261-KR-PP-S</td>\n",
       "      <td>Set</td>\n",
       "      <td>S</td>\n",
       "      <td>1</td>\n",
       "      <td>INR</td>\n",
       "      <td>453</td>\n",
       "      <td>KOLKATA</td>\n",
       "      <td>WEST BENGAL</td>\n",
       "      <td>700029</td>\n",
       "      <td>IN</td>\n",
       "      <td>False</td>\n",
       "    </tr>\n",
       "    <tr>\n",
       "      <th>3</th>\n",
       "      <td>4</td>\n",
       "      <td>404-7490807-6300351</td>\n",
       "      <td>7490807</td>\n",
       "      <td>Women</td>\n",
       "      <td>20</td>\n",
       "      <td>04-12-2022</td>\n",
       "      <td>Delivered</td>\n",
       "      <td>Amazon</td>\n",
       "      <td>SET110-KR-PP-M</td>\n",
       "      <td>Set</td>\n",
       "      <td>M</td>\n",
       "      <td>1</td>\n",
       "      <td>INR</td>\n",
       "      <td>729</td>\n",
       "      <td>THANJAVUR</td>\n",
       "      <td>TAMIL NADU</td>\n",
       "      <td>613007</td>\n",
       "      <td>IN</td>\n",
       "      <td>False</td>\n",
       "    </tr>\n",
       "    <tr>\n",
       "      <th>4</th>\n",
       "      <td>5</td>\n",
       "      <td>403-9293516-4577154</td>\n",
       "      <td>9293516</td>\n",
       "      <td>Women</td>\n",
       "      <td>62</td>\n",
       "      <td>04-12-2022</td>\n",
       "      <td>Delivered</td>\n",
       "      <td>Myntra</td>\n",
       "      <td>JNE2294-KR-A-XXL</td>\n",
       "      <td>kurta</td>\n",
       "      <td>XXL</td>\n",
       "      <td>1</td>\n",
       "      <td>INR</td>\n",
       "      <td>544</td>\n",
       "      <td>GURUGRAM</td>\n",
       "      <td>HARYANA</td>\n",
       "      <td>122001</td>\n",
       "      <td>IN</td>\n",
       "      <td>False</td>\n",
       "    </tr>\n",
       "  </tbody>\n",
       "</table>\n",
       "</div>"
      ],
      "text/plain": [
       "   index             Order ID  Cust ID Gender  Age        Date     Status  \\\n",
       "0      1  171-1029312-3038738  1029312  Women   44  04-12-2022  Delivered   \n",
       "1      2  405-2183842-2225946  2183842  Women   29  04-12-2022  Delivered   \n",
       "2      3  171-1641533-8921966  1641533  Women   67  04-12-2022  Delivered   \n",
       "3      4  404-7490807-6300351  7490807  Women   20  04-12-2022  Delivered   \n",
       "4      5  403-9293516-4577154  9293516  Women   62  04-12-2022  Delivered   \n",
       "\n",
       "  Channel                       SKU Category Size Qty currency  Amount  \\\n",
       "0   Myntra  JNE1233-BLUE-KR-031-XXL    kurta  XXL   1      INR     376   \n",
       "1     Ajio           SET414-KR-NP-L      Set    L   1      INR    1449   \n",
       "2   Myntra           SET261-KR-PP-S      Set    S   1      INR     453   \n",
       "3   Amazon           SET110-KR-PP-M      Set    M   1      INR     729   \n",
       "4   Myntra         JNE2294-KR-A-XXL    kurta  XXL   1      INR     544   \n",
       "\n",
       "   ship-city   ship-state  ship-postal-code ship-country    B2B  \n",
       "0     MOHALI       PUNJAB            140301           IN  False  \n",
       "1   GURUGRAM      HARYANA            122002           IN  False  \n",
       "2    KOLKATA  WEST BENGAL            700029           IN  False  \n",
       "3  THANJAVUR   TAMIL NADU            613007           IN  False  \n",
       "4   GURUGRAM      HARYANA            122001           IN  False  "
      ]
     },
     "execution_count": 48,
     "metadata": {},
     "output_type": "execute_result"
    }
   ],
   "source": [
    "akash_tbl.head(5)"
   ]
  },
  {
   "cell_type": "code",
   "execution_count": 49,
   "id": "d91ae094",
   "metadata": {},
   "outputs": [
    {
     "data": {
      "text/html": [
       "<div>\n",
       "<style scoped>\n",
       "    .dataframe tbody tr th:only-of-type {\n",
       "        vertical-align: middle;\n",
       "    }\n",
       "\n",
       "    .dataframe tbody tr th {\n",
       "        vertical-align: top;\n",
       "    }\n",
       "\n",
       "    .dataframe thead th {\n",
       "        text-align: right;\n",
       "    }\n",
       "</style>\n",
       "<table border=\"1\" class=\"dataframe\">\n",
       "  <thead>\n",
       "    <tr style=\"text-align: right;\">\n",
       "      <th></th>\n",
       "      <th>index</th>\n",
       "      <th>Order ID</th>\n",
       "      <th>Cust ID</th>\n",
       "      <th>Gender</th>\n",
       "      <th>Age</th>\n",
       "      <th>Date</th>\n",
       "      <th>Status</th>\n",
       "      <th>Channel</th>\n",
       "      <th>SKU</th>\n",
       "      <th>Category</th>\n",
       "      <th>Size</th>\n",
       "      <th>Qty</th>\n",
       "      <th>currency</th>\n",
       "      <th>Amount</th>\n",
       "      <th>ship-city</th>\n",
       "      <th>ship-state</th>\n",
       "      <th>ship-postal-code</th>\n",
       "      <th>ship-country</th>\n",
       "      <th>B2B</th>\n",
       "    </tr>\n",
       "  </thead>\n",
       "  <tbody>\n",
       "    <tr>\n",
       "      <th>31045</th>\n",
       "      <td>31046</td>\n",
       "      <td>405-1423498-9705162</td>\n",
       "      <td>1423498</td>\n",
       "      <td>M</td>\n",
       "      <td>46</td>\n",
       "      <td>06-01-2022</td>\n",
       "      <td>Delivered</td>\n",
       "      <td>Amazon</td>\n",
       "      <td>JNE3568-KR-M</td>\n",
       "      <td>kurta</td>\n",
       "      <td>M</td>\n",
       "      <td>One</td>\n",
       "      <td>INR</td>\n",
       "      <td>399</td>\n",
       "      <td>DHULE</td>\n",
       "      <td>MAHARASHTRA</td>\n",
       "      <td>424006</td>\n",
       "      <td>IN</td>\n",
       "      <td>False</td>\n",
       "    </tr>\n",
       "    <tr>\n",
       "      <th>31046</th>\n",
       "      <td>31047</td>\n",
       "      <td>408-4694875-8249153</td>\n",
       "      <td>4694875</td>\n",
       "      <td>M</td>\n",
       "      <td>36</td>\n",
       "      <td>06-01-2022</td>\n",
       "      <td>Delivered</td>\n",
       "      <td>Flipkart</td>\n",
       "      <td>J0341-DR-XXXL</td>\n",
       "      <td>Western Dress</td>\n",
       "      <td>3XL</td>\n",
       "      <td>One</td>\n",
       "      <td>INR</td>\n",
       "      <td>791</td>\n",
       "      <td>WARANGAL</td>\n",
       "      <td>TELANGANA</td>\n",
       "      <td>506001</td>\n",
       "      <td>IN</td>\n",
       "      <td>False</td>\n",
       "    </tr>\n",
       "  </tbody>\n",
       "</table>\n",
       "</div>"
      ],
      "text/plain": [
       "       index             Order ID  Cust ID Gender  Age        Date     Status  \\\n",
       "31045  31046  405-1423498-9705162  1423498      M   46  06-01-2022  Delivered   \n",
       "31046  31047  408-4694875-8249153  4694875      M   36  06-01-2022  Delivered   \n",
       "\n",
       "       Channel             SKU       Category Size  Qty currency  Amount  \\\n",
       "31045    Amazon   JNE3568-KR-M          kurta    M  One      INR     399   \n",
       "31046  Flipkart  J0341-DR-XXXL  Western Dress  3XL  One      INR     791   \n",
       "\n",
       "      ship-city   ship-state  ship-postal-code ship-country    B2B  \n",
       "31045     DHULE  MAHARASHTRA            424006           IN  False  \n",
       "31046  WARANGAL    TELANGANA            506001           IN  False  "
      ]
     },
     "execution_count": 49,
     "metadata": {},
     "output_type": "execute_result"
    }
   ],
   "source": [
    "akash_tbl.tail(2)"
   ]
  },
  {
   "cell_type": "code",
   "execution_count": 50,
   "id": "b68b1997",
   "metadata": {},
   "outputs": [
    {
     "data": {
      "text/html": [
       "<div>\n",
       "<style scoped>\n",
       "    .dataframe tbody tr th:only-of-type {\n",
       "        vertical-align: middle;\n",
       "    }\n",
       "\n",
       "    .dataframe tbody tr th {\n",
       "        vertical-align: top;\n",
       "    }\n",
       "\n",
       "    .dataframe thead th {\n",
       "        text-align: right;\n",
       "    }\n",
       "</style>\n",
       "<table border=\"1\" class=\"dataframe\">\n",
       "  <thead>\n",
       "    <tr style=\"text-align: right;\">\n",
       "      <th></th>\n",
       "      <th>index</th>\n",
       "      <th>Order ID</th>\n",
       "      <th>Cust ID</th>\n",
       "      <th>Gender</th>\n",
       "      <th>Age</th>\n",
       "      <th>Date</th>\n",
       "      <th>Status</th>\n",
       "      <th>Channel</th>\n",
       "      <th>SKU</th>\n",
       "      <th>Category</th>\n",
       "      <th>Size</th>\n",
       "      <th>Qty</th>\n",
       "      <th>currency</th>\n",
       "      <th>Amount</th>\n",
       "      <th>ship-city</th>\n",
       "      <th>ship-state</th>\n",
       "      <th>ship-postal-code</th>\n",
       "      <th>ship-country</th>\n",
       "      <th>B2B</th>\n",
       "    </tr>\n",
       "  </thead>\n",
       "  <tbody>\n",
       "    <tr>\n",
       "      <th>50</th>\n",
       "      <td>51</td>\n",
       "      <td>405-4213846-6141157</td>\n",
       "      <td>4213846</td>\n",
       "      <td>Women</td>\n",
       "      <td>27</td>\n",
       "      <td>04-12-2022</td>\n",
       "      <td>Delivered</td>\n",
       "      <td>Amazon</td>\n",
       "      <td>J0003-SET-M</td>\n",
       "      <td>Set</td>\n",
       "      <td>M</td>\n",
       "      <td>1</td>\n",
       "      <td>INR</td>\n",
       "      <td>664</td>\n",
       "      <td>HYDERABAD</td>\n",
       "      <td>TELANGANA</td>\n",
       "      <td>500039</td>\n",
       "      <td>IN</td>\n",
       "      <td>False</td>\n",
       "    </tr>\n",
       "    <tr>\n",
       "      <th>51</th>\n",
       "      <td>52</td>\n",
       "      <td>407-7381557-9088310</td>\n",
       "      <td>7381557</td>\n",
       "      <td>Women</td>\n",
       "      <td>21</td>\n",
       "      <td>04-12-2022</td>\n",
       "      <td>Delivered</td>\n",
       "      <td>Others</td>\n",
       "      <td>J0230-SKD-M</td>\n",
       "      <td>Set</td>\n",
       "      <td>M</td>\n",
       "      <td>1</td>\n",
       "      <td>INR</td>\n",
       "      <td>1112</td>\n",
       "      <td>Allahabad</td>\n",
       "      <td>UTTAR PRADESH</td>\n",
       "      <td>211001</td>\n",
       "      <td>IN</td>\n",
       "      <td>False</td>\n",
       "    </tr>\n",
       "    <tr>\n",
       "      <th>52</th>\n",
       "      <td>53</td>\n",
       "      <td>403-0817885-3061963</td>\n",
       "      <td>817885</td>\n",
       "      <td>Women</td>\n",
       "      <td>43</td>\n",
       "      <td>04-12-2022</td>\n",
       "      <td>Delivered</td>\n",
       "      <td>Others</td>\n",
       "      <td>J0113-TP-S</td>\n",
       "      <td>Top</td>\n",
       "      <td>S</td>\n",
       "      <td>1</td>\n",
       "      <td>INR</td>\n",
       "      <td>540</td>\n",
       "      <td>SOUTH DELHI</td>\n",
       "      <td>DELHI</td>\n",
       "      <td>110017</td>\n",
       "      <td>IN</td>\n",
       "      <td>False</td>\n",
       "    </tr>\n",
       "    <tr>\n",
       "      <th>53</th>\n",
       "      <td>54</td>\n",
       "      <td>171-2439278-5433152</td>\n",
       "      <td>2439278</td>\n",
       "      <td>M</td>\n",
       "      <td>39</td>\n",
       "      <td>04-12-2022</td>\n",
       "      <td>Delivered</td>\n",
       "      <td>Myntra</td>\n",
       "      <td>SET268-KR-NP-XS</td>\n",
       "      <td>Set</td>\n",
       "      <td>XS</td>\n",
       "      <td>1</td>\n",
       "      <td>INR</td>\n",
       "      <td>698</td>\n",
       "      <td>KHALILABAD</td>\n",
       "      <td>UTTAR PRADESH</td>\n",
       "      <td>272175</td>\n",
       "      <td>IN</td>\n",
       "      <td>False</td>\n",
       "    </tr>\n",
       "    <tr>\n",
       "      <th>54</th>\n",
       "      <td>55</td>\n",
       "      <td>405-8874360-4913961</td>\n",
       "      <td>8874360</td>\n",
       "      <td>M</td>\n",
       "      <td>23</td>\n",
       "      <td>04-12-2022</td>\n",
       "      <td>Delivered</td>\n",
       "      <td>Others</td>\n",
       "      <td>J0004-SKD-XXL</td>\n",
       "      <td>Set</td>\n",
       "      <td>XXL</td>\n",
       "      <td>1</td>\n",
       "      <td>INR</td>\n",
       "      <td>1115</td>\n",
       "      <td>NEW DELHI</td>\n",
       "      <td>DELHI</td>\n",
       "      <td>110016</td>\n",
       "      <td>IN</td>\n",
       "      <td>False</td>\n",
       "    </tr>\n",
       "    <tr>\n",
       "      <th>55</th>\n",
       "      <td>56</td>\n",
       "      <td>408-4675134-5301129</td>\n",
       "      <td>4675134</td>\n",
       "      <td>Women</td>\n",
       "      <td>58</td>\n",
       "      <td>04-12-2022</td>\n",
       "      <td>Delivered</td>\n",
       "      <td>Meesho</td>\n",
       "      <td>SET209-KR-PP-XXL</td>\n",
       "      <td>Set</td>\n",
       "      <td>XXL</td>\n",
       "      <td>1</td>\n",
       "      <td>INR</td>\n",
       "      <td>507</td>\n",
       "      <td>HYDERABAD</td>\n",
       "      <td>TELANGANA</td>\n",
       "      <td>500008</td>\n",
       "      <td>IN</td>\n",
       "      <td>False</td>\n",
       "    </tr>\n",
       "  </tbody>\n",
       "</table>\n",
       "</div>"
      ],
      "text/plain": [
       "    index             Order ID  Cust ID Gender  Age        Date     Status  \\\n",
       "50     51  405-4213846-6141157  4213846  Women   27  04-12-2022  Delivered   \n",
       "51     52  407-7381557-9088310  7381557  Women   21  04-12-2022  Delivered   \n",
       "52     53  403-0817885-3061963   817885  Women   43  04-12-2022  Delivered   \n",
       "53     54  171-2439278-5433152  2439278      M   39  04-12-2022  Delivered   \n",
       "54     55  405-8874360-4913961  8874360      M   23  04-12-2022  Delivered   \n",
       "55     56  408-4675134-5301129  4675134  Women   58  04-12-2022  Delivered   \n",
       "\n",
       "   Channel                SKU Category Size Qty currency  Amount    ship-city  \\\n",
       "50   Amazon       J0003-SET-M      Set    M   1      INR     664    HYDERABAD   \n",
       "51   Others       J0230-SKD-M      Set    M   1      INR    1112    Allahabad   \n",
       "52   Others        J0113-TP-S      Top    S   1      INR     540  SOUTH DELHI   \n",
       "53   Myntra   SET268-KR-NP-XS      Set   XS   1      INR     698   KHALILABAD   \n",
       "54   Others     J0004-SKD-XXL      Set  XXL   1      INR    1115    NEW DELHI   \n",
       "55   Meesho  SET209-KR-PP-XXL      Set  XXL   1      INR     507    HYDERABAD   \n",
       "\n",
       "       ship-state  ship-postal-code ship-country    B2B  \n",
       "50      TELANGANA            500039           IN  False  \n",
       "51  UTTAR PRADESH            211001           IN  False  \n",
       "52          DELHI            110017           IN  False  \n",
       "53  UTTAR PRADESH            272175           IN  False  \n",
       "54          DELHI            110016           IN  False  \n",
       "55      TELANGANA            500008           IN  False  "
      ]
     },
     "execution_count": 50,
     "metadata": {},
     "output_type": "execute_result"
    }
   ],
   "source": [
    "akash_tbl[50:56]"
   ]
  },
  {
   "cell_type": "code",
   "execution_count": 51,
   "id": "8ba38113",
   "metadata": {},
   "outputs": [
    {
     "name": "stdout",
     "output_type": "stream",
     "text": [
      "<class 'pandas.core.frame.DataFrame'>\n",
      "RangeIndex: 31047 entries, 0 to 31046\n",
      "Data columns (total 19 columns):\n",
      " #   Column            Non-Null Count  Dtype \n",
      "---  ------            --------------  ----- \n",
      " 0   index             31047 non-null  int64 \n",
      " 1   Order ID          31047 non-null  object\n",
      " 2   Cust ID           31047 non-null  int64 \n",
      " 3   Gender            31047 non-null  object\n",
      " 4   Age               31047 non-null  int64 \n",
      " 5   Date              31047 non-null  object\n",
      " 6   Status            31047 non-null  object\n",
      " 7   Channel           31047 non-null  object\n",
      " 8   SKU               31047 non-null  object\n",
      " 9   Category          31047 non-null  object\n",
      " 10  Size              31047 non-null  object\n",
      " 11  Qty               31047 non-null  object\n",
      " 12  currency          31047 non-null  object\n",
      " 13  Amount            31047 non-null  int64 \n",
      " 14  ship-city         31047 non-null  object\n",
      " 15  ship-state        31047 non-null  object\n",
      " 16  ship-postal-code  31047 non-null  int64 \n",
      " 17  ship-country      31047 non-null  object\n",
      " 18  B2B               31047 non-null  bool  \n",
      "dtypes: bool(1), int64(5), object(13)\n",
      "memory usage: 4.3+ MB\n"
     ]
    }
   ],
   "source": [
    "akash_tbl.info()"
   ]
  },
  {
   "cell_type": "code",
   "execution_count": 52,
   "id": "467ed002",
   "metadata": {},
   "outputs": [
    {
     "data": {
      "text/plain": [
       "index                int64\n",
       "Order ID            object\n",
       "Cust ID              int64\n",
       "Gender              object\n",
       "Age                  int64\n",
       "Date                object\n",
       "Status              object\n",
       "Channel             object\n",
       "SKU                 object\n",
       "Category            object\n",
       "Size                object\n",
       "Qty                 object\n",
       "currency            object\n",
       "Amount               int64\n",
       "ship-city           object\n",
       "ship-state          object\n",
       "ship-postal-code     int64\n",
       "ship-country        object\n",
       "B2B                   bool\n",
       "dtype: object"
      ]
     },
     "execution_count": 52,
     "metadata": {},
     "output_type": "execute_result"
    }
   ],
   "source": [
    "akash_tbl.dtypes"
   ]
  },
  {
   "cell_type": "code",
   "execution_count": 53,
   "id": "ad008c25",
   "metadata": {},
   "outputs": [
    {
     "data": {
      "text/html": [
       "<div>\n",
       "<style scoped>\n",
       "    .dataframe tbody tr th:only-of-type {\n",
       "        vertical-align: middle;\n",
       "    }\n",
       "\n",
       "    .dataframe tbody tr th {\n",
       "        vertical-align: top;\n",
       "    }\n",
       "\n",
       "    .dataframe thead th {\n",
       "        text-align: right;\n",
       "    }\n",
       "</style>\n",
       "<table border=\"1\" class=\"dataframe\">\n",
       "  <thead>\n",
       "    <tr style=\"text-align: right;\">\n",
       "      <th></th>\n",
       "      <th>index</th>\n",
       "      <th>Cust ID</th>\n",
       "      <th>Age</th>\n",
       "      <th>Amount</th>\n",
       "      <th>ship-postal-code</th>\n",
       "    </tr>\n",
       "  </thead>\n",
       "  <tbody>\n",
       "    <tr>\n",
       "      <th>count</th>\n",
       "      <td>31047.00000</td>\n",
       "      <td>3.104700e+04</td>\n",
       "      <td>31047.000000</td>\n",
       "      <td>31047.000000</td>\n",
       "      <td>31047.000000</td>\n",
       "    </tr>\n",
       "    <tr>\n",
       "      <th>mean</th>\n",
       "      <td>15524.00000</td>\n",
       "      <td>4.936824e+06</td>\n",
       "      <td>39.496570</td>\n",
       "      <td>682.074822</td>\n",
       "      <td>460474.587206</td>\n",
       "    </tr>\n",
       "    <tr>\n",
       "      <th>std</th>\n",
       "      <td>8962.64124</td>\n",
       "      <td>2.900678e+06</td>\n",
       "      <td>15.117233</td>\n",
       "      <td>268.582173</td>\n",
       "      <td>198116.733009</td>\n",
       "    </tr>\n",
       "    <tr>\n",
       "      <th>min</th>\n",
       "      <td>1.00000</td>\n",
       "      <td>8.950000e+02</td>\n",
       "      <td>18.000000</td>\n",
       "      <td>229.000000</td>\n",
       "      <td>110001.000000</td>\n",
       "    </tr>\n",
       "    <tr>\n",
       "      <th>25%</th>\n",
       "      <td>7762.50000</td>\n",
       "      <td>2.416471e+06</td>\n",
       "      <td>28.000000</td>\n",
       "      <td>486.000000</td>\n",
       "      <td>313001.000000</td>\n",
       "    </tr>\n",
       "    <tr>\n",
       "      <th>50%</th>\n",
       "      <td>15524.00000</td>\n",
       "      <td>4.909885e+06</td>\n",
       "      <td>37.000000</td>\n",
       "      <td>646.000000</td>\n",
       "      <td>500028.000000</td>\n",
       "    </tr>\n",
       "    <tr>\n",
       "      <th>75%</th>\n",
       "      <td>23285.50000</td>\n",
       "      <td>7.454182e+06</td>\n",
       "      <td>47.000000</td>\n",
       "      <td>794.000000</td>\n",
       "      <td>600040.000000</td>\n",
       "    </tr>\n",
       "    <tr>\n",
       "      <th>max</th>\n",
       "      <td>31047.00000</td>\n",
       "      <td>9.999233e+06</td>\n",
       "      <td>78.000000</td>\n",
       "      <td>3036.000000</td>\n",
       "      <td>855117.000000</td>\n",
       "    </tr>\n",
       "  </tbody>\n",
       "</table>\n",
       "</div>"
      ],
      "text/plain": [
       "             index       Cust ID           Age        Amount  ship-postal-code\n",
       "count  31047.00000  3.104700e+04  31047.000000  31047.000000      31047.000000\n",
       "mean   15524.00000  4.936824e+06     39.496570    682.074822     460474.587206\n",
       "std     8962.64124  2.900678e+06     15.117233    268.582173     198116.733009\n",
       "min        1.00000  8.950000e+02     18.000000    229.000000     110001.000000\n",
       "25%     7762.50000  2.416471e+06     28.000000    486.000000     313001.000000\n",
       "50%    15524.00000  4.909885e+06     37.000000    646.000000     500028.000000\n",
       "75%    23285.50000  7.454182e+06     47.000000    794.000000     600040.000000\n",
       "max    31047.00000  9.999233e+06     78.000000   3036.000000     855117.000000"
      ]
     },
     "execution_count": 53,
     "metadata": {},
     "output_type": "execute_result"
    }
   ],
   "source": [
    "akash_tbl.describe()"
   ]
  },
  {
   "cell_type": "code",
   "execution_count": 54,
   "id": "67955f9e",
   "metadata": {},
   "outputs": [
    {
     "data": {
      "text/plain": [
       "(31047, 19)"
      ]
     },
     "execution_count": 54,
     "metadata": {},
     "output_type": "execute_result"
    }
   ],
   "source": [
    "akash_tbl.shape"
   ]
  },
  {
   "cell_type": "code",
   "execution_count": 57,
   "id": "847c2c4c",
   "metadata": {},
   "outputs": [
    {
     "data": {
      "text/plain": [
       "0"
      ]
     },
     "execution_count": 57,
     "metadata": {},
     "output_type": "execute_result"
    }
   ],
   "source": [
    "akash_tbl.isnull().sum().sum()"
   ]
  },
  {
   "cell_type": "code",
   "execution_count": null,
   "id": "4a5b787d",
   "metadata": {},
   "outputs": [],
   "source": []
  }
 ],
 "metadata": {
  "kernelspec": {
   "display_name": "Python 3 (ipykernel)",
   "language": "python",
   "name": "python3"
  },
  "language_info": {
   "codemirror_mode": {
    "name": "ipython",
    "version": 3
   },
   "file_extension": ".py",
   "mimetype": "text/x-python",
   "name": "python",
   "nbconvert_exporter": "python",
   "pygments_lexer": "ipython3",
   "version": "3.9.13"
  }
 },
 "nbformat": 4,
 "nbformat_minor": 5
}
