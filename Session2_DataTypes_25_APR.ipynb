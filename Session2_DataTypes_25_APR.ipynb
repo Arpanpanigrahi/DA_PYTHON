{
 "cells": [
  {
   "cell_type": "code",
   "execution_count": 16,
   "id": "0ff189b7",
   "metadata": {},
   "outputs": [],
   "source": [
    "name='satyam'\n",
    "number=12345\n",
    "abc= \"my name is satyam\"\n",
    "# print(name)\n"
   ]
  },
  {
   "cell_type": "code",
   "execution_count": 17,
   "id": "d525ab6e",
   "metadata": {},
   "outputs": [
    {
     "data": {
      "text/plain": [
       "'satyam'"
      ]
     },
     "execution_count": 17,
     "metadata": {},
     "output_type": "execute_result"
    }
   ],
   "source": [
    "name\n",
    "# number"
   ]
  },
  {
   "cell_type": "code",
   "execution_count": 18,
   "id": "5fbfb0b1",
   "metadata": {},
   "outputs": [
    {
     "name": "stdout",
     "output_type": "stream",
     "text": [
      "satyam\n"
     ]
    },
    {
     "data": {
      "text/plain": [
       "12345"
      ]
     },
     "execution_count": 18,
     "metadata": {},
     "output_type": "execute_result"
    }
   ],
   "source": [
    "print(name)\n",
    "number"
   ]
  },
  {
   "cell_type": "code",
   "execution_count": 19,
   "id": "0bbfc838",
   "metadata": {},
   "outputs": [
    {
     "name": "stdout",
     "output_type": "stream",
     "text": [
      "12345\n"
     ]
    }
   ],
   "source": [
    "name\n",
    "print(number)"
   ]
  },
  {
   "cell_type": "code",
   "execution_count": 20,
   "id": "a43065e3",
   "metadata": {},
   "outputs": [
    {
     "name": "stdout",
     "output_type": "stream",
     "text": [
      "my name is satyam\n"
     ]
    }
   ],
   "source": [
    "print(\"my name is satyam\")"
   ]
  },
  {
   "cell_type": "code",
   "execution_count": 21,
   "id": "5258643c",
   "metadata": {},
   "outputs": [
    {
     "name": "stdout",
     "output_type": "stream",
     "text": [
      "12345\n"
     ]
    }
   ],
   "source": [
    "print(12345)"
   ]
  },
  {
   "cell_type": "code",
   "execution_count": 23,
   "id": "bd9c1c55",
   "metadata": {},
   "outputs": [
    {
     "name": "stdout",
     "output_type": "stream",
     "text": [
      "15\n"
     ]
    }
   ],
   "source": [
    "a=10\n",
    "a=15\n",
    "print(a)"
   ]
  },
  {
   "cell_type": "code",
   "execution_count": 24,
   "id": "cb497fb5",
   "metadata": {},
   "outputs": [
    {
     "name": "stdout",
     "output_type": "stream",
     "text": [
      "15.7\n"
     ]
    }
   ],
   "source": [
    "a=15.7\n",
    "print(a)"
   ]
  },
  {
   "cell_type": "code",
   "execution_count": 25,
   "id": "1f4fc250",
   "metadata": {},
   "outputs": [
    {
     "name": "stdout",
     "output_type": "stream",
     "text": [
      "satyam\n"
     ]
    }
   ],
   "source": [
    "a=\"satyam\"\n",
    "print(a)"
   ]
  },
  {
   "cell_type": "code",
   "execution_count": null,
   "id": "602a28ac",
   "metadata": {},
   "outputs": [],
   "source": [
    "int--1,2,3,4,5\n",
    "float--1.5,2.6,3.4\n",
    "char-\"\", \"satyam\",\"akash\",\"12345\"\n",
    "date-\"06-07-1993\",\"15-12-2000\"\n",
    "boolean- True/False, 0/1, Yes/No\n",
    "complex-1+5j,3+16j\n",
    "list--\n",
    "set\n",
    "dictonary\n",
    "tupple"
   ]
  },
  {
   "cell_type": "code",
   "execution_count": 26,
   "id": "bc875439",
   "metadata": {},
   "outputs": [
    {
     "name": "stdout",
     "output_type": "stream",
     "text": [
      "10\n",
      "<class 'int'>\n"
     ]
    }
   ],
   "source": [
    "a=10\n",
    "print(a)\n",
    "print(type(a))\n",
    "\n"
   ]
  },
  {
   "cell_type": "code",
   "execution_count": 28,
   "id": "4f22e7cf",
   "metadata": {},
   "outputs": [
    {
     "name": "stdout",
     "output_type": "stream",
     "text": [
      "5.6\n",
      "<class 'float'>\n"
     ]
    }
   ],
   "source": [
    "b=5.6\n",
    "print(b)\n",
    "print(type(b))"
   ]
  },
  {
   "cell_type": "code",
   "execution_count": 29,
   "id": "f4eb7afc",
   "metadata": {},
   "outputs": [
    {
     "name": "stdout",
     "output_type": "stream",
     "text": [
      "5.0\n",
      "<class 'float'>\n"
     ]
    }
   ],
   "source": [
    "c=5.0\n",
    "print(c)\n",
    "print(type(c))"
   ]
  },
  {
   "cell_type": "code",
   "execution_count": 30,
   "id": "af21dc39",
   "metadata": {},
   "outputs": [
    {
     "name": "stdout",
     "output_type": "stream",
     "text": [
      "satyam\n",
      "<class 'str'>\n"
     ]
    }
   ],
   "source": [
    "abc=\"satyam\"\n",
    "print(abc)\n",
    "print(type(abc))"
   ]
  },
  {
   "cell_type": "code",
   "execution_count": 31,
   "id": "363649c4",
   "metadata": {},
   "outputs": [
    {
     "name": "stdout",
     "output_type": "stream",
     "text": [
      "1\n",
      "2\n",
      "3\n",
      "1 2 3\n"
     ]
    }
   ],
   "source": [
    "x,y,z=1,2,3\n",
    "print(x)\n",
    "print(y)\n",
    "print(z)\n",
    "print(x,y,z)"
   ]
  },
  {
   "cell_type": "code",
   "execution_count": 32,
   "id": "0636b1ad",
   "metadata": {},
   "outputs": [
    {
     "name": "stdout",
     "output_type": "stream",
     "text": [
      "<class 'int'>\n"
     ]
    }
   ],
   "source": [
    "z=10\n",
    "print(type(z))"
   ]
  },
  {
   "cell_type": "code",
   "execution_count": 33,
   "id": "8d6c32a3",
   "metadata": {},
   "outputs": [
    {
     "data": {
      "text/plain": [
       "10"
      ]
     },
     "execution_count": 33,
     "metadata": {},
     "output_type": "execute_result"
    }
   ],
   "source": [
    "z"
   ]
  },
  {
   "cell_type": "code",
   "execution_count": 34,
   "id": "c63a1ff2",
   "metadata": {},
   "outputs": [
    {
     "name": "stdout",
     "output_type": "stream",
     "text": [
      "10.0\n",
      "<class 'float'>\n"
     ]
    }
   ],
   "source": [
    "y=float(z)\n",
    "print(y)\n",
    "print(type(y))"
   ]
  },
  {
   "cell_type": "code",
   "execution_count": 37,
   "id": "a098f318",
   "metadata": {},
   "outputs": [
    {
     "name": "stdout",
     "output_type": "stream",
     "text": [
      "5\n",
      "<class 'int'>\n"
     ]
    }
   ],
   "source": [
    "x=5.8\n",
    "y=int(x)\n",
    "print(y)\n",
    "print(type(y))"
   ]
  },
  {
   "cell_type": "code",
   "execution_count": 38,
   "id": "9d9e0c4f",
   "metadata": {},
   "outputs": [
    {
     "name": "stdout",
     "output_type": "stream",
     "text": [
      "10\n",
      "<class 'str'>\n"
     ]
    }
   ],
   "source": [
    "x=10\n",
    "y=str(x)\n",
    "print(y)\n",
    "print(type(y))"
   ]
  },
  {
   "cell_type": "code",
   "execution_count": 39,
   "id": "01d7c2e3",
   "metadata": {},
   "outputs": [
    {
     "name": "stdout",
     "output_type": "stream",
     "text": [
      "10\n"
     ]
    }
   ],
   "source": [
    "print(y)"
   ]
  },
  {
   "cell_type": "code",
   "execution_count": 41,
   "id": "20b9215b",
   "metadata": {},
   "outputs": [
    {
     "name": "stdout",
     "output_type": "stream",
     "text": [
      "20\n"
     ]
    }
   ],
   "source": [
    "abc=10\n",
    "print(abc+10)"
   ]
  },
  {
   "cell_type": "code",
   "execution_count": 43,
   "id": "f7176729",
   "metadata": {},
   "outputs": [
    {
     "name": "stdout",
     "output_type": "stream",
     "text": [
      "True\n"
     ]
    }
   ],
   "source": [
    "print(15<20)"
   ]
  },
  {
   "cell_type": "code",
   "execution_count": 44,
   "id": "7a5f1853",
   "metadata": {},
   "outputs": [
    {
     "name": "stdout",
     "output_type": "stream",
     "text": [
      "False\n"
     ]
    }
   ],
   "source": [
    "print(15>20)"
   ]
  },
  {
   "cell_type": "code",
   "execution_count": 45,
   "id": "a727e958",
   "metadata": {},
   "outputs": [
    {
     "name": "stdout",
     "output_type": "stream",
     "text": [
      "120\n"
     ]
    }
   ],
   "source": [
    "a=100\n",
    "b=20\n",
    "c=a+b\n",
    "print(c)"
   ]
  },
  {
   "cell_type": "code",
   "execution_count": 46,
   "id": "c7870af1",
   "metadata": {},
   "outputs": [
    {
     "name": "stdout",
     "output_type": "stream",
     "text": [
      "80\n"
     ]
    }
   ],
   "source": [
    "a=100\n",
    "b=20\n",
    "c=a-b\n",
    "print(c)"
   ]
  },
  {
   "cell_type": "code",
   "execution_count": 50,
   "id": "10201e9c",
   "metadata": {},
   "outputs": [
    {
     "name": "stdout",
     "output_type": "stream",
     "text": [
      "2000\n"
     ]
    }
   ],
   "source": [
    "a=100\n",
    "b=20\n",
    "c=a*b\n",
    "print(c)"
   ]
  },
  {
   "cell_type": "code",
   "execution_count": 51,
   "id": "7941ac84",
   "metadata": {},
   "outputs": [
    {
     "name": "stdout",
     "output_type": "stream",
     "text": [
      "5.0\n"
     ]
    }
   ],
   "source": [
    "a=100\n",
    "b=20\n",
    "c=a/b\n",
    "print(c)"
   ]
  },
  {
   "cell_type": "code",
   "execution_count": 52,
   "id": "6c9a0f06",
   "metadata": {},
   "outputs": [
    {
     "name": "stdout",
     "output_type": "stream",
     "text": [
      "6.666666666666667\n"
     ]
    }
   ],
   "source": [
    "a=100\n",
    "b=15\n",
    "c=a/b\n",
    "print(c)"
   ]
  },
  {
   "cell_type": "code",
   "execution_count": 53,
   "id": "93ac0b55",
   "metadata": {},
   "outputs": [
    {
     "name": "stdout",
     "output_type": "stream",
     "text": [
      "6\n"
     ]
    }
   ],
   "source": [
    "a=100\n",
    "b=15\n",
    "c=a//b\n",
    "print(c)"
   ]
  },
  {
   "cell_type": "code",
   "execution_count": 54,
   "id": "cf777bd8",
   "metadata": {},
   "outputs": [
    {
     "name": "stdout",
     "output_type": "stream",
     "text": [
      "10\n"
     ]
    }
   ],
   "source": [
    "a=100\n",
    "b=15\n",
    "c=a%b\n",
    "print(c)"
   ]
  },
  {
   "cell_type": "code",
   "execution_count": 60,
   "id": "e480ee2a",
   "metadata": {},
   "outputs": [
    {
     "name": "stdout",
     "output_type": "stream",
     "text": [
      "25\n"
     ]
    }
   ],
   "source": [
    "a=5\n",
    "b=2\n",
    "c=a**b #5 square 2\n",
    "print(c)"
   ]
  },
  {
   "cell_type": "code",
   "execution_count": 62,
   "id": "9c9c06ac",
   "metadata": {
    "scrolled": true
   },
   "outputs": [
    {
     "name": "stdout",
     "output_type": "stream",
     "text": [
      "125\n"
     ]
    }
   ],
   "source": [
    "a=5\n",
    "b=3\n",
    "c=a**b #5 square 2\n",
    "print(c)"
   ]
  },
  {
   "cell_type": "code",
   "execution_count": null,
   "id": "de16d9a0",
   "metadata": {},
   "outputs": [],
   "source": [
    "opertor\n",
    "arithmatic\n",
    "assignment\n",
    "comparision\n",
    "logical\n",
    "identity\n",
    "bitwise"
   ]
  },
  {
   "cell_type": "code",
   "execution_count": null,
   "id": "7b6fd615",
   "metadata": {},
   "outputs": [],
   "source": [
    "arithmatic operator\n",
    "+,-,*,/,//,**,%"
   ]
  },
  {
   "cell_type": "code",
   "execution_count": null,
   "id": "85ec19ae",
   "metadata": {},
   "outputs": [],
   "source": [
    "assignment:-\n",
    "asus,lenovo,hp\n",
    "\n",
    "laptop=\"lenovo\"\n"
   ]
  },
  {
   "cell_type": "code",
   "execution_count": null,
   "id": "6a3caf51",
   "metadata": {},
   "outputs": [],
   "source": [
    "comparision\n",
    "<,>,=,<=,>=,!=,=="
   ]
  },
  {
   "cell_type": "code",
   "execution_count": null,
   "id": "383734fc",
   "metadata": {},
   "outputs": [],
   "source": [
    "logical\n",
    "and , or ,in, not in\n",
    "&,|,in,not in"
   ]
  },
  {
   "cell_type": "code",
   "execution_count": null,
   "id": "901bf679",
   "metadata": {},
   "outputs": [],
   "source": [
    "special/identity\n",
    "between and \n"
   ]
  },
  {
   "cell_type": "code",
   "execution_count": null,
   "id": "6572bba8",
   "metadata": {},
   "outputs": [],
   "source": [
    "#data types in Python\n",
    "int,float,boolean,string,complex,date\n",
    "\n",
    "List,set,dictionary,Tuple"
   ]
  },
  {
   "cell_type": "code",
   "execution_count": null,
   "id": "dbf1fc05",
   "metadata": {},
   "outputs": [],
   "source": [
    "#List datatype\n",
    "1. Mention in square bracket-[]\n",
    "2.Collection of item (includes int,float,string)\n",
    "3.It is mutable- means we can change,add,remove items from a list\n"
   ]
  },
  {
   "cell_type": "code",
   "execution_count": 64,
   "id": "ef13e228",
   "metadata": {},
   "outputs": [
    {
     "data": {
      "text/plain": [
       "list"
      ]
     },
     "execution_count": 64,
     "metadata": {},
     "output_type": "execute_result"
    }
   ],
   "source": [
    "abc=[1,2,3,\"apple\",\"grapes\"]\n",
    "type(abc)"
   ]
  },
  {
   "cell_type": "code",
   "execution_count": 65,
   "id": "b77bf4d7",
   "metadata": {},
   "outputs": [
    {
     "data": {
      "text/plain": [
       "5"
      ]
     },
     "execution_count": 65,
     "metadata": {},
     "output_type": "execute_result"
    }
   ],
   "source": [
    "# no of item present in a list\n",
    "len(abc)"
   ]
  },
  {
   "cell_type": "code",
   "execution_count": 67,
   "id": "a1900393",
   "metadata": {},
   "outputs": [],
   "source": [
    "# add item to a list in the last position\n",
    "abc.append(\"Banana\")"
   ]
  },
  {
   "cell_type": "code",
   "execution_count": 68,
   "id": "63921852",
   "metadata": {},
   "outputs": [
    {
     "name": "stdout",
     "output_type": "stream",
     "text": [
      "[1, 2, 3, 'apple', 'grapes', 'Banana']\n"
     ]
    }
   ],
   "source": [
    "print(abc)"
   ]
  },
  {
   "cell_type": "code",
   "execution_count": 69,
   "id": "7592a0e1",
   "metadata": {},
   "outputs": [
    {
     "data": {
      "text/plain": [
       "[1, 2, 3, 'apple', 'grapes', 'Banana']"
      ]
     },
     "execution_count": 69,
     "metadata": {},
     "output_type": "execute_result"
    }
   ],
   "source": [
    "# Indexing\n",
    "abc[:]"
   ]
  },
  {
   "cell_type": "code",
   "execution_count": 70,
   "id": "5c1e6923",
   "metadata": {},
   "outputs": [
    {
     "data": {
      "text/plain": [
       "[2, 3, 'apple', 'grapes', 'Banana']"
      ]
     },
     "execution_count": 70,
     "metadata": {},
     "output_type": "execute_result"
    }
   ],
   "source": [
    "abc[1:]"
   ]
  },
  {
   "cell_type": "code",
   "execution_count": 71,
   "id": "b34ee6ce",
   "metadata": {},
   "outputs": [
    {
     "data": {
      "text/plain": [
       "[3, 'apple', 'grapes', 'Banana']"
      ]
     },
     "execution_count": 71,
     "metadata": {},
     "output_type": "execute_result"
    }
   ],
   "source": [
    "abc[2:]"
   ]
  },
  {
   "cell_type": "code",
   "execution_count": 72,
   "id": "e7905e1c",
   "metadata": {},
   "outputs": [
    {
     "data": {
      "text/plain": [
       "[3, 'apple', 'grapes']"
      ]
     },
     "execution_count": 72,
     "metadata": {},
     "output_type": "execute_result"
    }
   ],
   "source": [
    "abc[2:5]"
   ]
  },
  {
   "cell_type": "code",
   "execution_count": 73,
   "id": "9fcf7dbb",
   "metadata": {},
   "outputs": [
    {
     "data": {
      "text/plain": [
       "[1, 2, 3, 'apple']"
      ]
     },
     "execution_count": 73,
     "metadata": {},
     "output_type": "execute_result"
    }
   ],
   "source": [
    "abc[:4]"
   ]
  },
  {
   "cell_type": "code",
   "execution_count": 74,
   "id": "5eec576c",
   "metadata": {},
   "outputs": [
    {
     "data": {
      "text/plain": [
       "[3, 'apple']"
      ]
     },
     "execution_count": 74,
     "metadata": {},
     "output_type": "execute_result"
    }
   ],
   "source": [
    "abc[2:4]"
   ]
  },
  {
   "cell_type": "code",
   "execution_count": 75,
   "id": "878ce397",
   "metadata": {},
   "outputs": [
    {
     "data": {
      "text/plain": [
       "['Banana', 'grapes', 'apple', 3, 2, 1]"
      ]
     },
     "execution_count": 75,
     "metadata": {},
     "output_type": "execute_result"
    }
   ],
   "source": [
    "# Reverse string value in a list\n",
    "abc[::-1]"
   ]
  },
  {
   "cell_type": "code",
   "execution_count": 77,
   "id": "11171729",
   "metadata": {},
   "outputs": [
    {
     "data": {
      "text/plain": [
       "'Banana'"
      ]
     },
     "execution_count": 77,
     "metadata": {},
     "output_type": "execute_result"
    }
   ],
   "source": [
    "abc[-1]"
   ]
  },
  {
   "cell_type": "code",
   "execution_count": 78,
   "id": "ba14fdab",
   "metadata": {},
   "outputs": [
    {
     "data": {
      "text/plain": [
       "[1, 2, 3, 'apple', 'grapes', 'Banana']"
      ]
     },
     "execution_count": 78,
     "metadata": {},
     "output_type": "execute_result"
    }
   ],
   "source": [
    "abc"
   ]
  },
  {
   "cell_type": "code",
   "execution_count": 81,
   "id": "d66cc512",
   "metadata": {},
   "outputs": [
    {
     "data": {
      "text/plain": [
       "'Banana'"
      ]
     },
     "execution_count": 81,
     "metadata": {},
     "output_type": "execute_result"
    }
   ],
   "source": [
    "abc[5]"
   ]
  },
  {
   "cell_type": "code",
   "execution_count": 83,
   "id": "96eb7dcb",
   "metadata": {},
   "outputs": [
    {
     "data": {
      "text/plain": [
       "[1, 2, 3, 'apple', 'grapes', 'Banana']"
      ]
     },
     "execution_count": 83,
     "metadata": {},
     "output_type": "execute_result"
    }
   ],
   "source": [
    "abc"
   ]
  },
  {
   "cell_type": "code",
   "execution_count": 84,
   "id": "c578d2a1",
   "metadata": {},
   "outputs": [
    {
     "data": {
      "text/plain": [
       "[1, 2, 3, 4, 'apple', 'grapes', 'Banana']"
      ]
     },
     "execution_count": 84,
     "metadata": {},
     "output_type": "execute_result"
    }
   ],
   "source": [
    "# insert item in between the list\n",
    "abc.insert(3,4)\n",
    "abc"
   ]
  },
  {
   "cell_type": "code",
   "execution_count": 85,
   "id": "c9040142",
   "metadata": {},
   "outputs": [
    {
     "data": {
      "text/plain": [
       "[1, 2, 3, 4, 'apple', 'grapes', 'Banana']"
      ]
     },
     "execution_count": 85,
     "metadata": {},
     "output_type": "execute_result"
    }
   ],
   "source": [
    "abc"
   ]
  },
  {
   "cell_type": "code",
   "execution_count": 87,
   "id": "552d6249",
   "metadata": {},
   "outputs": [],
   "source": [
    "abc.append(5)"
   ]
  },
  {
   "cell_type": "code",
   "execution_count": 88,
   "id": "0b319b1c",
   "metadata": {},
   "outputs": [
    {
     "data": {
      "text/plain": [
       "[1, 2, 3, 4, 'apple', 'grapes', 'Banana', 5]"
      ]
     },
     "execution_count": 88,
     "metadata": {},
     "output_type": "execute_result"
    }
   ],
   "source": [
    "abc"
   ]
  },
  {
   "cell_type": "code",
   "execution_count": 90,
   "id": "3ce85bc0",
   "metadata": {},
   "outputs": [],
   "source": [
    "abc.append([6])"
   ]
  },
  {
   "cell_type": "code",
   "execution_count": 91,
   "id": "9d091ad9",
   "metadata": {},
   "outputs": [
    {
     "data": {
      "text/plain": [
       "[1, 2, 3, 4, 'apple', 'grapes', 'Banana', 5, [6]]"
      ]
     },
     "execution_count": 91,
     "metadata": {},
     "output_type": "execute_result"
    }
   ],
   "source": [
    "abc"
   ]
  },
  {
   "cell_type": "code",
   "execution_count": 100,
   "id": "438f7e6c",
   "metadata": {},
   "outputs": [
    {
     "data": {
      "text/plain": [
       "[1, 2, 3, 'apple', 'grapes']"
      ]
     },
     "execution_count": 100,
     "metadata": {},
     "output_type": "execute_result"
    }
   ],
   "source": [
    "xyz=[1,2,3,\"apple\",\"grapes\"]\n",
    "xyz"
   ]
  },
  {
   "cell_type": "code",
   "execution_count": 101,
   "id": "ff1923f5",
   "metadata": {},
   "outputs": [],
   "source": [
    "xyz.append([4,5])"
   ]
  },
  {
   "cell_type": "code",
   "execution_count": 102,
   "id": "b67efcf6",
   "metadata": {},
   "outputs": [
    {
     "data": {
      "text/plain": [
       "[1, 2, 3, 'apple', 'grapes', [4, 5]]"
      ]
     },
     "execution_count": 102,
     "metadata": {},
     "output_type": "execute_result"
    }
   ],
   "source": [
    "xyz"
   ]
  },
  {
   "cell_type": "code",
   "execution_count": 103,
   "id": "f92701b9",
   "metadata": {},
   "outputs": [],
   "source": [
    "xyz.extend([4,5])"
   ]
  },
  {
   "cell_type": "code",
   "execution_count": 104,
   "id": "3c5040ce",
   "metadata": {},
   "outputs": [
    {
     "data": {
      "text/plain": [
       "[1, 2, 3, 'apple', 'grapes', [4, 5], 4, 5]"
      ]
     },
     "execution_count": 104,
     "metadata": {},
     "output_type": "execute_result"
    }
   ],
   "source": [
    "xyz"
   ]
  },
  {
   "cell_type": "code",
   "execution_count": 105,
   "id": "016c4723",
   "metadata": {},
   "outputs": [
    {
     "data": {
      "text/plain": [
       "[4, 5]"
      ]
     },
     "execution_count": 105,
     "metadata": {},
     "output_type": "execute_result"
    }
   ],
   "source": [
    "# remove a item in a list\n",
    "xyz.pop(5)"
   ]
  },
  {
   "cell_type": "code",
   "execution_count": 106,
   "id": "55a28eed",
   "metadata": {},
   "outputs": [
    {
     "data": {
      "text/plain": [
       "[1, 2, 3, 'apple', 'grapes', 4, 5]"
      ]
     },
     "execution_count": 106,
     "metadata": {},
     "output_type": "execute_result"
    }
   ],
   "source": [
    "xyz"
   ]
  },
  {
   "cell_type": "code",
   "execution_count": 108,
   "id": "cb256982",
   "metadata": {},
   "outputs": [],
   "source": [
    "# replacing item with a another item\n",
    "xyz[4]=\"Banana\""
   ]
  },
  {
   "cell_type": "code",
   "execution_count": 109,
   "id": "1afd81ba",
   "metadata": {},
   "outputs": [
    {
     "data": {
      "text/plain": [
       "[1, 2, 3, 'apple', 'Banana', 4, 5]"
      ]
     },
     "execution_count": 109,
     "metadata": {},
     "output_type": "execute_result"
    }
   ],
   "source": [
    "xyz"
   ]
  },
  {
   "cell_type": "code",
   "execution_count": 116,
   "id": "ea3db9b4",
   "metadata": {},
   "outputs": [
    {
     "name": "stdout",
     "output_type": "stream",
     "text": [
      "[1, 2, 3, 4, 5, 1, 2, 3, 4, 5, 1, 2, 3, 4, 5]\n"
     ]
    }
   ],
   "source": [
    "xyz=[1,2,3,4,5]\n",
    "print(xyz*3)"
   ]
  },
  {
   "cell_type": "code",
   "execution_count": null,
   "id": "3f41d9c4",
   "metadata": {},
   "outputs": [],
   "source": [
    "set\n",
    "1.we cant do indexing in set\n",
    "2.It has only unique value\n",
    "3. written in curly bracket-{}"
   ]
  },
  {
   "cell_type": "code",
   "execution_count": 110,
   "id": "25da125c",
   "metadata": {},
   "outputs": [
    {
     "data": {
      "text/plain": [
       "{1, 2, 3, 'apple', 'banana'}"
      ]
     },
     "execution_count": 110,
     "metadata": {},
     "output_type": "execute_result"
    }
   ],
   "source": [
    "abc={1,2,3,\"apple\",\"banana\"}\n",
    "abc"
   ]
  },
  {
   "cell_type": "code",
   "execution_count": 111,
   "id": "30b62a91",
   "metadata": {},
   "outputs": [
    {
     "data": {
      "text/plain": [
       "set"
      ]
     },
     "execution_count": 111,
     "metadata": {},
     "output_type": "execute_result"
    }
   ],
   "source": [
    "type(abc)"
   ]
  },
  {
   "cell_type": "code",
   "execution_count": 112,
   "id": "13e6af51",
   "metadata": {},
   "outputs": [
    {
     "data": {
      "text/plain": [
       "5"
      ]
     },
     "execution_count": 112,
     "metadata": {},
     "output_type": "execute_result"
    }
   ],
   "source": [
    "len(abc)"
   ]
  },
  {
   "cell_type": "code",
   "execution_count": 114,
   "id": "e656f18c",
   "metadata": {},
   "outputs": [],
   "source": [
    "# add item to a set\n",
    "abc.add(\"mango\")"
   ]
  },
  {
   "cell_type": "code",
   "execution_count": 115,
   "id": "a98c224c",
   "metadata": {},
   "outputs": [
    {
     "data": {
      "text/plain": [
       "{1, 2, 3, 'apple', 'banana', 'mango'}"
      ]
     },
     "execution_count": 115,
     "metadata": {},
     "output_type": "execute_result"
    }
   ],
   "source": [
    "abc "
   ]
  },
  {
   "cell_type": "code",
   "execution_count": 117,
   "id": "c846815c",
   "metadata": {},
   "outputs": [],
   "source": [
    "abc={1,2,3,4,5,1,2}"
   ]
  },
  {
   "cell_type": "code",
   "execution_count": 118,
   "id": "3d129828",
   "metadata": {},
   "outputs": [
    {
     "data": {
      "text/plain": [
       "{1, 2, 3, 4, 5}"
      ]
     },
     "execution_count": 118,
     "metadata": {},
     "output_type": "execute_result"
    }
   ],
   "source": [
    "abc"
   ]
  },
  {
   "cell_type": "code",
   "execution_count": 119,
   "id": "b7492212",
   "metadata": {},
   "outputs": [],
   "source": [
    "set1={\"A\",\"B\",\"C\"}\n",
    "set2={\"A\",\"B\",\"C\",\"D\",\"E\"}\n"
   ]
  },
  {
   "cell_type": "code",
   "execution_count": 120,
   "id": "c64b36fb",
   "metadata": {},
   "outputs": [
    {
     "data": {
      "text/plain": [
       "{'D', 'E'}"
      ]
     },
     "execution_count": 120,
     "metadata": {},
     "output_type": "execute_result"
    }
   ],
   "source": [
    "set2.difference(set1)"
   ]
  },
  {
   "cell_type": "code",
   "execution_count": 121,
   "id": "eb3a8472",
   "metadata": {},
   "outputs": [
    {
     "data": {
      "text/plain": [
       "{'A', 'B', 'C'}"
      ]
     },
     "execution_count": 121,
     "metadata": {},
     "output_type": "execute_result"
    }
   ],
   "source": [
    "set2.intersection(set1)"
   ]
  },
  {
   "cell_type": "code",
   "execution_count": null,
   "id": "b6dcfb45",
   "metadata": {},
   "outputs": [],
   "source": [
    "dictionaries\n",
    "1.There is key & its value is asssociated.\n",
    "2.Mutuable-We can add, change & remove item\n",
    "3. With in curly bracket having keys & values\n"
   ]
  },
  {
   "cell_type": "code",
   "execution_count": 126,
   "id": "4045a3ee",
   "metadata": {},
   "outputs": [],
   "source": [
    "dict={\"A\":1,\"B\":2,\"C\":3,\"D\":4}\n"
   ]
  },
  {
   "cell_type": "code",
   "execution_count": 128,
   "id": "7964f542",
   "metadata": {},
   "outputs": [
    {
     "data": {
      "text/plain": [
       "dict_keys(['A', 'B', 'C', 'D'])"
      ]
     },
     "execution_count": 128,
     "metadata": {},
     "output_type": "execute_result"
    }
   ],
   "source": [
    "dict.keys()"
   ]
  },
  {
   "cell_type": "code",
   "execution_count": 129,
   "id": "31f95774",
   "metadata": {},
   "outputs": [
    {
     "data": {
      "text/plain": [
       "dict_values([1, 2, 3, 4])"
      ]
     },
     "execution_count": 129,
     "metadata": {},
     "output_type": "execute_result"
    }
   ],
   "source": [
    "dict.values()"
   ]
  },
  {
   "cell_type": "code",
   "execution_count": 130,
   "id": "7fd59f48",
   "metadata": {},
   "outputs": [
    {
     "data": {
      "text/plain": [
       "dict"
      ]
     },
     "execution_count": 130,
     "metadata": {},
     "output_type": "execute_result"
    }
   ],
   "source": [
    "type(dict)"
   ]
  },
  {
   "cell_type": "code",
   "execution_count": 134,
   "id": "a96f47ac",
   "metadata": {
    "scrolled": true
   },
   "outputs": [
    {
     "data": {
      "text/plain": [
       "4"
      ]
     },
     "execution_count": 134,
     "metadata": {},
     "output_type": "execute_result"
    }
   ],
   "source": [
    "dict[\"D\"]"
   ]
  },
  {
   "cell_type": "code",
   "execution_count": 139,
   "id": "3ad17aa1",
   "metadata": {},
   "outputs": [
    {
     "data": {
      "text/plain": [
       "{'A': 1, 'B': 2, 'C': 3, 'D': 4}"
      ]
     },
     "execution_count": 139,
     "metadata": {},
     "output_type": "execute_result"
    }
   ],
   "source": [
    "dict"
   ]
  },
  {
   "cell_type": "code",
   "execution_count": 140,
   "id": "bd9ea769",
   "metadata": {},
   "outputs": [
    {
     "name": "stdout",
     "output_type": "stream",
     "text": [
      "A\n",
      "B\n",
      "C\n",
      "D\n"
     ]
    }
   ],
   "source": [
    "for y in dict.keys():\n",
    "    print(y)"
   ]
  },
  {
   "cell_type": "code",
   "execution_count": 136,
   "id": "5280d772",
   "metadata": {},
   "outputs": [
    {
     "name": "stdout",
     "output_type": "stream",
     "text": [
      "1\n",
      "2\n",
      "3\n",
      "4\n"
     ]
    }
   ],
   "source": [
    "for x in dict.values():\n",
    "    print(x)"
   ]
  },
  {
   "cell_type": "code",
   "execution_count": 137,
   "id": "c09e655a",
   "metadata": {},
   "outputs": [
    {
     "name": "stdout",
     "output_type": "stream",
     "text": [
      "('A', 1)\n",
      "('B', 2)\n",
      "('C', 3)\n",
      "('D', 4)\n"
     ]
    }
   ],
   "source": [
    "for x in dict.items():\n",
    "    print(x)"
   ]
  },
  {
   "cell_type": "code",
   "execution_count": 141,
   "id": "8c89c3ce",
   "metadata": {},
   "outputs": [
    {
     "data": {
      "text/plain": [
       "{'A': 1, 'B': 2, 'C': 3, 'D': 5}"
      ]
     },
     "execution_count": 141,
     "metadata": {},
     "output_type": "execute_result"
    }
   ],
   "source": [
    "dict[\"D\"]=5\n",
    "dict"
   ]
  },
  {
   "cell_type": "code",
   "execution_count": 142,
   "id": "74f26834",
   "metadata": {},
   "outputs": [],
   "source": [
    "dict[\"C\"]=10"
   ]
  },
  {
   "cell_type": "code",
   "execution_count": 143,
   "id": "e5991c7d",
   "metadata": {},
   "outputs": [
    {
     "data": {
      "text/plain": [
       "{'A': 1, 'B': 2, 'C': 10, 'D': 5}"
      ]
     },
     "execution_count": 143,
     "metadata": {},
     "output_type": "execute_result"
    }
   ],
   "source": [
    "dict"
   ]
  },
  {
   "cell_type": "code",
   "execution_count": null,
   "id": "31481695",
   "metadata": {},
   "outputs": [],
   "source": [
    "tuples\n",
    "1.Immutable- cant add, remove,change the items\n",
    "2.mentioned in ()\n"
   ]
  },
  {
   "cell_type": "code",
   "execution_count": 144,
   "id": "b19017f8",
   "metadata": {},
   "outputs": [
    {
     "data": {
      "text/plain": [
       "(1, 2, 3, 'apple', 'HP')"
      ]
     },
     "execution_count": 144,
     "metadata": {},
     "output_type": "execute_result"
    }
   ],
   "source": [
    "abc=(1,2,3,\"apple\",\"HP\")\n",
    "abc"
   ]
  },
  {
   "cell_type": "code",
   "execution_count": 145,
   "id": "5e21b739",
   "metadata": {},
   "outputs": [
    {
     "data": {
      "text/plain": [
       "tuple"
      ]
     },
     "execution_count": 145,
     "metadata": {},
     "output_type": "execute_result"
    }
   ],
   "source": [
    "type(abc)"
   ]
  },
  {
   "cell_type": "code",
   "execution_count": 146,
   "id": "b69ecd18",
   "metadata": {},
   "outputs": [
    {
     "data": {
      "text/plain": [
       "5"
      ]
     },
     "execution_count": 146,
     "metadata": {},
     "output_type": "execute_result"
    }
   ],
   "source": [
    "len(abc)"
   ]
  },
  {
   "cell_type": "code",
   "execution_count": 147,
   "id": "e4a305b6",
   "metadata": {},
   "outputs": [
    {
     "data": {
      "text/plain": [
       "1"
      ]
     },
     "execution_count": 147,
     "metadata": {},
     "output_type": "execute_result"
    }
   ],
   "source": [
    "abc[0]"
   ]
  },
  {
   "cell_type": "code",
   "execution_count": 148,
   "id": "d3e1b91d",
   "metadata": {},
   "outputs": [
    {
     "data": {
      "text/plain": [
       "1"
      ]
     },
     "execution_count": 148,
     "metadata": {},
     "output_type": "execute_result"
    }
   ],
   "source": [
    "abc.count(1)"
   ]
  },
  {
   "cell_type": "code",
   "execution_count": 150,
   "id": "4545b7ef",
   "metadata": {},
   "outputs": [],
   "source": [
    "abc=(1,1,1,2,2,4,5,6,6)\n"
   ]
  },
  {
   "cell_type": "code",
   "execution_count": 153,
   "id": "dfa9079c",
   "metadata": {},
   "outputs": [
    {
     "data": {
      "text/plain": [
       "1"
      ]
     },
     "execution_count": 153,
     "metadata": {},
     "output_type": "execute_result"
    }
   ],
   "source": [
    "abc.count(4)"
   ]
  },
  {
   "cell_type": "code",
   "execution_count": 161,
   "id": "933d3fe2",
   "metadata": {},
   "outputs": [
    {
     "data": {
      "text/plain": [
       "'HP'"
      ]
     },
     "execution_count": 161,
     "metadata": {},
     "output_type": "execute_result"
    }
   ],
   "source": [
    "abc=(1,2,3,\"HP\",\"Apple\")\n",
    "abc[3]"
   ]
  },
  {
   "cell_type": "code",
   "execution_count": 155,
   "id": "d472bcab",
   "metadata": {},
   "outputs": [
    {
     "data": {
      "text/plain": [
       "3"
      ]
     },
     "execution_count": 155,
     "metadata": {},
     "output_type": "execute_result"
    }
   ],
   "source": [
    "abc.index(\"HP\")"
   ]
  },
  {
   "cell_type": "code",
   "execution_count": 156,
   "id": "ae00528e",
   "metadata": {},
   "outputs": [
    {
     "data": {
      "text/plain": [
       "1"
      ]
     },
     "execution_count": 156,
     "metadata": {},
     "output_type": "execute_result"
    }
   ],
   "source": [
    "abc=[1,2,3]\n",
    "abc.index(2)"
   ]
  },
  {
   "cell_type": "code",
   "execution_count": 162,
   "id": "14a8ea1c",
   "metadata": {},
   "outputs": [
    {
     "data": {
      "text/plain": [
       "4"
      ]
     },
     "execution_count": 162,
     "metadata": {},
     "output_type": "execute_result"
    }
   ],
   "source": [
    "abc.index(\"apple\")"
   ]
  },
  {
   "cell_type": "code",
   "execution_count": null,
   "id": "16d94995",
   "metadata": {},
   "outputs": [],
   "source": [
    "list,set,dict,tuple"
   ]
  },
  {
   "cell_type": "code",
   "execution_count": null,
   "id": "cd3f9254",
   "metadata": {},
   "outputs": [],
   "source": []
  }
 ],
 "metadata": {
  "kernelspec": {
   "display_name": "Python 3 (ipykernel)",
   "language": "python",
   "name": "python3"
  },
  "language_info": {
   "codemirror_mode": {
    "name": "ipython",
    "version": 3
   },
   "file_extension": ".py",
   "mimetype": "text/x-python",
   "name": "python",
   "nbconvert_exporter": "python",
   "pygments_lexer": "ipython3",
   "version": "3.9.13"
  }
 },
 "nbformat": 4,
 "nbformat_minor": 5
}
