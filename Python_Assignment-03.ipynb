{
 "cells": [
  {
   "cell_type": "markdown",
   "id": "f8f925d1-ab74-420c-a0c7-394338c570a7",
   "metadata": {},
   "source": [
    "## <p style=\"background-color:yellow;color:black;font-size:120%;text-align:center;border-radius:10px 10px;font-weight:bold;border:0px solid #800080;\">Exploratory Data Analysis (EDA) Using Python</p>"
   ]
  },
  {
   "cell_type": "code",
   "execution_count": 2,
   "id": "70fe582b-72d1-4a6b-a4b3-40eabea4ce33",
   "metadata": {},
   "outputs": [],
   "source": [
    "import pandas as pd"
   ]
  },
  {
   "cell_type": "code",
   "execution_count": 2,
   "id": "31e63539-4015-439f-a190-e5deb3a1719d",
   "metadata": {},
   "outputs": [],
   "source": [
    "file_path = r'C:\\Users\\ARPAN PANIGRAHI\\Downloads\\DATA ANALYST-DOCS\\a2.Data Model-1.xlsx'\n",
    "\n",
    "Sales_tbl = pd.read_excel(file_path, sheet_name = 'Sales_tbl')\n",
    "GEO_MAP = pd.read_excel(file_path, sheet_name = 'GEO_MAP')\n",
    "CUSTOMER = pd.read_excel(file_path, sheet_name = 'CUSTOMER')\n",
    "PRODUCT = pd.read_excel(file_path, sheet_name = 'PRODUCT')\n",
    "Master_Calendar = pd.read_excel(file_path, sheet_name = 'Master_Calendar')\n",
    "\n",
    "# print(Sales_tbl)\n",
    "# print(GEO_MAP)\n",
    "# print(CUSTOMER)\n",
    "# print(PRODUCT)\n",
    "# print(Master_Calendar)"
   ]
  },
  {
   "cell_type": "code",
   "execution_count": 4,
   "id": "cd9c27e6-df7a-414f-898c-be2f7a9c54e1",
   "metadata": {},
   "outputs": [
    {
     "data": {
      "text/html": [
       "<div>\n",
       "<style scoped>\n",
       "    .dataframe tbody tr th:only-of-type {\n",
       "        vertical-align: middle;\n",
       "    }\n",
       "\n",
       "    .dataframe tbody tr th {\n",
       "        vertical-align: top;\n",
       "    }\n",
       "\n",
       "    .dataframe thead th {\n",
       "        text-align: right;\n",
       "    }\n",
       "</style>\n",
       "<table border=\"1\" class=\"dataframe\">\n",
       "  <thead>\n",
       "    <tr style=\"text-align: right;\">\n",
       "      <th></th>\n",
       "      <th>Row ID</th>\n",
       "      <th>Order ID</th>\n",
       "      <th>City</th>\n",
       "      <th>Order Date</th>\n",
       "      <th>Ship Date</th>\n",
       "      <th>Ship Mode</th>\n",
       "      <th>Customer ID</th>\n",
       "      <th>Product ID</th>\n",
       "      <th>Sales</th>\n",
       "      <th>Quantity</th>\n",
       "      <th>Discount</th>\n",
       "      <th>Discount Amount</th>\n",
       "      <th>Sales After Discount</th>\n",
       "      <th>Profit</th>\n",
       "      <th>Shipping Cost</th>\n",
       "      <th>Order Priority</th>\n",
       "    </tr>\n",
       "  </thead>\n",
       "  <tbody>\n",
       "    <tr>\n",
       "      <th>0</th>\n",
       "      <td>32298</td>\n",
       "      <td>US -2012-124891</td>\n",
       "      <td>New York City</td>\n",
       "      <td>2012-07-31</td>\n",
       "      <td>2012-07-31</td>\n",
       "      <td>Same Day</td>\n",
       "      <td>RH-19495</td>\n",
       "      <td>TEC-AC-10003033</td>\n",
       "      <td>2309.650</td>\n",
       "      <td>7</td>\n",
       "      <td>0.0</td>\n",
       "      <td>0.0000</td>\n",
       "      <td>2309.6500</td>\n",
       "      <td>762.1845</td>\n",
       "      <td>933.57</td>\n",
       "      <td>Critical</td>\n",
       "    </tr>\n",
       "    <tr>\n",
       "      <th>1</th>\n",
       "      <td>26341</td>\n",
       "      <td>AU -2013-77878</td>\n",
       "      <td>Wollongong</td>\n",
       "      <td>2013-02-05</td>\n",
       "      <td>2013-02-07</td>\n",
       "      <td>Second Class</td>\n",
       "      <td>JR-16210</td>\n",
       "      <td>FUR-CH-10003950</td>\n",
       "      <td>3709.395</td>\n",
       "      <td>9</td>\n",
       "      <td>0.1</td>\n",
       "      <td>370.9395</td>\n",
       "      <td>3338.4555</td>\n",
       "      <td>-288.7650</td>\n",
       "      <td>923.63</td>\n",
       "      <td>Critical</td>\n",
       "    </tr>\n",
       "    <tr>\n",
       "      <th>2</th>\n",
       "      <td>25330</td>\n",
       "      <td>AU -2013-71249</td>\n",
       "      <td>Brisbane</td>\n",
       "      <td>2013-10-17</td>\n",
       "      <td>2013-10-18</td>\n",
       "      <td>First Class</td>\n",
       "      <td>CR-12730</td>\n",
       "      <td>TEC-PH-10004664</td>\n",
       "      <td>5175.171</td>\n",
       "      <td>9</td>\n",
       "      <td>0.1</td>\n",
       "      <td>517.5171</td>\n",
       "      <td>4657.6539</td>\n",
       "      <td>919.9710</td>\n",
       "      <td>915.49</td>\n",
       "      <td>Medium</td>\n",
       "    </tr>\n",
       "  </tbody>\n",
       "</table>\n",
       "</div>"
      ],
      "text/plain": [
       "   Row ID         Order ID           City Order Date  Ship Date     Ship Mode  \\\n",
       "0   32298  US -2012-124891  New York City 2012-07-31 2012-07-31      Same Day   \n",
       "1   26341   AU -2013-77878     Wollongong 2013-02-05 2013-02-07  Second Class   \n",
       "2   25330   AU -2013-71249       Brisbane 2013-10-17 2013-10-18   First Class   \n",
       "\n",
       "  Customer ID       Product ID     Sales  Quantity  Discount  Discount Amount  \\\n",
       "0    RH-19495  TEC-AC-10003033  2309.650         7       0.0           0.0000   \n",
       "1    JR-16210  FUR-CH-10003950  3709.395         9       0.1         370.9395   \n",
       "2    CR-12730  TEC-PH-10004664  5175.171         9       0.1         517.5171   \n",
       "\n",
       "   Sales After Discount    Profit  Shipping Cost Order Priority  \n",
       "0             2309.6500  762.1845         933.57       Critical  \n",
       "1             3338.4555 -288.7650         923.63       Critical  \n",
       "2             4657.6539  919.9710         915.49         Medium  "
      ]
     },
     "execution_count": 4,
     "metadata": {},
     "output_type": "execute_result"
    }
   ],
   "source": [
    "Sales_tbl.head(3)"
   ]
  },
  {
   "cell_type": "code",
   "execution_count": 5,
   "id": "980520bf-3089-46bf-a986-6d9d22b6eb8f",
   "metadata": {},
   "outputs": [
    {
     "data": {
      "text/plain": [
       "Index(['Product_ID', 'Category', 'Sub-Category', 'Product_Name'], dtype='object')"
      ]
     },
     "execution_count": 5,
     "metadata": {},
     "output_type": "execute_result"
    }
   ],
   "source": [
    "PRODUCT.columns"
   ]
  },
  {
   "cell_type": "code",
   "execution_count": 7,
   "id": "9198c35f-98e1-4778-ad6d-849af61dea24",
   "metadata": {},
   "outputs": [
    {
     "data": {
      "text/plain": [
       "Index(['City', 'Country', 'Country_Code', 'State', 'Market', 'Region'], dtype='object')"
      ]
     },
     "execution_count": 7,
     "metadata": {},
     "output_type": "execute_result"
    }
   ],
   "source": [
    "GEO_MAP.columns\n"
   ]
  },
  {
   "cell_type": "markdown",
   "id": "1330444f-069c-46ef-a1b3-ca4d80a46452",
   "metadata": {},
   "source": [
    "# JOINS"
   ]
  },
  {
   "cell_type": "code",
   "execution_count": 6,
   "id": "8a878800-ce70-4e6b-b4af-a697aabcb1ee",
   "metadata": {},
   "outputs": [],
   "source": [
    "sales_geomap = pd.merge(left=Sales_tbl, right=GEO_MAP, how='left', on=['City'])\n",
    "# sales_geomap.head()"
   ]
  },
  {
   "cell_type": "code",
   "execution_count": 7,
   "id": "81b8e2f8-33cc-4766-9797-5dc07dc52682",
   "metadata": {},
   "outputs": [],
   "source": [
    "sales_geomap_cust = pd.merge(left=sales_geomap, right=CUSTOMER, how='left', left_on=['Customer ID'], right_on=['Customer_ID'])\n",
    "# sales_geomap_cust"
   ]
  },
  {
   "cell_type": "code",
   "execution_count": 8,
   "id": "29fe7397-94da-41c9-98b8-3651728eb2fd",
   "metadata": {},
   "outputs": [],
   "source": [
    "sales_geomap_cust_prod=pd.merge(left=sales_geomap_cust, right=PRODUCT, how='left', left_on=['Product ID'], right_on=['Product_ID'])\n",
    "# sales_geomap_cust_prod"
   ]
  },
  {
   "cell_type": "code",
   "execution_count": 9,
   "id": "ec87bb91-d31e-492d-a4a9-178b54662758",
   "metadata": {},
   "outputs": [],
   "source": [
    "sales_geomap_cust_prod_cal=pd.merge(left=sales_geomap_cust_prod, right=Master_Calendar, how='left', on=['Order Date'])\n",
    "#sales_geomap_cust_prod_cal"
   ]
  },
  {
   "cell_type": "code",
   "execution_count": 10,
   "id": "79555837-c3c2-4e2a-a9b6-a2b2ed5a4e77",
   "metadata": {},
   "outputs": [
    {
     "data": {
      "text/html": [
       "<div>\n",
       "<style scoped>\n",
       "    .dataframe tbody tr th:only-of-type {\n",
       "        vertical-align: middle;\n",
       "    }\n",
       "\n",
       "    .dataframe tbody tr th {\n",
       "        vertical-align: top;\n",
       "    }\n",
       "\n",
       "    .dataframe thead th {\n",
       "        text-align: right;\n",
       "    }\n",
       "</style>\n",
       "<table border=\"1\" class=\"dataframe\">\n",
       "  <thead>\n",
       "    <tr style=\"text-align: right;\">\n",
       "      <th></th>\n",
       "      <th>Row ID</th>\n",
       "      <th>Order ID</th>\n",
       "      <th>City</th>\n",
       "      <th>Order Date</th>\n",
       "      <th>Ship Date</th>\n",
       "      <th>Ship Mode</th>\n",
       "      <th>Customer ID</th>\n",
       "      <th>Product ID</th>\n",
       "      <th>Sales</th>\n",
       "      <th>Quantity</th>\n",
       "      <th>...</th>\n",
       "      <th>Product_Name</th>\n",
       "      <th>Order Year</th>\n",
       "      <th>Order Month</th>\n",
       "      <th>Order day</th>\n",
       "      <th>CYTDFlag</th>\n",
       "      <th>LYTDFlag</th>\n",
       "      <th>Month</th>\n",
       "      <th>MonthYear</th>\n",
       "      <th>Week</th>\n",
       "      <th>Quarter</th>\n",
       "    </tr>\n",
       "  </thead>\n",
       "  <tbody>\n",
       "    <tr>\n",
       "      <th>0</th>\n",
       "      <td>32298</td>\n",
       "      <td>US -2012-124891</td>\n",
       "      <td>New York City</td>\n",
       "      <td>2012-07-31</td>\n",
       "      <td>2012-07-31</td>\n",
       "      <td>Same Day</td>\n",
       "      <td>RH-19495</td>\n",
       "      <td>TEC-AC-10003033</td>\n",
       "      <td>2309.650</td>\n",
       "      <td>7</td>\n",
       "      <td>...</td>\n",
       "      <td>Plantronics CS510 - Over-the-Head monaural Wir...</td>\n",
       "      <td>2012</td>\n",
       "      <td>7</td>\n",
       "      <td>31</td>\n",
       "      <td>0</td>\n",
       "      <td>0</td>\n",
       "      <td>Jul</td>\n",
       "      <td>Jul-2012</td>\n",
       "      <td>31</td>\n",
       "      <td>Q3</td>\n",
       "    </tr>\n",
       "    <tr>\n",
       "      <th>1</th>\n",
       "      <td>26341</td>\n",
       "      <td>AU -2013-77878</td>\n",
       "      <td>Wollongong</td>\n",
       "      <td>2013-02-05</td>\n",
       "      <td>2013-02-07</td>\n",
       "      <td>Second Class</td>\n",
       "      <td>JR-16210</td>\n",
       "      <td>FUR-CH-10003950</td>\n",
       "      <td>3709.395</td>\n",
       "      <td>9</td>\n",
       "      <td>...</td>\n",
       "      <td>Novimex Executive Leather Armchair, Black</td>\n",
       "      <td>2013</td>\n",
       "      <td>2</td>\n",
       "      <td>5</td>\n",
       "      <td>0</td>\n",
       "      <td>1</td>\n",
       "      <td>Feb</td>\n",
       "      <td>Feb-2013</td>\n",
       "      <td>6</td>\n",
       "      <td>Q1</td>\n",
       "    </tr>\n",
       "    <tr>\n",
       "      <th>2</th>\n",
       "      <td>25330</td>\n",
       "      <td>AU -2013-71249</td>\n",
       "      <td>Brisbane</td>\n",
       "      <td>2013-10-17</td>\n",
       "      <td>2013-10-18</td>\n",
       "      <td>First Class</td>\n",
       "      <td>CR-12730</td>\n",
       "      <td>TEC-PH-10004664</td>\n",
       "      <td>5175.171</td>\n",
       "      <td>9</td>\n",
       "      <td>...</td>\n",
       "      <td>Nokia Smart Phone, with Caller ID</td>\n",
       "      <td>2013</td>\n",
       "      <td>10</td>\n",
       "      <td>17</td>\n",
       "      <td>0</td>\n",
       "      <td>1</td>\n",
       "      <td>Oct</td>\n",
       "      <td>Oct-2013</td>\n",
       "      <td>42</td>\n",
       "      <td>Q4</td>\n",
       "    </tr>\n",
       "    <tr>\n",
       "      <th>3</th>\n",
       "      <td>13524</td>\n",
       "      <td>DE -2013-1579342</td>\n",
       "      <td>Berlin</td>\n",
       "      <td>2013-01-28</td>\n",
       "      <td>2013-01-30</td>\n",
       "      <td>First Class</td>\n",
       "      <td>KM-16375</td>\n",
       "      <td>TEC-PH-10004583</td>\n",
       "      <td>2892.510</td>\n",
       "      <td>5</td>\n",
       "      <td>...</td>\n",
       "      <td>Motorola Smart Phone, Cordless</td>\n",
       "      <td>2013</td>\n",
       "      <td>1</td>\n",
       "      <td>28</td>\n",
       "      <td>0</td>\n",
       "      <td>1</td>\n",
       "      <td>Jan</td>\n",
       "      <td>Jan-2013</td>\n",
       "      <td>5</td>\n",
       "      <td>Q1</td>\n",
       "    </tr>\n",
       "    <tr>\n",
       "      <th>4</th>\n",
       "      <td>47221</td>\n",
       "      <td>SN -2013-4320</td>\n",
       "      <td>Dakar</td>\n",
       "      <td>2013-11-05</td>\n",
       "      <td>2013-11-06</td>\n",
       "      <td>Same Day</td>\n",
       "      <td>RH-9495</td>\n",
       "      <td>TEC-SHA-10000501</td>\n",
       "      <td>2832.960</td>\n",
       "      <td>8</td>\n",
       "      <td>...</td>\n",
       "      <td>Sharp Wireless Fax, High-Speed</td>\n",
       "      <td>2013</td>\n",
       "      <td>11</td>\n",
       "      <td>5</td>\n",
       "      <td>0</td>\n",
       "      <td>1</td>\n",
       "      <td>Nov</td>\n",
       "      <td>Nov-2013</td>\n",
       "      <td>45</td>\n",
       "      <td>Q4</td>\n",
       "    </tr>\n",
       "  </tbody>\n",
       "</table>\n",
       "<p>5 rows × 37 columns</p>\n",
       "</div>"
      ],
      "text/plain": [
       "   Row ID          Order ID           City Order Date  Ship Date  \\\n",
       "0   32298   US -2012-124891  New York City 2012-07-31 2012-07-31   \n",
       "1   26341    AU -2013-77878     Wollongong 2013-02-05 2013-02-07   \n",
       "2   25330    AU -2013-71249       Brisbane 2013-10-17 2013-10-18   \n",
       "3   13524  DE -2013-1579342         Berlin 2013-01-28 2013-01-30   \n",
       "4   47221     SN -2013-4320          Dakar 2013-11-05 2013-11-06   \n",
       "\n",
       "      Ship Mode Customer ID        Product ID     Sales  Quantity  ...  \\\n",
       "0      Same Day    RH-19495   TEC-AC-10003033  2309.650         7  ...   \n",
       "1  Second Class    JR-16210   FUR-CH-10003950  3709.395         9  ...   \n",
       "2   First Class    CR-12730   TEC-PH-10004664  5175.171         9  ...   \n",
       "3   First Class    KM-16375   TEC-PH-10004583  2892.510         5  ...   \n",
       "4      Same Day     RH-9495  TEC-SHA-10000501  2832.960         8  ...   \n",
       "\n",
       "                                        Product_Name  Order Year  Order Month  \\\n",
       "0  Plantronics CS510 - Over-the-Head monaural Wir...        2012            7   \n",
       "1          Novimex Executive Leather Armchair, Black        2013            2   \n",
       "2                  Nokia Smart Phone, with Caller ID        2013           10   \n",
       "3                     Motorola Smart Phone, Cordless        2013            1   \n",
       "4                     Sharp Wireless Fax, High-Speed        2013           11   \n",
       "\n",
       "   Order day  CYTDFlag LYTDFlag Month MonthYear Week Quarter  \n",
       "0         31         0        0   Jul  Jul-2012   31      Q3  \n",
       "1          5         0        1   Feb  Feb-2013    6      Q1  \n",
       "2         17         0        1   Oct  Oct-2013   42      Q4  \n",
       "3         28         0        1   Jan  Jan-2013    5      Q1  \n",
       "4          5         0        1   Nov  Nov-2013   45      Q4  \n",
       "\n",
       "[5 rows x 37 columns]"
      ]
     },
     "execution_count": 10,
     "metadata": {},
     "output_type": "execute_result"
    }
   ],
   "source": [
    "sales_geomap_cust_prod_cal.head()"
   ]
  },
  {
   "cell_type": "code",
   "execution_count": 11,
   "id": "a6227224-cb10-4bd1-9e7d-55f00addd9d6",
   "metadata": {},
   "outputs": [
    {
     "data": {
      "text/html": [
       "<div>\n",
       "<style scoped>\n",
       "    .dataframe tbody tr th:only-of-type {\n",
       "        vertical-align: middle;\n",
       "    }\n",
       "\n",
       "    .dataframe tbody tr th {\n",
       "        vertical-align: top;\n",
       "    }\n",
       "\n",
       "    .dataframe thead th {\n",
       "        text-align: right;\n",
       "    }\n",
       "</style>\n",
       "<table border=\"1\" class=\"dataframe\">\n",
       "  <thead>\n",
       "    <tr style=\"text-align: right;\">\n",
       "      <th></th>\n",
       "      <th>Row ID</th>\n",
       "      <th>Order ID</th>\n",
       "      <th>City</th>\n",
       "      <th>Order Date</th>\n",
       "      <th>Ship Date</th>\n",
       "      <th>Ship Mode</th>\n",
       "      <th>Customer ID</th>\n",
       "      <th>Product ID</th>\n",
       "      <th>Sales</th>\n",
       "      <th>Quantity</th>\n",
       "      <th>...</th>\n",
       "      <th>Product_Name</th>\n",
       "      <th>Order Year</th>\n",
       "      <th>Order Month</th>\n",
       "      <th>Order day</th>\n",
       "      <th>CYTDFlag</th>\n",
       "      <th>LYTDFlag</th>\n",
       "      <th>Month</th>\n",
       "      <th>MonthYear</th>\n",
       "      <th>Week</th>\n",
       "      <th>Quarter</th>\n",
       "    </tr>\n",
       "  </thead>\n",
       "  <tbody>\n",
       "    <tr>\n",
       "      <th>51285</th>\n",
       "      <td>29002</td>\n",
       "      <td>JP -2014-62366</td>\n",
       "      <td>Kure</td>\n",
       "      <td>2014-06-19</td>\n",
       "      <td>2014-06-19</td>\n",
       "      <td>Same Day</td>\n",
       "      <td>KE-16420</td>\n",
       "      <td>OFF-FA-10000746</td>\n",
       "      <td>65.100</td>\n",
       "      <td>5</td>\n",
       "      <td>...</td>\n",
       "      <td>Advantus Thumb Tacks, 12 Pack</td>\n",
       "      <td>2014</td>\n",
       "      <td>6</td>\n",
       "      <td>19</td>\n",
       "      <td>1</td>\n",
       "      <td>0</td>\n",
       "      <td>Jun</td>\n",
       "      <td>Jun-2014</td>\n",
       "      <td>25</td>\n",
       "      <td>Q2</td>\n",
       "    </tr>\n",
       "    <tr>\n",
       "      <th>51286</th>\n",
       "      <td>35398</td>\n",
       "      <td>US -2014-102288</td>\n",
       "      <td>Houston</td>\n",
       "      <td>2014-06-20</td>\n",
       "      <td>2014-06-24</td>\n",
       "      <td>Standard Class</td>\n",
       "      <td>ZC-21910</td>\n",
       "      <td>OFF-AP-10002906</td>\n",
       "      <td>0.444</td>\n",
       "      <td>1</td>\n",
       "      <td>...</td>\n",
       "      <td>Hoover Replacement Belt for Commercial Guardsm...</td>\n",
       "      <td>2014</td>\n",
       "      <td>6</td>\n",
       "      <td>20</td>\n",
       "      <td>1</td>\n",
       "      <td>0</td>\n",
       "      <td>Jun</td>\n",
       "      <td>Jun-2014</td>\n",
       "      <td>25</td>\n",
       "      <td>Q2</td>\n",
       "    </tr>\n",
       "    <tr>\n",
       "      <th>51287</th>\n",
       "      <td>40470</td>\n",
       "      <td>US -2013-155768</td>\n",
       "      <td>Oxnard</td>\n",
       "      <td>2013-12-02</td>\n",
       "      <td>2013-12-02</td>\n",
       "      <td>Same Day</td>\n",
       "      <td>LB-16795</td>\n",
       "      <td>OFF-EN-10001219</td>\n",
       "      <td>22.920</td>\n",
       "      <td>3</td>\n",
       "      <td>...</td>\n",
       "      <td>#10- 4 1/8\" x 9 1/2\" Security-Tint Envelopes</td>\n",
       "      <td>2013</td>\n",
       "      <td>12</td>\n",
       "      <td>2</td>\n",
       "      <td>0</td>\n",
       "      <td>1</td>\n",
       "      <td>Dec</td>\n",
       "      <td>Dec-2013</td>\n",
       "      <td>49</td>\n",
       "      <td>Q4</td>\n",
       "    </tr>\n",
       "    <tr>\n",
       "      <th>51288</th>\n",
       "      <td>9596</td>\n",
       "      <td>BR -2012-140767</td>\n",
       "      <td>Valinhos</td>\n",
       "      <td>2012-02-18</td>\n",
       "      <td>2012-02-22</td>\n",
       "      <td>Standard Class</td>\n",
       "      <td>RB-19795</td>\n",
       "      <td>OFF-BI-10000806</td>\n",
       "      <td>13.440</td>\n",
       "      <td>2</td>\n",
       "      <td>...</td>\n",
       "      <td>Acco Index Tab, Economy</td>\n",
       "      <td>2012</td>\n",
       "      <td>2</td>\n",
       "      <td>18</td>\n",
       "      <td>0</td>\n",
       "      <td>0</td>\n",
       "      <td>Feb</td>\n",
       "      <td>Feb-2012</td>\n",
       "      <td>7</td>\n",
       "      <td>Q1</td>\n",
       "    </tr>\n",
       "    <tr>\n",
       "      <th>51289</th>\n",
       "      <td>6147</td>\n",
       "      <td>NI -2012-134460</td>\n",
       "      <td>Tipitapa</td>\n",
       "      <td>2012-05-22</td>\n",
       "      <td>2012-05-26</td>\n",
       "      <td>Second Class</td>\n",
       "      <td>MC-18100</td>\n",
       "      <td>OFF-PA-10004155</td>\n",
       "      <td>61.380</td>\n",
       "      <td>3</td>\n",
       "      <td>...</td>\n",
       "      <td>Eaton Computer Printout Paper, 8.5 x 11</td>\n",
       "      <td>2012</td>\n",
       "      <td>5</td>\n",
       "      <td>22</td>\n",
       "      <td>0</td>\n",
       "      <td>0</td>\n",
       "      <td>May</td>\n",
       "      <td>May-2012</td>\n",
       "      <td>21</td>\n",
       "      <td>Q2</td>\n",
       "    </tr>\n",
       "  </tbody>\n",
       "</table>\n",
       "<p>5 rows × 37 columns</p>\n",
       "</div>"
      ],
      "text/plain": [
       "       Row ID         Order ID      City Order Date  Ship Date  \\\n",
       "51285   29002   JP -2014-62366      Kure 2014-06-19 2014-06-19   \n",
       "51286   35398  US -2014-102288   Houston 2014-06-20 2014-06-24   \n",
       "51287   40470  US -2013-155768    Oxnard 2013-12-02 2013-12-02   \n",
       "51288    9596  BR -2012-140767  Valinhos 2012-02-18 2012-02-22   \n",
       "51289    6147  NI -2012-134460  Tipitapa 2012-05-22 2012-05-26   \n",
       "\n",
       "            Ship Mode Customer ID       Product ID   Sales  Quantity  ...  \\\n",
       "51285        Same Day    KE-16420  OFF-FA-10000746  65.100         5  ...   \n",
       "51286  Standard Class    ZC-21910  OFF-AP-10002906   0.444         1  ...   \n",
       "51287        Same Day    LB-16795  OFF-EN-10001219  22.920         3  ...   \n",
       "51288  Standard Class    RB-19795  OFF-BI-10000806  13.440         2  ...   \n",
       "51289    Second Class    MC-18100  OFF-PA-10004155  61.380         3  ...   \n",
       "\n",
       "                                            Product_Name  Order Year  \\\n",
       "51285                      Advantus Thumb Tacks, 12 Pack        2014   \n",
       "51286  Hoover Replacement Belt for Commercial Guardsm...        2014   \n",
       "51287       #10- 4 1/8\" x 9 1/2\" Security-Tint Envelopes        2013   \n",
       "51288                            Acco Index Tab, Economy        2012   \n",
       "51289            Eaton Computer Printout Paper, 8.5 x 11        2012   \n",
       "\n",
       "       Order Month  Order day  CYTDFlag LYTDFlag Month MonthYear Week Quarter  \n",
       "51285            6         19         1        0   Jun  Jun-2014   25      Q2  \n",
       "51286            6         20         1        0   Jun  Jun-2014   25      Q2  \n",
       "51287           12          2         0        1   Dec  Dec-2013   49      Q4  \n",
       "51288            2         18         0        0   Feb  Feb-2012    7      Q1  \n",
       "51289            5         22         0        0   May  May-2012   21      Q2  \n",
       "\n",
       "[5 rows x 37 columns]"
      ]
     },
     "execution_count": 11,
     "metadata": {},
     "output_type": "execute_result"
    }
   ],
   "source": [
    "sales_geomap_cust_prod_cal.tail()"
   ]
  },
  {
   "cell_type": "code",
   "execution_count": 15,
   "id": "71162f52-5c31-4186-a65f-9b18a226bcfa",
   "metadata": {},
   "outputs": [
    {
     "name": "stdout",
     "output_type": "stream",
     "text": [
      "<class 'pandas.core.frame.DataFrame'>\n",
      "RangeIndex: 51290 entries, 0 to 51289\n",
      "Data columns (total 37 columns):\n",
      " #   Column                Non-Null Count  Dtype         \n",
      "---  ------                --------------  -----         \n",
      " 0   Row ID                51290 non-null  int64         \n",
      " 1   Order ID              51290 non-null  object        \n",
      " 2   City                  51290 non-null  object        \n",
      " 3   Order Date            51290 non-null  datetime64[ns]\n",
      " 4   Ship Date             51290 non-null  datetime64[ns]\n",
      " 5   Ship Mode             51290 non-null  object        \n",
      " 6   Customer ID           51290 non-null  object        \n",
      " 7   Product ID            51290 non-null  object        \n",
      " 8   Sales                 51290 non-null  float64       \n",
      " 9   Quantity              51290 non-null  int64         \n",
      " 10  Discount              51290 non-null  float64       \n",
      " 11  Discount Amount       51290 non-null  float64       \n",
      " 12  Sales After Discount  51290 non-null  float64       \n",
      " 13  Profit                51290 non-null  float64       \n",
      " 14  Shipping Cost         51290 non-null  float64       \n",
      " 15  Order Priority        51290 non-null  object        \n",
      " 16  Country               51290 non-null  object        \n",
      " 17  Country_Code          51290 non-null  object        \n",
      " 18  State                 51290 non-null  object        \n",
      " 19  Market                51290 non-null  object        \n",
      " 20  Region                51290 non-null  object        \n",
      " 21  Customer_ID           51290 non-null  object        \n",
      " 22  Customer_Name         51290 non-null  object        \n",
      " 23  Segment               51290 non-null  object        \n",
      " 24  Product_ID            51290 non-null  object        \n",
      " 25  Category              51290 non-null  object        \n",
      " 26  Sub-Category          51290 non-null  object        \n",
      " 27  Product_Name          51290 non-null  object        \n",
      " 28  Order Year            51290 non-null  int64         \n",
      " 29  Order Month           51290 non-null  int64         \n",
      " 30  Order day             51290 non-null  int64         \n",
      " 31  CYTDFlag              51290 non-null  int64         \n",
      " 32  LYTDFlag              51290 non-null  int64         \n",
      " 33  Month                 51290 non-null  object        \n",
      " 34  MonthYear             51290 non-null  object        \n",
      " 35  Week                  51290 non-null  int64         \n",
      " 36  Quarter               51290 non-null  object        \n",
      "dtypes: datetime64[ns](2), float64(6), int64(8), object(21)\n",
      "memory usage: 14.5+ MB\n"
     ]
    }
   ],
   "source": [
    "sales_geomap_cust_prod_cal.info()"
   ]
  },
  {
   "cell_type": "code",
   "execution_count": 16,
   "id": "a2c10bd9-1342-4a64-8711-3c7423155fdc",
   "metadata": {},
   "outputs": [
    {
     "data": {
      "text/html": [
       "<div>\n",
       "<style scoped>\n",
       "    .dataframe tbody tr th:only-of-type {\n",
       "        vertical-align: middle;\n",
       "    }\n",
       "\n",
       "    .dataframe tbody tr th {\n",
       "        vertical-align: top;\n",
       "    }\n",
       "\n",
       "    .dataframe thead th {\n",
       "        text-align: right;\n",
       "    }\n",
       "</style>\n",
       "<table border=\"1\" class=\"dataframe\">\n",
       "  <thead>\n",
       "    <tr style=\"text-align: right;\">\n",
       "      <th></th>\n",
       "      <th>Row ID</th>\n",
       "      <th>Order Date</th>\n",
       "      <th>Ship Date</th>\n",
       "      <th>Sales</th>\n",
       "      <th>Quantity</th>\n",
       "      <th>Discount</th>\n",
       "      <th>Discount Amount</th>\n",
       "      <th>Sales After Discount</th>\n",
       "      <th>Profit</th>\n",
       "      <th>Shipping Cost</th>\n",
       "      <th>Order Year</th>\n",
       "      <th>Order Month</th>\n",
       "      <th>Order day</th>\n",
       "      <th>CYTDFlag</th>\n",
       "      <th>LYTDFlag</th>\n",
       "      <th>Week</th>\n",
       "    </tr>\n",
       "  </thead>\n",
       "  <tbody>\n",
       "    <tr>\n",
       "      <th>count</th>\n",
       "      <td>51290.00000</td>\n",
       "      <td>51290</td>\n",
       "      <td>51290</td>\n",
       "      <td>51290.000000</td>\n",
       "      <td>51290.000000</td>\n",
       "      <td>51290.000000</td>\n",
       "      <td>51290.000000</td>\n",
       "      <td>51290.000000</td>\n",
       "      <td>51290.000000</td>\n",
       "      <td>51290.000000</td>\n",
       "      <td>51290.000000</td>\n",
       "      <td>51290.000000</td>\n",
       "      <td>51290.000000</td>\n",
       "      <td>51290.000000</td>\n",
       "      <td>51290.000000</td>\n",
       "      <td>51290.000000</td>\n",
       "    </tr>\n",
       "    <tr>\n",
       "      <th>mean</th>\n",
       "      <td>25645.50000</td>\n",
       "      <td>2013-05-11 21:26:49.155781120</td>\n",
       "      <td>2013-05-15 20:42:42.745174528</td>\n",
       "      <td>246.490581</td>\n",
       "      <td>3.476545</td>\n",
       "      <td>0.142908</td>\n",
       "      <td>26.249796</td>\n",
       "      <td>220.240785</td>\n",
       "      <td>28.610982</td>\n",
       "      <td>26.375818</td>\n",
       "      <td>2012.777208</td>\n",
       "      <td>7.522636</td>\n",
       "      <td>15.782960</td>\n",
       "      <td>0.341802</td>\n",
       "      <td>0.269039</td>\n",
       "      <td>31.287112</td>\n",
       "    </tr>\n",
       "    <tr>\n",
       "      <th>min</th>\n",
       "      <td>1.00000</td>\n",
       "      <td>2011-01-01 00:00:00</td>\n",
       "      <td>2011-01-03 00:00:00</td>\n",
       "      <td>0.444000</td>\n",
       "      <td>1.000000</td>\n",
       "      <td>0.000000</td>\n",
       "      <td>0.000000</td>\n",
       "      <td>0.088800</td>\n",
       "      <td>-6599.978000</td>\n",
       "      <td>0.002000</td>\n",
       "      <td>2011.000000</td>\n",
       "      <td>1.000000</td>\n",
       "      <td>1.000000</td>\n",
       "      <td>0.000000</td>\n",
       "      <td>0.000000</td>\n",
       "      <td>1.000000</td>\n",
       "    </tr>\n",
       "    <tr>\n",
       "      <th>25%</th>\n",
       "      <td>12823.25000</td>\n",
       "      <td>2012-06-19 00:00:00</td>\n",
       "      <td>2012-06-23 00:00:00</td>\n",
       "      <td>30.758625</td>\n",
       "      <td>2.000000</td>\n",
       "      <td>0.000000</td>\n",
       "      <td>0.000000</td>\n",
       "      <td>25.290000</td>\n",
       "      <td>0.000000</td>\n",
       "      <td>2.610000</td>\n",
       "      <td>2012.000000</td>\n",
       "      <td>5.000000</td>\n",
       "      <td>8.000000</td>\n",
       "      <td>0.000000</td>\n",
       "      <td>0.000000</td>\n",
       "      <td>20.000000</td>\n",
       "    </tr>\n",
       "    <tr>\n",
       "      <th>50%</th>\n",
       "      <td>25645.50000</td>\n",
       "      <td>2013-07-08 00:00:00</td>\n",
       "      <td>2013-07-12 00:00:00</td>\n",
       "      <td>85.053000</td>\n",
       "      <td>3.000000</td>\n",
       "      <td>0.000000</td>\n",
       "      <td>0.000000</td>\n",
       "      <td>72.000000</td>\n",
       "      <td>9.240000</td>\n",
       "      <td>7.790000</td>\n",
       "      <td>2013.000000</td>\n",
       "      <td>8.000000</td>\n",
       "      <td>16.000000</td>\n",
       "      <td>0.000000</td>\n",
       "      <td>0.000000</td>\n",
       "      <td>33.000000</td>\n",
       "    </tr>\n",
       "    <tr>\n",
       "      <th>75%</th>\n",
       "      <td>38467.75000</td>\n",
       "      <td>2014-05-22 00:00:00</td>\n",
       "      <td>2014-05-26 00:00:00</td>\n",
       "      <td>251.053200</td>\n",
       "      <td>5.000000</td>\n",
       "      <td>0.200000</td>\n",
       "      <td>15.504000</td>\n",
       "      <td>220.520100</td>\n",
       "      <td>36.810000</td>\n",
       "      <td>24.450000</td>\n",
       "      <td>2014.000000</td>\n",
       "      <td>10.000000</td>\n",
       "      <td>23.000000</td>\n",
       "      <td>1.000000</td>\n",
       "      <td>1.000000</td>\n",
       "      <td>44.000000</td>\n",
       "    </tr>\n",
       "    <tr>\n",
       "      <th>max</th>\n",
       "      <td>51290.00000</td>\n",
       "      <td>2014-12-31 00:00:00</td>\n",
       "      <td>2015-01-07 00:00:00</td>\n",
       "      <td>22638.480000</td>\n",
       "      <td>14.000000</td>\n",
       "      <td>0.850000</td>\n",
       "      <td>11319.240000</td>\n",
       "      <td>17499.950000</td>\n",
       "      <td>8399.976000</td>\n",
       "      <td>933.570000</td>\n",
       "      <td>2014.000000</td>\n",
       "      <td>12.000000</td>\n",
       "      <td>31.000000</td>\n",
       "      <td>1.000000</td>\n",
       "      <td>1.000000</td>\n",
       "      <td>53.000000</td>\n",
       "    </tr>\n",
       "    <tr>\n",
       "      <th>std</th>\n",
       "      <td>14806.29199</td>\n",
       "      <td>NaN</td>\n",
       "      <td>NaN</td>\n",
       "      <td>487.565361</td>\n",
       "      <td>2.278766</td>\n",
       "      <td>0.212280</td>\n",
       "      <td>99.147027</td>\n",
       "      <td>447.018523</td>\n",
       "      <td>174.340972</td>\n",
       "      <td>57.296810</td>\n",
       "      <td>1.098931</td>\n",
       "      <td>3.300056</td>\n",
       "      <td>8.742164</td>\n",
       "      <td>0.474318</td>\n",
       "      <td>0.443464</td>\n",
       "      <td>14.429795</td>\n",
       "    </tr>\n",
       "  </tbody>\n",
       "</table>\n",
       "</div>"
      ],
      "text/plain": [
       "            Row ID                     Order Date  \\\n",
       "count  51290.00000                          51290   \n",
       "mean   25645.50000  2013-05-11 21:26:49.155781120   \n",
       "min        1.00000            2011-01-01 00:00:00   \n",
       "25%    12823.25000            2012-06-19 00:00:00   \n",
       "50%    25645.50000            2013-07-08 00:00:00   \n",
       "75%    38467.75000            2014-05-22 00:00:00   \n",
       "max    51290.00000            2014-12-31 00:00:00   \n",
       "std    14806.29199                            NaN   \n",
       "\n",
       "                           Ship Date         Sales      Quantity  \\\n",
       "count                          51290  51290.000000  51290.000000   \n",
       "mean   2013-05-15 20:42:42.745174528    246.490581      3.476545   \n",
       "min              2011-01-03 00:00:00      0.444000      1.000000   \n",
       "25%              2012-06-23 00:00:00     30.758625      2.000000   \n",
       "50%              2013-07-12 00:00:00     85.053000      3.000000   \n",
       "75%              2014-05-26 00:00:00    251.053200      5.000000   \n",
       "max              2015-01-07 00:00:00  22638.480000     14.000000   \n",
       "std                              NaN    487.565361      2.278766   \n",
       "\n",
       "           Discount  Discount Amount  Sales After Discount        Profit  \\\n",
       "count  51290.000000     51290.000000          51290.000000  51290.000000   \n",
       "mean       0.142908        26.249796            220.240785     28.610982   \n",
       "min        0.000000         0.000000              0.088800  -6599.978000   \n",
       "25%        0.000000         0.000000             25.290000      0.000000   \n",
       "50%        0.000000         0.000000             72.000000      9.240000   \n",
       "75%        0.200000        15.504000            220.520100     36.810000   \n",
       "max        0.850000     11319.240000          17499.950000   8399.976000   \n",
       "std        0.212280        99.147027            447.018523    174.340972   \n",
       "\n",
       "       Shipping Cost    Order Year   Order Month     Order day      CYTDFlag  \\\n",
       "count   51290.000000  51290.000000  51290.000000  51290.000000  51290.000000   \n",
       "mean       26.375818   2012.777208      7.522636     15.782960      0.341802   \n",
       "min         0.002000   2011.000000      1.000000      1.000000      0.000000   \n",
       "25%         2.610000   2012.000000      5.000000      8.000000      0.000000   \n",
       "50%         7.790000   2013.000000      8.000000     16.000000      0.000000   \n",
       "75%        24.450000   2014.000000     10.000000     23.000000      1.000000   \n",
       "max       933.570000   2014.000000     12.000000     31.000000      1.000000   \n",
       "std        57.296810      1.098931      3.300056      8.742164      0.474318   \n",
       "\n",
       "           LYTDFlag          Week  \n",
       "count  51290.000000  51290.000000  \n",
       "mean       0.269039     31.287112  \n",
       "min        0.000000      1.000000  \n",
       "25%        0.000000     20.000000  \n",
       "50%        0.000000     33.000000  \n",
       "75%        1.000000     44.000000  \n",
       "max        1.000000     53.000000  \n",
       "std        0.443464     14.429795  "
      ]
     },
     "execution_count": 16,
     "metadata": {},
     "output_type": "execute_result"
    }
   ],
   "source": [
    "sales_geomap_cust_prod_cal.describe()"
   ]
  },
  {
   "cell_type": "code",
   "execution_count": 17,
   "id": "24121a3b-2c3b-48db-a708-a579bc2c393a",
   "metadata": {},
   "outputs": [
    {
     "data": {
      "text/plain": [
       "Index(['Row ID', 'Order ID', 'City', 'Order Date', 'Ship Date', 'Ship Mode',\n",
       "       'Customer ID', 'Product ID', 'Sales', 'Quantity', 'Discount',\n",
       "       'Discount Amount', 'Sales After Discount', 'Profit', 'Shipping Cost',\n",
       "       'Order Priority', 'Country', 'Country_Code', 'State', 'Market',\n",
       "       'Region', 'Customer_ID', 'Customer_Name', 'Segment', 'Product_ID',\n",
       "       'Category', 'Sub-Category', 'Product_Name', 'Order Year', 'Order Month',\n",
       "       'Order day', 'CYTDFlag', 'LYTDFlag', 'Month', 'MonthYear', 'Week',\n",
       "       'Quarter'],\n",
       "      dtype='object')"
      ]
     },
     "execution_count": 17,
     "metadata": {},
     "output_type": "execute_result"
    }
   ],
   "source": [
    "sales_geomap_cust_prod_cal.columns"
   ]
  },
  {
   "cell_type": "code",
   "execution_count": 18,
   "id": "657412df-9b5c-4ac4-90e5-1e9f3ff8c778",
   "metadata": {},
   "outputs": [
    {
     "data": {
      "text/plain": [
       "Row ID                  0\n",
       "Order ID                0\n",
       "City                    0\n",
       "Order Date              0\n",
       "Ship Date               0\n",
       "Ship Mode               0\n",
       "Customer ID             0\n",
       "Product ID              0\n",
       "Sales                   0\n",
       "Quantity                0\n",
       "Discount                0\n",
       "Discount Amount         0\n",
       "Sales After Discount    0\n",
       "Profit                  0\n",
       "Shipping Cost           0\n",
       "Order Priority          0\n",
       "Country                 0\n",
       "Country_Code            0\n",
       "State                   0\n",
       "Market                  0\n",
       "Region                  0\n",
       "Customer_ID             0\n",
       "Customer_Name           0\n",
       "Segment                 0\n",
       "Product_ID              0\n",
       "Category                0\n",
       "Sub-Category            0\n",
       "Product_Name            0\n",
       "Order Year              0\n",
       "Order Month             0\n",
       "Order day               0\n",
       "CYTDFlag                0\n",
       "LYTDFlag                0\n",
       "Month                   0\n",
       "MonthYear               0\n",
       "Week                    0\n",
       "Quarter                 0\n",
       "dtype: int64"
      ]
     },
     "execution_count": 18,
     "metadata": {},
     "output_type": "execute_result"
    }
   ],
   "source": [
    "sales_geomap_cust_prod_cal.isnull().sum()"
   ]
  },
  {
   "cell_type": "code",
   "execution_count": 19,
   "id": "d2b77a26-c22e-4562-8b0f-a0091d5974f3",
   "metadata": {},
   "outputs": [
    {
     "data": {
      "text/plain": [
       "(51290, 37)"
      ]
     },
     "execution_count": 19,
     "metadata": {},
     "output_type": "execute_result"
    }
   ],
   "source": [
    "sales_geomap_cust_prod_cal.shape\n"
   ]
  },
  {
   "cell_type": "code",
   "execution_count": 20,
   "id": "ac4a5868-7518-42e2-9b3b-a50fdeb22f99",
   "metadata": {},
   "outputs": [
    {
     "data": {
      "text/plain": [
       "Row ID                           int64\n",
       "Order ID                        object\n",
       "City                            object\n",
       "Order Date              datetime64[ns]\n",
       "Ship Date               datetime64[ns]\n",
       "Ship Mode                       object\n",
       "Customer ID                     object\n",
       "Product ID                      object\n",
       "Sales                          float64\n",
       "Quantity                         int64\n",
       "Discount                       float64\n",
       "Discount Amount                float64\n",
       "Sales After Discount           float64\n",
       "Profit                         float64\n",
       "Shipping Cost                  float64\n",
       "Order Priority                  object\n",
       "Country                         object\n",
       "Country_Code                    object\n",
       "State                           object\n",
       "Market                          object\n",
       "Region                          object\n",
       "Customer_ID                     object\n",
       "Customer_Name                   object\n",
       "Segment                         object\n",
       "Product_ID                      object\n",
       "Category                        object\n",
       "Sub-Category                    object\n",
       "Product_Name                    object\n",
       "Order Year                       int64\n",
       "Order Month                      int64\n",
       "Order day                        int64\n",
       "CYTDFlag                         int64\n",
       "LYTDFlag                         int64\n",
       "Month                           object\n",
       "MonthYear                       object\n",
       "Week                             int64\n",
       "Quarter                         object\n",
       "dtype: object"
      ]
     },
     "execution_count": 20,
     "metadata": {},
     "output_type": "execute_result"
    }
   ],
   "source": [
    "sales_geomap_cust_prod_cal.dtypes"
   ]
  },
  {
   "cell_type": "code",
   "execution_count": 21,
   "id": "40f63825-eddd-417e-b3f5-8e5353b5f7be",
   "metadata": {},
   "outputs": [
    {
     "data": {
      "text/plain": [
       "Index(['Row ID', 'Order ID', 'City', 'Order Date', 'Ship Date', 'Ship Mode',\n",
       "       'Customer ID', 'Product ID', 'Sales', 'Quantity', 'Discount',\n",
       "       'Discount Amount', 'Sales After Discount', 'Profit', 'Shipping Cost',\n",
       "       'Order Priority', 'Country', 'Country_Code', 'State', 'Market',\n",
       "       'Region', 'Customer_ID', 'Customer_Name', 'Segment', 'Product_ID',\n",
       "       'Category', 'Sub-Category', 'Product_Name', 'Order Year', 'Order Month',\n",
       "       'Order day', 'CYTDFlag', 'LYTDFlag', 'Month', 'MonthYear', 'Week',\n",
       "       'Quarter'],\n",
       "      dtype='object')"
      ]
     },
     "execution_count": 21,
     "metadata": {},
     "output_type": "execute_result"
    }
   ],
   "source": [
    "sales_geomap_cust_prod_cal.columns"
   ]
  },
  {
   "cell_type": "code",
   "execution_count": 22,
   "id": "a3fd0893-95fd-4dfa-80e1-debf63dd721f",
   "metadata": {},
   "outputs": [
    {
     "data": {
      "text/html": [
       "<div>\n",
       "<style scoped>\n",
       "    .dataframe tbody tr th:only-of-type {\n",
       "        vertical-align: middle;\n",
       "    }\n",
       "\n",
       "    .dataframe tbody tr th {\n",
       "        vertical-align: top;\n",
       "    }\n",
       "\n",
       "    .dataframe thead th {\n",
       "        text-align: right;\n",
       "    }\n",
       "</style>\n",
       "<table border=\"1\" class=\"dataframe\">\n",
       "  <thead>\n",
       "    <tr style=\"text-align: right;\">\n",
       "      <th></th>\n",
       "      <th>Row ID</th>\n",
       "      <th>Quantity</th>\n",
       "      <th>Discount</th>\n",
       "      <th>Discount Amount</th>\n",
       "      <th>Sales After Discount</th>\n",
       "      <th>Profit</th>\n",
       "      <th>Shipping Cost</th>\n",
       "      <th>Order Year</th>\n",
       "    </tr>\n",
       "  </thead>\n",
       "  <tbody>\n",
       "    <tr>\n",
       "      <th>0</th>\n",
       "      <td>32298</td>\n",
       "      <td>7</td>\n",
       "      <td>0.0</td>\n",
       "      <td>0.0000</td>\n",
       "      <td>2309.6500</td>\n",
       "      <td>762.1845</td>\n",
       "      <td>933.570</td>\n",
       "      <td>2012</td>\n",
       "    </tr>\n",
       "    <tr>\n",
       "      <th>1</th>\n",
       "      <td>26341</td>\n",
       "      <td>9</td>\n",
       "      <td>0.1</td>\n",
       "      <td>370.9395</td>\n",
       "      <td>3338.4555</td>\n",
       "      <td>-288.7650</td>\n",
       "      <td>923.630</td>\n",
       "      <td>2013</td>\n",
       "    </tr>\n",
       "    <tr>\n",
       "      <th>2</th>\n",
       "      <td>25330</td>\n",
       "      <td>9</td>\n",
       "      <td>0.1</td>\n",
       "      <td>517.5171</td>\n",
       "      <td>4657.6539</td>\n",
       "      <td>919.9710</td>\n",
       "      <td>915.490</td>\n",
       "      <td>2013</td>\n",
       "    </tr>\n",
       "    <tr>\n",
       "      <th>3</th>\n",
       "      <td>13524</td>\n",
       "      <td>5</td>\n",
       "      <td>0.1</td>\n",
       "      <td>289.2510</td>\n",
       "      <td>2603.2590</td>\n",
       "      <td>-96.5400</td>\n",
       "      <td>910.160</td>\n",
       "      <td>2013</td>\n",
       "    </tr>\n",
       "    <tr>\n",
       "      <th>4</th>\n",
       "      <td>47221</td>\n",
       "      <td>8</td>\n",
       "      <td>0.0</td>\n",
       "      <td>0.0000</td>\n",
       "      <td>2832.9600</td>\n",
       "      <td>311.5200</td>\n",
       "      <td>903.040</td>\n",
       "      <td>2013</td>\n",
       "    </tr>\n",
       "    <tr>\n",
       "      <th>...</th>\n",
       "      <td>...</td>\n",
       "      <td>...</td>\n",
       "      <td>...</td>\n",
       "      <td>...</td>\n",
       "      <td>...</td>\n",
       "      <td>...</td>\n",
       "      <td>...</td>\n",
       "      <td>...</td>\n",
       "    </tr>\n",
       "    <tr>\n",
       "      <th>51285</th>\n",
       "      <td>29002</td>\n",
       "      <td>5</td>\n",
       "      <td>0.0</td>\n",
       "      <td>0.0000</td>\n",
       "      <td>65.1000</td>\n",
       "      <td>4.5000</td>\n",
       "      <td>0.010</td>\n",
       "      <td>2014</td>\n",
       "    </tr>\n",
       "    <tr>\n",
       "      <th>51286</th>\n",
       "      <td>35398</td>\n",
       "      <td>1</td>\n",
       "      <td>0.8</td>\n",
       "      <td>0.3552</td>\n",
       "      <td>0.0888</td>\n",
       "      <td>-1.1100</td>\n",
       "      <td>0.010</td>\n",
       "      <td>2014</td>\n",
       "    </tr>\n",
       "    <tr>\n",
       "      <th>51287</th>\n",
       "      <td>40470</td>\n",
       "      <td>3</td>\n",
       "      <td>0.0</td>\n",
       "      <td>0.0000</td>\n",
       "      <td>22.9200</td>\n",
       "      <td>11.2308</td>\n",
       "      <td>0.010</td>\n",
       "      <td>2013</td>\n",
       "    </tr>\n",
       "    <tr>\n",
       "      <th>51288</th>\n",
       "      <td>9596</td>\n",
       "      <td>2</td>\n",
       "      <td>0.0</td>\n",
       "      <td>0.0000</td>\n",
       "      <td>13.4400</td>\n",
       "      <td>2.4000</td>\n",
       "      <td>0.003</td>\n",
       "      <td>2012</td>\n",
       "    </tr>\n",
       "    <tr>\n",
       "      <th>51289</th>\n",
       "      <td>6147</td>\n",
       "      <td>3</td>\n",
       "      <td>0.0</td>\n",
       "      <td>0.0000</td>\n",
       "      <td>61.3800</td>\n",
       "      <td>1.8000</td>\n",
       "      <td>0.002</td>\n",
       "      <td>2012</td>\n",
       "    </tr>\n",
       "  </tbody>\n",
       "</table>\n",
       "<p>51290 rows × 8 columns</p>\n",
       "</div>"
      ],
      "text/plain": [
       "       Row ID  Quantity  Discount  Discount Amount  Sales After Discount  \\\n",
       "0       32298         7       0.0           0.0000             2309.6500   \n",
       "1       26341         9       0.1         370.9395             3338.4555   \n",
       "2       25330         9       0.1         517.5171             4657.6539   \n",
       "3       13524         5       0.1         289.2510             2603.2590   \n",
       "4       47221         8       0.0           0.0000             2832.9600   \n",
       "...       ...       ...       ...              ...                   ...   \n",
       "51285   29002         5       0.0           0.0000               65.1000   \n",
       "51286   35398         1       0.8           0.3552                0.0888   \n",
       "51287   40470         3       0.0           0.0000               22.9200   \n",
       "51288    9596         2       0.0           0.0000               13.4400   \n",
       "51289    6147         3       0.0           0.0000               61.3800   \n",
       "\n",
       "         Profit  Shipping Cost  Order Year  \n",
       "0      762.1845        933.570        2012  \n",
       "1     -288.7650        923.630        2013  \n",
       "2      919.9710        915.490        2013  \n",
       "3      -96.5400        910.160        2013  \n",
       "4      311.5200        903.040        2013  \n",
       "...         ...            ...         ...  \n",
       "51285    4.5000          0.010        2014  \n",
       "51286   -1.1100          0.010        2014  \n",
       "51287   11.2308          0.010        2013  \n",
       "51288    2.4000          0.003        2012  \n",
       "51289    1.8000          0.002        2012  \n",
       "\n",
       "[51290 rows x 8 columns]"
      ]
     },
     "execution_count": 22,
     "metadata": {},
     "output_type": "execute_result"
    }
   ],
   "source": [
    "df = sales_geomap_cust_prod_cal[['Row ID', 'Quantity', 'Discount','Discount Amount', 'Sales After Discount', 'Profit', 'Shipping Cost', 'Order Year']]\n",
    "df\n",
    "\n",
    "# , 'Order Month',\n",
    "#        'Order day', 'CYTDFlag', 'LYTDFlag', 'Week'"
   ]
  },
  {
   "cell_type": "code",
   "execution_count": 48,
   "id": "4e728be0-4340-48e4-a86f-a17715464945",
   "metadata": {},
   "outputs": [
    {
     "data": {
      "text/plain": [
       "Index(['Row ID', 'Order ID', 'City', 'Order Date', 'Ship Date', 'Ship Mode',\n",
       "       'Customer ID', 'Product ID', 'Sales', 'Quantity', 'Discount',\n",
       "       'Discount Amount', 'Sales After Discount', 'Profit', 'Shipping Cost',\n",
       "       'Order Priority', 'Country', 'Country_Code', 'State', 'Market',\n",
       "       'Region', 'Customer_ID', 'Customer_Name', 'Segment', 'Product_ID',\n",
       "       'Category', 'Sub-Category', 'Product_Name', 'Order Year', 'Order Month',\n",
       "       'Order day', 'CYTDFlag', 'LYTDFlag', 'Month', 'MonthYear', 'Week',\n",
       "       'Quarter'],\n",
       "      dtype='object')"
      ]
     },
     "execution_count": 48,
     "metadata": {},
     "output_type": "execute_result"
    }
   ],
   "source": [
    "sales_geomap_cust_prod_cal.columns"
   ]
  },
  {
   "cell_type": "markdown",
   "id": "6c4b3c03-0f2f-409d-89cf-3f2a2da42f87",
   "metadata": {},
   "source": [
    "# General Understanding:n?"
   ]
  },
  {
   "cell_type": "code",
   "execution_count": 23,
   "id": "b1246d9a-4592-4512-bb78-408f473c0358",
   "metadata": {},
   "outputs": [
    {
     "data": {
      "text/plain": [
       "(51290, 37)"
      ]
     },
     "execution_count": 23,
     "metadata": {},
     "output_type": "execute_result"
    }
   ],
   "source": [
    "# Q1. What is the size of the dataset? (number of rows and columns)\n",
    "sales_geomap_cust_prod_cal.shape"
   ]
  },
  {
   "cell_type": "code",
   "execution_count": 25,
   "id": "3167b54f-84a2-40c9-a10c-f823d2fa15c1",
   "metadata": {},
   "outputs": [
    {
     "data": {
      "text/plain": [
       "Row ID                  0\n",
       "Order ID                0\n",
       "City                    0\n",
       "Order Date              0\n",
       "Ship Date               0\n",
       "Ship Mode               0\n",
       "Customer ID             0\n",
       "Product ID              0\n",
       "Sales                   0\n",
       "Quantity                0\n",
       "Discount                0\n",
       "Discount Amount         0\n",
       "Sales After Discount    0\n",
       "Profit                  0\n",
       "Shipping Cost           0\n",
       "Order Priority          0\n",
       "Country                 0\n",
       "Country_Code            0\n",
       "State                   0\n",
       "Market                  0\n",
       "Region                  0\n",
       "Customer_ID             0\n",
       "Customer_Name           0\n",
       "Segment                 0\n",
       "Product_ID              0\n",
       "Category                0\n",
       "Sub-Category            0\n",
       "Product_Name            0\n",
       "Order Year              0\n",
       "Order Month             0\n",
       "Order day               0\n",
       "CYTDFlag                0\n",
       "LYTDFlag                0\n",
       "Month                   0\n",
       "MonthYear               0\n",
       "Week                    0\n",
       "Quarter                 0\n",
       "dtype: int64"
      ]
     },
     "execution_count": 25,
     "metadata": {},
     "output_type": "execute_result"
    }
   ],
   "source": [
    "# Q2. Are there any missing values in the dataset? If so, how are they distributed across columns?\n",
    "sales_geomap_cust_prod_cal.isnull().sum()"
   ]
  },
  {
   "cell_type": "code",
   "execution_count": 26,
   "id": "7317ffff-75b7-42b5-93a9-27e94553568d",
   "metadata": {},
   "outputs": [
    {
     "data": {
      "text/plain": [
       "Row ID                           int64\n",
       "Order ID                        object\n",
       "City                            object\n",
       "Order Date              datetime64[ns]\n",
       "Ship Date               datetime64[ns]\n",
       "Ship Mode                       object\n",
       "Customer ID                     object\n",
       "Product ID                      object\n",
       "Sales                          float64\n",
       "Quantity                         int64\n",
       "Discount                       float64\n",
       "Discount Amount                float64\n",
       "Sales After Discount           float64\n",
       "Profit                         float64\n",
       "Shipping Cost                  float64\n",
       "Order Priority                  object\n",
       "Country                         object\n",
       "Country_Code                    object\n",
       "State                           object\n",
       "Market                          object\n",
       "Region                          object\n",
       "Customer_ID                     object\n",
       "Customer_Name                   object\n",
       "Segment                         object\n",
       "Product_ID                      object\n",
       "Category                        object\n",
       "Sub-Category                    object\n",
       "Product_Name                    object\n",
       "Order Year                       int64\n",
       "Order Month                      int64\n",
       "Order day                        int64\n",
       "CYTDFlag                         int64\n",
       "LYTDFlag                         int64\n",
       "Month                           object\n",
       "MonthYear                       object\n",
       "Week                             int64\n",
       "Quarter                         object\n",
       "dtype: object"
      ]
     },
     "execution_count": 26,
     "metadata": {},
     "output_type": "execute_result"
    }
   ],
   "source": [
    "# Q3. What are the data types of each column?\n",
    "sales_geomap_cust_prod_cal.dtypes"
   ]
  },
  {
   "cell_type": "markdown",
   "id": "bee7c4d3-8f24-4ea9-b873-36a9c6f37255",
   "metadata": {},
   "source": [
    "# Uniqueness and Identifiers:"
   ]
  },
  {
   "cell_type": "code",
   "execution_count": 28,
   "id": "3533b590-c0dd-4bc3-b988-bb0c4d06f0c1",
   "metadata": {},
   "outputs": [
    {
     "data": {
      "text/plain": [
       "0"
      ]
     },
     "execution_count": 28,
     "metadata": {},
     "output_type": "execute_result"
    }
   ],
   "source": [
    "# Q4. Are there any duplicate rows in the dataset?\n",
    "sales_geomap_cust_prod_cal.duplicated().sum()"
   ]
  },
  {
   "cell_type": "code",
   "execution_count": 30,
   "id": "70b7d7ac-849f-4a5a-af58-94f67aea3c7a",
   "metadata": {},
   "outputs": [
    {
     "data": {
      "text/plain": [
       "array(['RH-19495', 'JR-16210', 'CR-12730', ..., 'RC-9825', 'MG-7890',\n",
       "       'ZC-11910'], dtype=object)"
      ]
     },
     "execution_count": 30,
     "metadata": {},
     "output_type": "execute_result"
    }
   ],
   "source": [
    "# Q5. What are the unique values in categorical columns like 'City', 'Country', 'Product_Name', etc.?\n",
    "sales_geomap_cust_prod_cal['Customer ID'].unique()"
   ]
  },
  {
   "cell_type": "code",
   "execution_count": 31,
   "id": "24b80e1f-8db0-4760-9584-f78586277468",
   "metadata": {},
   "outputs": [
    {
     "data": {
      "text/plain": [
       "25092"
      ]
     },
     "execution_count": 31,
     "metadata": {},
     "output_type": "execute_result"
    }
   ],
   "source": [
    "# Q6. Do any columns serve as identifiers, such as 'Row ID', 'Order ID', or 'Customer ID'? If so, are they unique?\n",
    "sales_geomap_cust_prod_cal['Order ID'].nunique()"
   ]
  },
  {
   "cell_type": "markdown",
   "id": "adabdbdf-0416-4fa0-af67-225896dff98e",
   "metadata": {},
   "source": [
    "# Sales and Profit Analysis:ers."
   ]
  },
  {
   "cell_type": "code",
   "execution_count": 35,
   "id": "44e9e310-3800-4a94-a2e8-81d6b276a15d",
   "metadata": {},
   "outputs": [
    {
     "data": {
      "text/plain": [
       "count    51290.000000\n",
       "mean       246.490581\n",
       "std        487.565361\n",
       "min          0.444000\n",
       "25%         30.758625\n",
       "50%         85.053000\n",
       "75%        251.053200\n",
       "max      22638.480000\n",
       "Name: Sales, dtype: float64"
      ]
     },
     "execution_count": 35,
     "metadata": {},
     "output_type": "execute_result"
    }
   ],
   "source": [
    "# Q7. For distribution, use describe() or visualization tools like histograms or boxplots.\n",
    "sales_geomap_cust_prod_cal['Sales'].describe()"
   ]
  },
  {
   "cell_type": "code",
   "execution_count": 36,
   "id": "03ca5684-34d9-4dae-bbe3-daa1a76134f4",
   "metadata": {},
   "outputs": [
    {
     "data": {
      "text/plain": [
       "count    51290.000000\n",
       "mean        28.610982\n",
       "std        174.340972\n",
       "min      -6599.978000\n",
       "25%          0.000000\n",
       "50%          9.240000\n",
       "75%         36.810000\n",
       "max       8399.976000\n",
       "Name: Profit, dtype: float64"
      ]
     },
     "execution_count": 36,
     "metadata": {},
     "output_type": "execute_result"
    }
   ],
   "source": [
    "sales_geomap_cust_prod_cal['Profit'].describe()"
   ]
  },
  {
   "cell_type": "code",
   "execution_count": 38,
   "id": "7c34f0d7-e81d-4588-bbfd-5767e0469013",
   "metadata": {},
   "outputs": [
    {
     "data": {
      "text/plain": [
       "Category\n",
       "Furniture          4.110874e+06\n",
       "Office Supplies    3.787070e+06\n",
       "Technology         4.744557e+06\n",
       "Name: Sales, dtype: float64"
      ]
     },
     "execution_count": 38,
     "metadata": {},
     "output_type": "execute_result"
    }
   ],
   "source": [
    "# Q8. Use groupby() to analyze sales and profit by different categories.\n",
    "sales_by_category = sales_geomap_cust_prod_cal.groupby('Category')['Sales'].sum()\n",
    "sales_by_category"
   ]
  },
  {
   "cell_type": "markdown",
   "id": "7f857799-bb84-4412-aeae-57663da8ad42",
   "metadata": {},
   "source": [
    "# Customer Analysis:"
   ]
  },
  {
   "cell_type": "code",
   "execution_count": 56,
   "id": "60a0fc96-45b9-4d35-89ce-2e30ba211e1b",
   "metadata": {},
   "outputs": [
    {
     "data": {
      "text/plain": [
       "1590"
      ]
     },
     "execution_count": 56,
     "metadata": {},
     "output_type": "execute_result"
    }
   ],
   "source": [
    "# Q9. unique customers.\n",
    "sales_geomap_cust_prod_cal['Customer ID'].nunique()"
   ]
  },
  {
   "cell_type": "code",
   "execution_count": 55,
   "id": "a67d07db-fdba-4dbe-955f-9a96a955bf21",
   "metadata": {},
   "outputs": [
    {
     "data": {
      "text/plain": [
       "Segment\n",
       "Consumer       6.507949e+06\n",
       "Corporate      3.824698e+06\n",
       "Home Office    2.309855e+06\n",
       "Name: Sales, dtype: float64"
      ]
     },
     "execution_count": 55,
     "metadata": {},
     "output_type": "execute_result"
    }
   ],
   "source": [
    "# Q10. Purchasing behavior by segment\n",
    "segment_purchases = sales_geomap_cust_prod_cal.groupby('Segment')['Sales'].sum()\n",
    "segment_purchases"
   ]
  },
  {
   "cell_type": "markdown",
   "id": "84eda1c6-73d8-4a6f-af92-be5cdc015b7a",
   "metadata": {},
   "source": [
    "# Product Analysis:"
   ]
  },
  {
   "cell_type": "code",
   "execution_count": 57,
   "id": "eb83c8b4-111d-499d-bded-5a666b58d908",
   "metadata": {},
   "outputs": [
    {
     "data": {
      "text/plain": [
       "Product_Name\n",
       "Staples                                  230\n",
       "Ibico Index Tab, Clear                   108\n",
       "Smead File Cart, Single Width             77\n",
       "Avery Index Tab, Clear                    76\n",
       "Acco Index Tab, Clear                     75\n",
       "Tenex File Cart, Single Width             75\n",
       "Eldon File Cart, Single Width             73\n",
       "Stanley Pencil Sharpener, Water Color     72\n",
       "Cardinal Index Tab, Clear                 71\n",
       "Sanford Pencil Sharpener, Water Color     66\n",
       "Name: count, dtype: int64"
      ]
     },
     "execution_count": 57,
     "metadata": {},
     "output_type": "execute_result"
    }
   ],
   "source": [
    "# Q11. Top-selling products and categories\n",
    "top_products = sales_geomap_cust_prod_cal['Product_Name'].value_counts().head(10)\n",
    "top_products\n",
    "\n",
    "# ['Row ID', 'Order ID', 'City', 'Order Date', 'Ship Date', 'Ship Mode',\n",
    "#        'Customer ID', 'Product ID', 'Sales', 'Quantity', 'Discount',\n",
    "#        'Discount Amount', 'Sales After Discount', 'Profit', 'Shipping Cost',\n",
    "#        'Order Priority', 'Country', 'Country_Code', 'State', 'Market',\n",
    "#        'Region', 'Customer_ID', 'Customer_Name', 'Segment', 'Product_ID',\n",
    "#        'Category', 'Sub-Category', 'Product_Name', 'Order Year', 'Order Month',\n",
    "#        'Order day', 'CYTDFlag', 'LYTDFlag', 'Month', 'MonthYear', 'Week',\n",
    "#        'Quarter'],"
   ]
  },
  {
   "cell_type": "code",
   "execution_count": 52,
   "id": "2e3c8e99-7806-4c74-bdb5-deeec00ebc5e",
   "metadata": {},
   "outputs": [
    {
     "data": {
      "text/plain": [
       "Product_Name\n",
       "Staples                          230\n",
       "Ibico Index Tab, Clear           108\n",
       "Smead File Cart, Single Width     77\n",
       "Avery Index Tab, Clear            76\n",
       "Acco Index Tab, Clear             75\n",
       "Name: count, dtype: int64"
      ]
     },
     "execution_count": 52,
     "metadata": {},
     "output_type": "execute_result"
    }
   ],
   "source": [
    "top_products = sales_geomap_cust_prod_cal['Product_Name'].value_counts().head()\n",
    "top_products"
   ]
  },
  {
   "cell_type": "code",
   "execution_count": 53,
   "id": "3c2e1d1e-c60d-4e57-a82c-22b18c2a4881",
   "metadata": {},
   "outputs": [
    {
     "data": {
      "text/plain": [
       "Category\n",
       "Furniture          4.110874e+06\n",
       "Office Supplies    3.787070e+06\n",
       "Technology         4.744557e+06\n",
       "Name: Sales, dtype: float64"
      ]
     },
     "execution_count": 53,
     "metadata": {},
     "output_type": "execute_result"
    }
   ],
   "source": [
    "# Sales by product categories\n",
    "sales_by_category = sales_geomap_cust_prod_cal.groupby('Category')['Sales'].sum()\n",
    "sales_by_category"
   ]
  },
  {
   "cell_type": "markdown",
   "id": "5650879a-67e2-485d-8e4c-e26953bc33d6",
   "metadata": {},
   "source": [
    "# Geographical Analysis:"
   ]
  },
  {
   "cell_type": "code",
   "execution_count": 60,
   "id": "96307eea-aff3-4958-b7ac-f34f30ac5d51",
   "metadata": {},
   "outputs": [
    {
     "data": {
      "text/plain": [
       "Country\n",
       "Afghanistan    21673.32000\n",
       "Albania         3888.12000\n",
       "Algeria        36091.59000\n",
       "Angola         25554.00000\n",
       "Argentina      54703.20008\n",
       "                  ...     \n",
       "Venezuela      71062.77636\n",
       "Vietnam        65800.19940\n",
       "Yemen           2465.71200\n",
       "Zambia         26035.50000\n",
       "Zimbabwe        3765.10500\n",
       "Name: Sales, Length: 147, dtype: float64"
      ]
     },
     "execution_count": 60,
     "metadata": {},
     "output_type": "execute_result"
    }
   ],
   "source": [
    "# Q12. Sales distribution by country\n",
    "sales_by_country = sales_geomap_cust_prod_cal.groupby('Country')['Sales'].sum()\n",
    "sales_by_country"
   ]
  },
  {
   "cell_type": "markdown",
   "id": "cedeb7c3-4e5c-4134-b2cb-ecce7cc1b725",
   "metadata": {},
   "source": [
    "# Order and Shipping Analysis"
   ]
  },
  {
   "cell_type": "code",
   "execution_count": 64,
   "id": "64788ec8-52ae-4fe2-965e-0b5b6460c655",
   "metadata": {},
   "outputs": [
    {
     "data": {
      "text/plain": [
       "Ship Mode\n",
       "Standard Class    30775\n",
       "Second Class      10309\n",
       "First Class        7505\n",
       "Same Day           2701\n",
       "Name: count, dtype: int64"
      ]
     },
     "execution_count": 64,
     "metadata": {},
     "output_type": "execute_result"
    }
   ],
   "source": [
    "# Q13. Common shipping modes and order priorities\n",
    "shipping_modes = sales_geomap_cust_prod_cal['Ship Mode'].value_counts()\n",
    "shipping_modes"
   ]
  },
  {
   "cell_type": "code",
   "execution_count": 65,
   "id": "8297f809-a12d-4704-9411-504187d49705",
   "metadata": {},
   "outputs": [
    {
     "data": {
      "text/plain": [
       "Order Priority\n",
       "Medium      29433\n",
       "High        15501\n",
       "Critical     3932\n",
       "Low          2424\n",
       "Name: count, dtype: int64"
      ]
     },
     "execution_count": 65,
     "metadata": {},
     "output_type": "execute_result"
    }
   ],
   "source": [
    "order_priorities = sales_geomap_cust_prod_cal['Order Priority'].value_counts()\n",
    "order_priorities"
   ]
  },
  {
   "cell_type": "markdown",
   "id": "3a2ab644-efe6-473e-a351-e363db374c8f",
   "metadata": {},
   "source": [
    "# Discount Analysis"
   ]
  },
  {
   "cell_type": "code",
   "execution_count": 68,
   "id": "308c9c94-7fe1-442a-99e7-19dd21df3d83",
   "metadata": {},
   "outputs": [
    {
     "data": {
      "text/plain": [
       "count    51290.000000\n",
       "mean         0.142908\n",
       "std          0.212280\n",
       "min          0.000000\n",
       "25%          0.000000\n",
       "50%          0.000000\n",
       "75%          0.200000\n",
       "max          0.850000\n",
       "Name: Discount, dtype: float64"
      ]
     },
     "execution_count": 68,
     "metadata": {},
     "output_type": "execute_result"
    }
   ],
   "source": [
    "# Q14. Discount distribution\n",
    "sales_geomap_cust_prod_cal['Discount'].describe()"
   ]
  },
  {
   "cell_type": "code",
   "execution_count": 72,
   "id": "9b4fc58b-3f8c-488d-8c24-72b07edbd78c",
   "metadata": {},
   "outputs": [
    {
     "data": {
      "text/plain": [
       "-0.08672186697182652"
      ]
     },
     "execution_count": 72,
     "metadata": {},
     "output_type": "execute_result"
    }
   ],
   "source": [
    "# Q15. Relationship between discount and sales/profit\n",
    "sales_geomap_cust_prod_cal['Discount'].corr(sales_geomap_cust_prod_cal['Sales'])"
   ]
  },
  {
   "cell_type": "code",
   "execution_count": 73,
   "id": "a1b47d9e-2417-472a-91c5-f51c7dd8eb62",
   "metadata": {},
   "outputs": [
    {
     "data": {
      "text/plain": [
       "-0.31649017182727185"
      ]
     },
     "execution_count": 73,
     "metadata": {},
     "output_type": "execute_result"
    }
   ],
   "source": [
    "sales_geomap_cust_prod_cal['Discount'].corr(sales_geomap_cust_prod_cal['Profit'])"
   ]
  },
  {
   "cell_type": "code",
   "execution_count": 76,
   "id": "406eec57-0318-40c1-8cd7-3bcf56c0d77d",
   "metadata": {},
   "outputs": [
    {
     "data": {
      "text/plain": [
       "Country\n",
       "United States    10448\n",
       "France            2825\n",
       "Australia         2462\n",
       "Mexico            2440\n",
       "Germany           2065\n",
       "                 ...  \n",
       "Chad                 2\n",
       "Burundi              2\n",
       "Bahrain              2\n",
       "Eritrea              2\n",
       "South Sudan          2\n",
       "Name: count, Length: 147, dtype: int64"
      ]
     },
     "execution_count": 76,
     "metadata": {},
     "output_type": "execute_result"
    }
   ],
   "source": [
    "# Calculate the count of each country\n",
    "country_counts = sales_geomap_cust_prod_cal['Country'].value_counts()\n",
    "country_counts"
   ]
  },
  {
   "cell_type": "markdown",
   "id": "839fc41b-062d-4e12-9a56-419774ca1569",
   "metadata": {},
   "source": [
    "# Correlation "
   ]
  },
  {
   "cell_type": "code",
   "execution_count": 77,
   "id": "0a27205e-50f5-4669-b029-eff024d52dde",
   "metadata": {},
   "outputs": [
    {
     "data": {
      "text/html": [
       "<div>\n",
       "<style scoped>\n",
       "    .dataframe tbody tr th:only-of-type {\n",
       "        vertical-align: middle;\n",
       "    }\n",
       "\n",
       "    .dataframe tbody tr th {\n",
       "        vertical-align: top;\n",
       "    }\n",
       "\n",
       "    .dataframe thead th {\n",
       "        text-align: right;\n",
       "    }\n",
       "</style>\n",
       "<table border=\"1\" class=\"dataframe\">\n",
       "  <thead>\n",
       "    <tr style=\"text-align: right;\">\n",
       "      <th></th>\n",
       "      <th>Row ID</th>\n",
       "      <th>Quantity</th>\n",
       "      <th>Discount</th>\n",
       "      <th>Discount Amount</th>\n",
       "      <th>Sales After Discount</th>\n",
       "      <th>Profit</th>\n",
       "      <th>Shipping Cost</th>\n",
       "      <th>Order Year</th>\n",
       "    </tr>\n",
       "  </thead>\n",
       "  <tbody>\n",
       "    <tr>\n",
       "      <th>0</th>\n",
       "      <td>32298</td>\n",
       "      <td>7</td>\n",
       "      <td>0.0</td>\n",
       "      <td>0.0000</td>\n",
       "      <td>2309.6500</td>\n",
       "      <td>762.1845</td>\n",
       "      <td>933.570</td>\n",
       "      <td>2012</td>\n",
       "    </tr>\n",
       "    <tr>\n",
       "      <th>1</th>\n",
       "      <td>26341</td>\n",
       "      <td>9</td>\n",
       "      <td>0.1</td>\n",
       "      <td>370.9395</td>\n",
       "      <td>3338.4555</td>\n",
       "      <td>-288.7650</td>\n",
       "      <td>923.630</td>\n",
       "      <td>2013</td>\n",
       "    </tr>\n",
       "    <tr>\n",
       "      <th>2</th>\n",
       "      <td>25330</td>\n",
       "      <td>9</td>\n",
       "      <td>0.1</td>\n",
       "      <td>517.5171</td>\n",
       "      <td>4657.6539</td>\n",
       "      <td>919.9710</td>\n",
       "      <td>915.490</td>\n",
       "      <td>2013</td>\n",
       "    </tr>\n",
       "    <tr>\n",
       "      <th>3</th>\n",
       "      <td>13524</td>\n",
       "      <td>5</td>\n",
       "      <td>0.1</td>\n",
       "      <td>289.2510</td>\n",
       "      <td>2603.2590</td>\n",
       "      <td>-96.5400</td>\n",
       "      <td>910.160</td>\n",
       "      <td>2013</td>\n",
       "    </tr>\n",
       "    <tr>\n",
       "      <th>4</th>\n",
       "      <td>47221</td>\n",
       "      <td>8</td>\n",
       "      <td>0.0</td>\n",
       "      <td>0.0000</td>\n",
       "      <td>2832.9600</td>\n",
       "      <td>311.5200</td>\n",
       "      <td>903.040</td>\n",
       "      <td>2013</td>\n",
       "    </tr>\n",
       "    <tr>\n",
       "      <th>...</th>\n",
       "      <td>...</td>\n",
       "      <td>...</td>\n",
       "      <td>...</td>\n",
       "      <td>...</td>\n",
       "      <td>...</td>\n",
       "      <td>...</td>\n",
       "      <td>...</td>\n",
       "      <td>...</td>\n",
       "    </tr>\n",
       "    <tr>\n",
       "      <th>51285</th>\n",
       "      <td>29002</td>\n",
       "      <td>5</td>\n",
       "      <td>0.0</td>\n",
       "      <td>0.0000</td>\n",
       "      <td>65.1000</td>\n",
       "      <td>4.5000</td>\n",
       "      <td>0.010</td>\n",
       "      <td>2014</td>\n",
       "    </tr>\n",
       "    <tr>\n",
       "      <th>51286</th>\n",
       "      <td>35398</td>\n",
       "      <td>1</td>\n",
       "      <td>0.8</td>\n",
       "      <td>0.3552</td>\n",
       "      <td>0.0888</td>\n",
       "      <td>-1.1100</td>\n",
       "      <td>0.010</td>\n",
       "      <td>2014</td>\n",
       "    </tr>\n",
       "    <tr>\n",
       "      <th>51287</th>\n",
       "      <td>40470</td>\n",
       "      <td>3</td>\n",
       "      <td>0.0</td>\n",
       "      <td>0.0000</td>\n",
       "      <td>22.9200</td>\n",
       "      <td>11.2308</td>\n",
       "      <td>0.010</td>\n",
       "      <td>2013</td>\n",
       "    </tr>\n",
       "    <tr>\n",
       "      <th>51288</th>\n",
       "      <td>9596</td>\n",
       "      <td>2</td>\n",
       "      <td>0.0</td>\n",
       "      <td>0.0000</td>\n",
       "      <td>13.4400</td>\n",
       "      <td>2.4000</td>\n",
       "      <td>0.003</td>\n",
       "      <td>2012</td>\n",
       "    </tr>\n",
       "    <tr>\n",
       "      <th>51289</th>\n",
       "      <td>6147</td>\n",
       "      <td>3</td>\n",
       "      <td>0.0</td>\n",
       "      <td>0.0000</td>\n",
       "      <td>61.3800</td>\n",
       "      <td>1.8000</td>\n",
       "      <td>0.002</td>\n",
       "      <td>2012</td>\n",
       "    </tr>\n",
       "  </tbody>\n",
       "</table>\n",
       "<p>51290 rows × 8 columns</p>\n",
       "</div>"
      ],
      "text/plain": [
       "       Row ID  Quantity  Discount  Discount Amount  Sales After Discount  \\\n",
       "0       32298         7       0.0           0.0000             2309.6500   \n",
       "1       26341         9       0.1         370.9395             3338.4555   \n",
       "2       25330         9       0.1         517.5171             4657.6539   \n",
       "3       13524         5       0.1         289.2510             2603.2590   \n",
       "4       47221         8       0.0           0.0000             2832.9600   \n",
       "...       ...       ...       ...              ...                   ...   \n",
       "51285   29002         5       0.0           0.0000               65.1000   \n",
       "51286   35398         1       0.8           0.3552                0.0888   \n",
       "51287   40470         3       0.0           0.0000               22.9200   \n",
       "51288    9596         2       0.0           0.0000               13.4400   \n",
       "51289    6147         3       0.0           0.0000               61.3800   \n",
       "\n",
       "         Profit  Shipping Cost  Order Year  \n",
       "0      762.1845        933.570        2012  \n",
       "1     -288.7650        923.630        2013  \n",
       "2      919.9710        915.490        2013  \n",
       "3      -96.5400        910.160        2013  \n",
       "4      311.5200        903.040        2013  \n",
       "...         ...            ...         ...  \n",
       "51285    4.5000          0.010        2014  \n",
       "51286   -1.1100          0.010        2014  \n",
       "51287   11.2308          0.010        2013  \n",
       "51288    2.4000          0.003        2012  \n",
       "51289    1.8000          0.002        2012  \n",
       "\n",
       "[51290 rows x 8 columns]"
      ]
     },
     "execution_count": 77,
     "metadata": {},
     "output_type": "execute_result"
    }
   ],
   "source": [
    "df = sales_geomap_cust_prod_cal[['Row ID', 'Quantity', 'Discount','Discount Amount', 'Sales After Discount', 'Profit', 'Shipping Cost', 'Order Year']]\n",
    "df"
   ]
  },
  {
   "cell_type": "code",
   "execution_count": 78,
   "id": "7fe4d66d-9901-4655-9f96-160f8e50aff9",
   "metadata": {},
   "outputs": [
    {
     "data": {
      "text/html": [
       "<div>\n",
       "<style scoped>\n",
       "    .dataframe tbody tr th:only-of-type {\n",
       "        vertical-align: middle;\n",
       "    }\n",
       "\n",
       "    .dataframe tbody tr th {\n",
       "        vertical-align: top;\n",
       "    }\n",
       "\n",
       "    .dataframe thead th {\n",
       "        text-align: right;\n",
       "    }\n",
       "</style>\n",
       "<table border=\"1\" class=\"dataframe\">\n",
       "  <thead>\n",
       "    <tr style=\"text-align: right;\">\n",
       "      <th></th>\n",
       "      <th>Row ID</th>\n",
       "      <th>Quantity</th>\n",
       "      <th>Discount</th>\n",
       "      <th>Discount Amount</th>\n",
       "      <th>Sales After Discount</th>\n",
       "      <th>Profit</th>\n",
       "      <th>Shipping Cost</th>\n",
       "      <th>Order Year</th>\n",
       "    </tr>\n",
       "  </thead>\n",
       "  <tbody>\n",
       "    <tr>\n",
       "      <th>Row ID</th>\n",
       "      <td>1.000000</td>\n",
       "      <td>-0.173483</td>\n",
       "      <td>0.087594</td>\n",
       "      <td>-0.020742</td>\n",
       "      <td>-0.043269</td>\n",
       "      <td>-0.019037</td>\n",
       "      <td>-0.039076</td>\n",
       "      <td>-0.000921</td>\n",
       "    </tr>\n",
       "    <tr>\n",
       "      <th>Quantity</th>\n",
       "      <td>-0.173483</td>\n",
       "      <td>1.000000</td>\n",
       "      <td>-0.019875</td>\n",
       "      <td>0.166932</td>\n",
       "      <td>0.304995</td>\n",
       "      <td>0.104365</td>\n",
       "      <td>0.272649</td>\n",
       "      <td>-0.005049</td>\n",
       "    </tr>\n",
       "    <tr>\n",
       "      <th>Discount</th>\n",
       "      <td>0.087594</td>\n",
       "      <td>-0.019875</td>\n",
       "      <td>1.000000</td>\n",
       "      <td>0.270822</td>\n",
       "      <td>-0.154655</td>\n",
       "      <td>-0.316490</td>\n",
       "      <td>-0.079055</td>\n",
       "      <td>-0.005894</td>\n",
       "    </tr>\n",
       "    <tr>\n",
       "      <th>Discount Amount</th>\n",
       "      <td>-0.020742</td>\n",
       "      <td>0.166932</td>\n",
       "      <td>0.270822</td>\n",
       "      <td>1.000000</td>\n",
       "      <td>0.316606</td>\n",
       "      <td>-0.316809</td>\n",
       "      <td>0.329360</td>\n",
       "      <td>-0.008131</td>\n",
       "    </tr>\n",
       "    <tr>\n",
       "      <th>Sales After Discount</th>\n",
       "      <td>-0.043269</td>\n",
       "      <td>0.304995</td>\n",
       "      <td>-0.154655</td>\n",
       "      <td>0.316606</td>\n",
       "      <td>1.000000</td>\n",
       "      <td>0.599170</td>\n",
       "      <td>0.764690</td>\n",
       "      <td>-0.001365</td>\n",
       "    </tr>\n",
       "    <tr>\n",
       "      <th>Profit</th>\n",
       "      <td>-0.019037</td>\n",
       "      <td>0.104365</td>\n",
       "      <td>-0.316490</td>\n",
       "      <td>-0.316809</td>\n",
       "      <td>0.599170</td>\n",
       "      <td>1.000000</td>\n",
       "      <td>0.354441</td>\n",
       "      <td>0.002626</td>\n",
       "    </tr>\n",
       "    <tr>\n",
       "      <th>Shipping Cost</th>\n",
       "      <td>-0.039076</td>\n",
       "      <td>0.272649</td>\n",
       "      <td>-0.079055</td>\n",
       "      <td>0.329360</td>\n",
       "      <td>0.764690</td>\n",
       "      <td>0.354441</td>\n",
       "      <td>1.000000</td>\n",
       "      <td>-0.003137</td>\n",
       "    </tr>\n",
       "    <tr>\n",
       "      <th>Order Year</th>\n",
       "      <td>-0.000921</td>\n",
       "      <td>-0.005049</td>\n",
       "      <td>-0.005894</td>\n",
       "      <td>-0.008131</td>\n",
       "      <td>-0.001365</td>\n",
       "      <td>0.002626</td>\n",
       "      <td>-0.003137</td>\n",
       "      <td>1.000000</td>\n",
       "    </tr>\n",
       "  </tbody>\n",
       "</table>\n",
       "</div>"
      ],
      "text/plain": [
       "                        Row ID  Quantity  Discount  Discount Amount  \\\n",
       "Row ID                1.000000 -0.173483  0.087594        -0.020742   \n",
       "Quantity             -0.173483  1.000000 -0.019875         0.166932   \n",
       "Discount              0.087594 -0.019875  1.000000         0.270822   \n",
       "Discount Amount      -0.020742  0.166932  0.270822         1.000000   \n",
       "Sales After Discount -0.043269  0.304995 -0.154655         0.316606   \n",
       "Profit               -0.019037  0.104365 -0.316490        -0.316809   \n",
       "Shipping Cost        -0.039076  0.272649 -0.079055         0.329360   \n",
       "Order Year           -0.000921 -0.005049 -0.005894        -0.008131   \n",
       "\n",
       "                      Sales After Discount    Profit  Shipping Cost  \\\n",
       "Row ID                           -0.043269 -0.019037      -0.039076   \n",
       "Quantity                          0.304995  0.104365       0.272649   \n",
       "Discount                         -0.154655 -0.316490      -0.079055   \n",
       "Discount Amount                   0.316606 -0.316809       0.329360   \n",
       "Sales After Discount              1.000000  0.599170       0.764690   \n",
       "Profit                            0.599170  1.000000       0.354441   \n",
       "Shipping Cost                     0.764690  0.354441       1.000000   \n",
       "Order Year                       -0.001365  0.002626      -0.003137   \n",
       "\n",
       "                      Order Year  \n",
       "Row ID                 -0.000921  \n",
       "Quantity               -0.005049  \n",
       "Discount               -0.005894  \n",
       "Discount Amount        -0.008131  \n",
       "Sales After Discount   -0.001365  \n",
       "Profit                  0.002626  \n",
       "Shipping Cost          -0.003137  \n",
       "Order Year              1.000000  "
      ]
     },
     "execution_count": 78,
     "metadata": {},
     "output_type": "execute_result"
    }
   ],
   "source": [
    "df.corr()"
   ]
  },
  {
   "cell_type": "code",
   "execution_count": 79,
   "id": "b05303c8-b29a-4444-97a4-ab99dc8c9348",
   "metadata": {},
   "outputs": [
    {
     "data": {
      "text/plain": [
       "<Axes: >"
      ]
     },
     "execution_count": 79,
     "metadata": {},
     "output_type": "execute_result"
    },
    {
     "data": {
      "image/png": "[encoded data removed]",
      "text/plain": [
       "<Figure size 640x480 with 2 Axes>"
      ]
     },
     "metadata": {},
     "output_type": "display_data"
    }
   ],
   "source": [
    "import seaborn as sns\n",
    "sns.heatmap(df.corr())"
   ]
  },
  {
   "cell_type": "markdown",
   "id": "bae38bb4-4be7-44ed-91a3-dea2efa767c9",
   "metadata": {},
   "source": [
    "# DAY-2"
   ]
  },
  {
   "cell_type": "code",
   "execution_count": 1,
   "id": "5675bb79-223c-4d3a-9010-62a90fcc5440",
   "metadata": {},
   "outputs": [],
   "source": [
    "import pandas as pd\n",
    "import numpy as np\n",
    "import seaborn as sns"
   ]
  },
  {
   "cell_type": "code",
   "execution_count": 12,
   "id": "01c2a471-ab89-4a02-bf0d-c879a3cc2236",
   "metadata": {},
   "outputs": [
    {
     "data": {
      "text/plain": [
       "City\n",
       "Aachen                   3803.151\n",
       "Aalen                     979.695\n",
       "Aalst                     387.330\n",
       "Aba                      1064.124\n",
       "Abadan                   1354.950\n",
       "                           ...   \n",
       "Zwedru                     49.410\n",
       "Zwickau                    99.030\n",
       "Zwolle                    150.585\n",
       "eMbalenhle                 75.900\n",
       "Águas Lindas de Goiás     186.960\n",
       "Name: Sales, Length: 3636, dtype: float64"
      ]
     },
     "execution_count": 12,
     "metadata": {},
     "output_type": "execute_result"
    }
   ],
   "source": [
    "import pandas as pd\n",
    "\n",
    "\n",
    "# 1. Total sales for each city\n",
    "total_sales_by_city = sales_geomap_cust_prod_cal.groupby('City')['Sales'].sum()\n",
    "total_sales_by_city"
   ]
  },
  {
   "cell_type": "code",
   "execution_count": 15,
   "id": "79de3d51-7a52-4600-a3e3-a1a1c5f1aeef",
   "metadata": {},
   "outputs": [
    {
     "data": {
      "text/plain": [
       "Category\n",
       "Furniture          28.878567\n",
       "Office Supplies    16.578961\n",
       "Technology         65.454958\n",
       "Name: Profit, dtype: float64"
      ]
     },
     "execution_count": 15,
     "metadata": {},
     "output_type": "execute_result"
    }
   ],
   "source": [
    "# 3. Average profit margin for each product category\n",
    "average_profit_margin_by_category = sales_geomap_cust_prod_cal.groupby('Category')['Profit'].mean()\n",
    "average_profit_margin_by_category"
   ]
  },
  {
   "cell_type": "code",
   "execution_count": 16,
   "id": "aefa72cd-d555-4307-80c8-642bfb4de97d",
   "metadata": {},
   "outputs": [
    {
     "data": {
      "text/plain": [
       "Order Priority\n",
       "Critical    2.271256\n",
       "High        2.286338\n",
       "Low         2.214049\n",
       "Medium      2.280966\n",
       "Name: Quantity, dtype: float64"
      ]
     },
     "execution_count": 16,
     "metadata": {},
     "output_type": "execute_result"
    }
   ],
   "source": [
    "# 4. Variation of quantity of products sold by order priority\n",
    "variation_of_quantity_by_order_priority = sales_geomap_cust_prod_cal.groupby('Order Priority')['Quantity'].std()\n",
    "variation_of_quantity_by_order_priority"
   ]
  },
  {
   "cell_type": "code",
   "execution_count": 17,
   "id": "9cd7ca37-edce-4f60-88eb-f7f08a646dee",
   "metadata": {},
   "outputs": [
    {
     "data": {
      "text/plain": [
       "Market  Order Year\n",
       "APAC    2011          6.301148e+05\n",
       "        2012          7.315285e+05\n",
       "        2013          9.386540e+05\n",
       "        2014          1.167422e+06\n",
       "Africa  2011          1.358547e+05\n",
       "        2012          1.607370e+05\n",
       "        2013          2.429667e+05\n",
       "        2014          2.902649e+05\n",
       "Canada  2011          3.183579e+04\n",
       "        2012          4.561078e+04\n",
       "        2013          4.328315e+04\n",
       "        2014          6.543068e+04\n",
       "EMEA    2011          1.535443e+05\n",
       "        2012          1.757342e+05\n",
       "        2013          2.229053e+05\n",
       "        2014          3.120951e+05\n",
       "EU      2011          4.260668e+05\n",
       "        2012          6.156559e+05\n",
       "        2013          6.883614e+05\n",
       "        2014          9.788416e+05\n",
       "LATAM   2011          3.972281e+05\n",
       "        2012          4.509707e+05\n",
       "        2013          6.060995e+05\n",
       "        2014          7.108731e+05\n",
       "US      2011          4.848065e+05\n",
       "        2012          4.972017e+05\n",
       "        2013          6.634764e+05\n",
       "        2014          7.749389e+05\n",
       "Name: Sales, dtype: float64"
      ]
     },
     "execution_count": 17,
     "metadata": {},
     "output_type": "execute_result"
    }
   ],
   "source": [
    "# 5. Trend of sales over the years by market\n",
    "sales_trend_over_years_by_market = sales_geomap_cust_prod_cal.groupby(['Market', 'Order Year'])['Sales'].sum()\n",
    "sales_trend_over_years_by_market"
   ]
  },
  {
   "cell_type": "code",
   "execution_count": 18,
   "id": "1b2f123a-be04-4c49-ae04-2717ed3a9b99",
   "metadata": {},
   "outputs": [
    {
     "data": {
      "text/html": [
       "<div>\n",
       "<style scoped>\n",
       "    .dataframe tbody tr th:only-of-type {\n",
       "        vertical-align: middle;\n",
       "    }\n",
       "\n",
       "    .dataframe tbody tr th {\n",
       "        vertical-align: top;\n",
       "    }\n",
       "\n",
       "    .dataframe thead th {\n",
       "        text-align: right;\n",
       "    }\n",
       "</style>\n",
       "<table border=\"1\" class=\"dataframe\">\n",
       "  <thead>\n",
       "    <tr style=\"text-align: right;\">\n",
       "      <th></th>\n",
       "      <th>count</th>\n",
       "      <th>mean</th>\n",
       "      <th>std</th>\n",
       "      <th>min</th>\n",
       "      <th>25%</th>\n",
       "      <th>50%</th>\n",
       "      <th>75%</th>\n",
       "      <th>max</th>\n",
       "    </tr>\n",
       "    <tr>\n",
       "      <th>Category</th>\n",
       "      <th></th>\n",
       "      <th></th>\n",
       "      <th></th>\n",
       "      <th></th>\n",
       "      <th></th>\n",
       "      <th></th>\n",
       "      <th></th>\n",
       "      <th></th>\n",
       "    </tr>\n",
       "  </thead>\n",
       "  <tbody>\n",
       "    <tr>\n",
       "      <th>Furniture</th>\n",
       "      <td>9876.0</td>\n",
       "      <td>44.584799</td>\n",
       "      <td>72.560193</td>\n",
       "      <td>0.040</td>\n",
       "      <td>7.35</td>\n",
       "      <td>20.2255</td>\n",
       "      <td>50.87</td>\n",
       "      <td>923.63</td>\n",
       "    </tr>\n",
       "    <tr>\n",
       "      <th>Office Supplies</th>\n",
       "      <td>31273.0</td>\n",
       "      <td>12.964805</td>\n",
       "      <td>35.091165</td>\n",
       "      <td>0.002</td>\n",
       "      <td>1.69</td>\n",
       "      <td>4.2500</td>\n",
       "      <td>10.87</td>\n",
       "      <td>867.69</td>\n",
       "    </tr>\n",
       "    <tr>\n",
       "      <th>Technology</th>\n",
       "      <td>10141.0</td>\n",
       "      <td>49.999791</td>\n",
       "      <td>79.022261</td>\n",
       "      <td>0.040</td>\n",
       "      <td>9.56</td>\n",
       "      <td>23.4000</td>\n",
       "      <td>55.34</td>\n",
       "      <td>933.57</td>\n",
       "    </tr>\n",
       "  </tbody>\n",
       "</table>\n",
       "</div>"
      ],
      "text/plain": [
       "                   count       mean        std    min   25%      50%    75%  \\\n",
       "Category                                                                      \n",
       "Furniture         9876.0  44.584799  72.560193  0.040  7.35  20.2255  50.87   \n",
       "Office Supplies  31273.0  12.964805  35.091165  0.002  1.69   4.2500  10.87   \n",
       "Technology       10141.0  49.999791  79.022261  0.040  9.56  23.4000  55.34   \n",
       "\n",
       "                    max  \n",
       "Category                 \n",
       "Furniture        923.63  \n",
       "Office Supplies  867.69  \n",
       "Technology       933.57  "
      ]
     },
     "execution_count": 18,
     "metadata": {},
     "output_type": "execute_result"
    }
   ],
   "source": [
    "# 7. Distribution of shipping costs by product category\n",
    "shipping_cost_distribution_by_category = sales_geomap_cust_prod_cal.groupby('Category')['Shipping Cost'].describe()\n",
    "shipping_cost_distribution_by_category"
   ]
  },
  {
   "cell_type": "code",
   "execution_count": 19,
   "id": "c4d4848a-30b1-43f7-823a-bb763f743217",
   "metadata": {},
   "outputs": [
    {
     "data": {
      "text/plain": [
       "Order Month\n",
       "12    1.580781e+06\n",
       "11    1.551277e+06\n",
       "9     1.437380e+06\n",
       "8     1.293833e+06\n",
       "6     1.269717e+06\n",
       "Name: Sales, dtype: float64"
      ]
     },
     "execution_count": 19,
     "metadata": {},
     "output_type": "execute_result"
    }
   ],
   "source": [
    "# 9. Seasonal patterns in sales (highest sales months)\n",
    "seasonal_sales_pattern = sales_geomap_cust_prod_cal.groupby('Order Month')['Sales'].sum().sort_values(ascending=False).head()\n",
    "seasonal_sales_pattern"
   ]
  },
  {
   "cell_type": "code",
   "execution_count": 20,
   "id": "0efc84bb-2561-4d7f-9d6b-ef303cf7e5e6",
   "metadata": {},
   "outputs": [
    {
     "data": {
      "text/plain": [
       "0.3166057612013337"
      ]
     },
     "execution_count": 20,
     "metadata": {},
     "output_type": "execute_result"
    }
   ],
   "source": [
    "# 10. Correlation between discount amount and sales after discount\n",
    "correlation_discount_sales = sales_geomap_cust_prod_cal[['Discount Amount', 'Sales After Discount']].corr().iloc[0,1]\n",
    "correlation_discount_sales"
   ]
  },
  {
   "cell_type": "code",
   "execution_count": null,
   "id": "f90d93ee-9293-4390-bac2-f21ccce621cb",
   "metadata": {},
   "outputs": [],
   "source": []
  }
 ],
 "metadata": {
  "kernelspec": {
   "display_name": "Python 3 (ipykernel)",
   "language": "python",
   "name": "python3"
  },
  "language_info": {
   "codemirror_mode": {
    "name": "ipython",
    "version": 3
   },
   "file_extension": ".py",
   "mimetype": "text/x-python",
   "name": "python",
   "nbconvert_exporter": "python",
   "pygments_lexer": "ipython3",
   "version": "3.11.7"
  }
 },
 "nbformat": 4,
 "nbformat_minor": 5
}
