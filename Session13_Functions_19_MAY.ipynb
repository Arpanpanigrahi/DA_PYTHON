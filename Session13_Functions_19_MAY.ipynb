{
 "cells": [
  {
   "cell_type": "code",
   "execution_count": 4,
   "id": "7ada0c2e",
   "metadata": {},
   "outputs": [
    {
     "name": "stdout",
     "output_type": "stream",
     "text": [
      "the number is even\n"
     ]
    }
   ],
   "source": [
    "num=32\n",
    "\n",
    "if num%2 != 0:\n",
    "    print(\"The number is odd\")\n",
    "else:\n",
    "    print(\"the number is even\")\n",
    "\n",
    "    \n",
    "\n"
   ]
  },
  {
   "cell_type": "code",
   "execution_count": 5,
   "id": "6dc6295c",
   "metadata": {},
   "outputs": [],
   "source": [
    "def even_odd(num):\n",
    "    if num%2== 0:\n",
    "        print(\"The number is even\")\n",
    "    else:\n",
    "        print(\"the number is odd\")"
   ]
  },
  {
   "cell_type": "code",
   "execution_count": 6,
   "id": "5633b881",
   "metadata": {},
   "outputs": [
    {
     "name": "stdout",
     "output_type": "stream",
     "text": [
      "The number is even\n"
     ]
    }
   ],
   "source": [
    "even_odd(56)"
   ]
  },
  {
   "cell_type": "code",
   "execution_count": 7,
   "id": "f7ff7f1e",
   "metadata": {
    "scrolled": true
   },
   "outputs": [
    {
     "name": "stdout",
     "output_type": "stream",
     "text": [
      "the number is odd\n"
     ]
    }
   ],
   "source": [
    "even_odd(45)"
   ]
  },
  {
   "cell_type": "code",
   "execution_count": 26,
   "id": "bb74adff",
   "metadata": {},
   "outputs": [],
   "source": [
    " # difference between print & return\n",
    "def hellow_world():\n",
    "    print(\"my name is satyam\")"
   ]
  },
  {
   "cell_type": "code",
   "execution_count": 27,
   "id": "af5cf4a3",
   "metadata": {},
   "outputs": [
    {
     "name": "stdout",
     "output_type": "stream",
     "text": [
      "my name is satyam\n"
     ]
    }
   ],
   "source": [
    "hellow_world()"
   ]
  },
  {
   "cell_type": "code",
   "execution_count": 28,
   "id": "af11e86d",
   "metadata": {},
   "outputs": [
    {
     "name": "stdout",
     "output_type": "stream",
     "text": [
      "my name is satyam\n"
     ]
    }
   ],
   "source": [
    "x=hellow_world()"
   ]
  },
  {
   "cell_type": "code",
   "execution_count": 30,
   "id": "ee778fa0",
   "metadata": {},
   "outputs": [],
   "source": [
    "x"
   ]
  },
  {
   "cell_type": "code",
   "execution_count": 32,
   "id": "0722bded",
   "metadata": {},
   "outputs": [],
   "source": [
    "def hellow_world():\n",
    "    return \"my name is satyam\""
   ]
  },
  {
   "cell_type": "code",
   "execution_count": 33,
   "id": "af09e0a6",
   "metadata": {},
   "outputs": [],
   "source": [
    "x=hellow_world()"
   ]
  },
  {
   "cell_type": "code",
   "execution_count": 34,
   "id": "8689a140",
   "metadata": {},
   "outputs": [
    {
     "data": {
      "text/plain": [
       "'my name is satyam'"
      ]
     },
     "execution_count": 34,
     "metadata": {},
     "output_type": "execute_result"
    }
   ],
   "source": [
    "x"
   ]
  },
  {
   "cell_type": "code",
   "execution_count": 36,
   "id": "f1413fdd",
   "metadata": {},
   "outputs": [],
   "source": [
    "def add_num(num1,num2):\n",
    "    return num1+num2"
   ]
  },
  {
   "cell_type": "code",
   "execution_count": 37,
   "id": "4f35c6ac",
   "metadata": {},
   "outputs": [
    {
     "data": {
      "text/plain": [
       "30"
      ]
     },
     "execution_count": 37,
     "metadata": {},
     "output_type": "execute_result"
    }
   ],
   "source": [
    "add_num(10,20)"
   ]
  },
  {
   "cell_type": "code",
   "execution_count": 40,
   "id": "55ea3077",
   "metadata": {},
   "outputs": [
    {
     "data": {
      "text/plain": [
       "70"
      ]
     },
     "execution_count": 40,
     "metadata": {},
     "output_type": "execute_result"
    }
   ],
   "source": [
    "x=add_num(40,30)\n",
    "x"
   ]
  },
  {
   "cell_type": "code",
   "execution_count": 44,
   "id": "0b716649",
   "metadata": {},
   "outputs": [],
   "source": [
    "def add_num(num1,num2):\n",
    "    print(num1+num2)"
   ]
  },
  {
   "cell_type": "code",
   "execution_count": 45,
   "id": "d854970c",
   "metadata": {},
   "outputs": [
    {
     "name": "stdout",
     "output_type": "stream",
     "text": [
      "30\n"
     ]
    }
   ],
   "source": [
    "add_num(10,20)"
   ]
  },
  {
   "cell_type": "code",
   "execution_count": 48,
   "id": "99a5c5a5",
   "metadata": {},
   "outputs": [
    {
     "name": "stdout",
     "output_type": "stream",
     "text": [
      "30\n"
     ]
    }
   ],
   "source": [
    "x=add_num(10,20)\n"
   ]
  },
  {
   "cell_type": "code",
   "execution_count": 49,
   "id": "c71b65b5",
   "metadata": {},
   "outputs": [],
   "source": [
    "x"
   ]
  },
  {
   "cell_type": "code",
   "execution_count": 86,
   "id": "b45a4c7c",
   "metadata": {},
   "outputs": [],
   "source": [
    "######\n",
    "def abc(name,age=29):\n",
    "    print(\"my name is {} and my age is {}\".format(name,age))"
   ]
  },
  {
   "cell_type": "code",
   "execution_count": 87,
   "id": "59456fee",
   "metadata": {
    "scrolled": true
   },
   "outputs": [
    {
     "name": "stdout",
     "output_type": "stream",
     "text": [
      "my name is satyam and my age is 29\n"
     ]
    }
   ],
   "source": [
    "abc('satyam')"
   ]
  },
  {
   "cell_type": "code",
   "execution_count": 88,
   "id": "b1795d53",
   "metadata": {},
   "outputs": [],
   "source": [
    "def hellow(*args,**kwargs):\n",
    "    print(args)\n",
    "    print(kwargs)"
   ]
  },
  {
   "cell_type": "code",
   "execution_count": 89,
   "id": "965050b1",
   "metadata": {
    "scrolled": true
   },
   "outputs": [
    {
     "name": "stdout",
     "output_type": "stream",
     "text": [
      "('akash', 'bhuyan')\n",
      "{'age': 29, 'dob': 1990}\n"
     ]
    }
   ],
   "source": [
    "hellow(\"akash\",\"bhuyan\",age=29,dob=1990)"
   ]
  },
  {
   "cell_type": "code",
   "execution_count": 92,
   "id": "963288c9",
   "metadata": {},
   "outputs": [],
   "source": [
    "lst=[\"akash\",\"bhuyan\"]\n",
    "dict_arg={'age':29,'dob':1990}"
   ]
  },
  {
   "cell_type": "code",
   "execution_count": 94,
   "id": "ef5d5ebc",
   "metadata": {},
   "outputs": [
    {
     "name": "stdout",
     "output_type": "stream",
     "text": [
      "('akash', 'bhuyan')\n",
      "{'age': 29, 'dob': 1990}\n"
     ]
    }
   ],
   "source": [
    "hellow(*lst,**dict_arg)"
   ]
  },
  {
   "cell_type": "code",
   "execution_count": 112,
   "id": "ab789f89",
   "metadata": {},
   "outputs": [],
   "source": [
    "# lst1=[1,2,3,4,5,6,7]\n",
    "lst2=[1,3,8,5,6,7,10]\n",
    "\n",
    "def even_odd_sum(abc):\n",
    "    even_sum=0\n",
    "    odd_sum=0\n",
    "\n",
    "    for n in lst2:\n",
    "        if n%2==0:\n",
    "            even_sum=even_sum+n\n",
    "        else:\n",
    "            odd_sum=odd_sum+n\n",
    "    return(even_sum,odd_sum)\n",
    "    "
   ]
  },
  {
   "cell_type": "code",
   "execution_count": 113,
   "id": "d652ad39",
   "metadata": {},
   "outputs": [
    {
     "data": {
      "text/plain": [
       "(24, 16)"
      ]
     },
     "execution_count": 113,
     "metadata": {},
     "output_type": "execute_result"
    }
   ],
   "source": [
    "even_odd_sum(lst2)"
   ]
  },
  {
   "cell_type": "code",
   "execution_count": 114,
   "id": "8a6bdf6b",
   "metadata": {},
   "outputs": [],
   "source": [
    "even_sum=0+8+6+10\n",
    "odd_sum=0+1+3+5+7"
   ]
  },
  {
   "cell_type": "code",
   "execution_count": 116,
   "id": "5ff73d93",
   "metadata": {},
   "outputs": [
    {
     "data": {
      "text/plain": [
       "16"
      ]
     },
     "execution_count": 116,
     "metadata": {},
     "output_type": "execute_result"
    }
   ],
   "source": [
    "odd_sum\n"
   ]
  },
  {
   "cell_type": "code",
   "execution_count": null,
   "id": "bf4028e5",
   "metadata": {},
   "outputs": [],
   "source": [
    "abc=df['age'].tolist()\n",
    "def abc(n):\n",
    "    for i in abc:\n",
    "        if i is null:\n",
    "            return 20 \n",
    "        else:\n",
    "            return i\n",
    "    "
   ]
  },
  {
   "cell_type": "code",
   "execution_count": null,
   "id": "129630d1",
   "metadata": {},
   "outputs": [],
   "source": [
    "# def replace_age_less_than_20(df, column_name):\n",
    "    df[column_name] = df[column_name].apply(lambda x: 20 if x < 20 else x)\n",
    "#     return df\n",
    "\n"
   ]
  },
  {
   "cell_type": "code",
   "execution_count": null,
   "id": "62da59dd",
   "metadata": {},
   "outputs": [],
   "source": [
    "def age_less_20(abc):\n",
    "    for i in df['age']:\n",
    "        if i<20:\n",
    "            return 20\n",
    "        else:\n",
    "            return i\n",
    "        \n",
    "df['age'] = df['age'].apply(age_less_20())\n",
    "df[sales] = df['sales'].apply(age_less_20())\n",
    "\n"
   ]
  },
  {
   "cell_type": "code",
   "execution_count": 117,
   "id": "f4e834da",
   "metadata": {},
   "outputs": [],
   "source": [
    "def even_odd(n):\n",
    "    if n%2==0:\n",
    "        return \"even\"\n",
    "    else:\n",
    "        return \"odd\""
   ]
  },
  {
   "cell_type": "code",
   "execution_count": 120,
   "id": "1012c7f7",
   "metadata": {},
   "outputs": [
    {
     "data": {
      "text/plain": [
       "'odd'"
      ]
     },
     "execution_count": 120,
     "metadata": {},
     "output_type": "execute_result"
    }
   ],
   "source": [
    "even_odd(13)"
   ]
  }
 ],
 "metadata": {
  "kernelspec": {
   "display_name": "Python 3 (ipykernel)",
   "language": "python",
   "name": "python3"
  },
  "language_info": {
   "codemirror_mode": {
    "name": "ipython",
    "version": 3
   },
   "file_extension": ".py",
   "mimetype": "text/x-python",
   "name": "python",
   "nbconvert_exporter": "python",
   "pygments_lexer": "ipython3",
   "version": "3.11.7"
  }
 },
 "nbformat": 4,
 "nbformat_minor": 5
}
