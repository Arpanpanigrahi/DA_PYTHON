{
 "cells": [
  {
   "cell_type": "markdown",
   "id": "813589c7-9dfc-45da-9462-01db6befb2ad",
   "metadata": {},
   "source": [
    "# NUMPY \n",
    "contains multidimensional array and matrix data structures."
   ]
  },
  {
   "cell_type": "markdown",
   "id": "a067e27f-1710-423c-84cd-0f661c4c8a22",
   "metadata": {},
   "source": [
    "# Array Vs List\n",
    "1. In Arrays each no. is multiply whereas in List it will create that many times.\n",
    "2. In Arrays we have to use similar datatypes whereas in List we can use different datatypes."
   ]
  },
  {
   "cell_type": "markdown",
   "id": "538764a7-ef5d-4f3b-8bbb-5ad877040004",
   "metadata": {},
   "source": [
    "# import numpy library"
   ]
  },
  {
   "cell_type": "code",
   "execution_count": 1,
   "id": "362fce55-10cf-47ec-9b14-d4e79bd4a603",
   "metadata": {},
   "outputs": [],
   "source": [
    "import numpy as np"
   ]
  },
  {
   "cell_type": "markdown",
   "id": "f8d6bcd8-367a-438f-9b31-da48342d546f",
   "metadata": {},
   "source": [
    "# To print array"
   ]
  },
  {
   "cell_type": "code",
   "execution_count": 8,
   "id": "71e25048-cea8-4286-bc40-bdaf74c0944c",
   "metadata": {},
   "outputs": [
    {
     "name": "stdout",
     "output_type": "stream",
     "text": [
      "[1 2 3 4 5]\n",
      "<class 'numpy.ndarray'>\n"
     ]
    }
   ],
   "source": [
    "#List\n",
    "arr = np.array([1,2,3,4,5])\n",
    "print(arr)\n",
    "print(type(arr))"
   ]
  },
  {
   "cell_type": "code",
   "execution_count": 9,
   "id": "45e38d63-8d77-43d9-9c63-4d463b58d76c",
   "metadata": {},
   "outputs": [
    {
     "name": "stdout",
     "output_type": "stream",
     "text": [
      "[1 2 3 4 5]\n",
      "<class 'numpy.ndarray'>\n"
     ]
    }
   ],
   "source": [
    "#Tuples\n",
    "arr = np.array((1,2,3,4,5))\n",
    "print(arr)\n",
    "print(type(arr))"
   ]
  },
  {
   "cell_type": "markdown",
   "id": "3d86bad4-65c3-42a1-b32d-6bef72929c77",
   "metadata": {},
   "source": [
    "# Dimensions in array"
   ]
  },
  {
   "cell_type": "markdown",
   "id": "2333bc47-05c3-4618-87ac-f4cf953f4689",
   "metadata": {},
   "source": [
    "# 0-D Array"
   ]
  },
  {
   "cell_type": "code",
   "execution_count": 12,
   "id": "ae9aea23-e270-4d76-9d50-c18ed25de9a8",
   "metadata": {},
   "outputs": [
    {
     "name": "stdout",
     "output_type": "stream",
     "text": [
      "20\n",
      "<class 'numpy.ndarray'>\n",
      "0\n"
     ]
    }
   ],
   "source": [
    "arr = np.array(20)\n",
    "print(arr)\n",
    "print(type(arr))\n",
    "print(arr.ndim) # To know dimension of an array"
   ]
  },
  {
   "cell_type": "markdown",
   "id": "fee2b75b-a78f-42c6-a275-e543ce6aeb9a",
   "metadata": {},
   "source": [
    "# 1-D Array"
   ]
  },
  {
   "cell_type": "code",
   "execution_count": 13,
   "id": "e9117afa-67b3-469f-a6bc-fb611e8c29e3",
   "metadata": {},
   "outputs": [
    {
     "name": "stdout",
     "output_type": "stream",
     "text": [
      "[1 2 3 4 5 6]\n",
      "1\n"
     ]
    }
   ],
   "source": [
    "# 1-D array\n",
    "arr = np.array([1,2,3,4,5,6])\n",
    "print(arr)\n",
    "print(arr.ndim)"
   ]
  },
  {
   "cell_type": "markdown",
   "id": "c32e052c-e64f-4fc6-ba2c-0a6c689c52e9",
   "metadata": {},
   "source": [
    "# 2-D Array"
   ]
  },
  {
   "cell_type": "code",
   "execution_count": 15,
   "id": "0686822f-ab38-482a-aac7-62e4a011de10",
   "metadata": {},
   "outputs": [
    {
     "name": "stdout",
     "output_type": "stream",
     "text": [
      "[[1 2 3]\n",
      " [4 5 6]]\n",
      "2\n"
     ]
    }
   ],
   "source": [
    "# 2-D array\n",
    "arr = np.array([[1,2,3],[4,5,6]])\n",
    "print(arr)\n",
    "print(arr.ndim)"
   ]
  },
  {
   "cell_type": "markdown",
   "id": "3bb6eea9-c2df-40f8-b793-f55bd5394baf",
   "metadata": {},
   "source": [
    "# 3-D Array"
   ]
  },
  {
   "cell_type": "code",
   "execution_count": 18,
   "id": "c92706d6-2443-47e7-ae07-b7dc3e8f0a29",
   "metadata": {},
   "outputs": [
    {
     "name": "stdout",
     "output_type": "stream",
     "text": [
      "[[[1 2 3]\n",
      "  [4 5 6]\n",
      "  [7 8 9]]]\n",
      "3\n"
     ]
    }
   ],
   "source": [
    "# 3-D array\n",
    "arr = np.array([[[1,2,3],[4,5,6],[7,8,9]]])\n",
    "print(arr)\n",
    "print(arr.ndim)"
   ]
  },
  {
   "cell_type": "code",
   "execution_count": 3,
   "id": "2e2bf5b8-667b-4be9-88aa-7c624f8b0960",
   "metadata": {},
   "outputs": [
    {
     "name": "stdout",
     "output_type": "stream",
     "text": [
      "[[[1 2 3]\n",
      "  [4 5 6]]\n",
      "\n",
      " [[1 2 3]\n",
      "  [4 5 6]]]\n"
     ]
    }
   ],
   "source": [
    "arr = np.array([[[1,2,3],[4,5,6]],[[1,2,3],[4,5,6]]])\n",
    "print(arr)"
   ]
  },
  {
   "cell_type": "markdown",
   "id": "956c7cf6-bb4c-410e-886f-c171b2d200cc",
   "metadata": {},
   "source": [
    "# Check Number of Dimensions"
   ]
  },
  {
   "cell_type": "code",
   "execution_count": 4,
   "id": "3b81b37e-343f-40bb-ad56-6231db1d06b8",
   "metadata": {},
   "outputs": [
    {
     "name": "stdout",
     "output_type": "stream",
     "text": [
      "0\n",
      "1\n",
      "2\n",
      "3\n"
     ]
    }
   ],
   "source": [
    "a = np.array(42)\n",
    "b = np.array([1,2,3,4,5])\n",
    "c = np.array([[1,2,3],[4,5,6]])\n",
    "d = np.array([[[1,2,3],[4,5,6],[6,7,8]]])\n",
    "\n",
    "print(a.ndim)\n",
    "print(b.ndim)\n",
    "print(c.ndim)\n",
    "print(d.ndim)"
   ]
  },
  {
   "cell_type": "markdown",
   "id": "3053ac4a-1dd2-406a-ba82-7e4b50131abe",
   "metadata": {},
   "source": [
    "# Higher Dimenssional Arrays\n",
    "An array can have any number of dimensions.\n",
    "When the array is created, you can define the number of dimensions by using the ndim argument."
   ]
  },
  {
   "cell_type": "markdown",
   "id": "66d1955b-1f90-4ad8-91a5-441841ddcf6e",
   "metadata": {},
   "source": [
    "# Create an array with 5 dimensions and verify that it has dimensions:"
   ]
  },
  {
   "cell_type": "code",
   "execution_count": 7,
   "id": "e350b2dc-dc36-47c3-83e7-5d40c42cd9f0",
   "metadata": {},
   "outputs": [
    {
     "name": "stdout",
     "output_type": "stream",
     "text": [
      "[[[[[1 2 3 4]]]]]\n",
      "Number of dimensions : 5\n"
     ]
    }
   ],
   "source": [
    "arr = np.array([1,2,3,4], ndmin = 5)\n",
    "\n",
    "print(arr)\n",
    "print('Number of dimensions :', arr.ndim)"
   ]
  },
  {
   "cell_type": "code",
   "execution_count": 8,
   "id": "09b348a9-6731-4bab-8a60-a98b2ecc0029",
   "metadata": {},
   "outputs": [
    {
     "name": "stdout",
     "output_type": "stream",
     "text": [
      "[[[[[1 2 3 4 5 6]]]]]\n",
      "5\n"
     ]
    }
   ],
   "source": [
    "a = np.array([[[[[1,2,3,4,5,6]]]]])\n",
    "print(a)\n",
    "print(a.ndim)"
   ]
  },
  {
   "cell_type": "markdown",
   "id": "3d5163ac-1c28-4fb3-b84b-ce01416ba12c",
   "metadata": {},
   "source": [
    "# NumPy Array Indexing\n",
    "1. Array Indexing is same as accessing an array element.\n",
    "2. You can access an array element by reffereing to its index number.\n",
    "3. The indexes in NumPy array starts with 0, meaning that the first element has index 0, and the second has index 1 etc."
   ]
  },
  {
   "cell_type": "markdown",
   "id": "92ce54d0-daf4-4e45-9e21-24ad91e098ef",
   "metadata": {},
   "source": [
    "# Get the first element from the following array:"
   ]
  },
  {
   "cell_type": "code",
   "execution_count": 10,
   "id": "f4e0d26e-b4c1-48cf-a5af-b750d098efd1",
   "metadata": {},
   "outputs": [
    {
     "name": "stdout",
     "output_type": "stream",
     "text": [
      "1\n"
     ]
    }
   ],
   "source": [
    "arr = np.array([1,2,3,4])\n",
    "print(arr[0])"
   ]
  },
  {
   "cell_type": "markdown",
   "id": "5226b869-5b5c-4640-90cf-5b27985c371e",
   "metadata": {},
   "source": [
    "# Get third and sixth and eighth. elements from the following array and add them."
   ]
  },
  {
   "cell_type": "code",
   "execution_count": 12,
   "id": "05688279-3c47-4e46-9692-9b6588d8047a",
   "metadata": {},
   "outputs": [
    {
     "name": "stdout",
     "output_type": "stream",
     "text": [
      "The third element is:  34.0\n",
      "The sixth element is:  90.0\n",
      "The eighth element is:  10.0\n",
      "The Sum of elements are:  134.0\n"
     ]
    }
   ],
   "source": [
    "m = np.array([41,87,34,56.8,39.23,90,15,10,19,56])\n",
    "print(\"The third element is: \", m[2])\n",
    "print(\"The sixth element is: \", m[5])\n",
    "print(\"The eighth element is: \", m[7])\n",
    "print(\"The Sum of elements are: \", m[2]+m[5]+m[7])"
   ]
  },
  {
   "cell_type": "markdown",
   "id": "1db64993-a357-4603-97c2-98a4242bfbad",
   "metadata": {},
   "source": [
    "# Slicing of numpy arrays"
   ]
  },
  {
   "cell_type": "code",
   "execution_count": 13,
   "id": "416e2db6-d932-49c0-a7eb-6da2398bb819",
   "metadata": {},
   "outputs": [
    {
     "name": "stdout",
     "output_type": "stream",
     "text": [
      "[2 3 4 5]\n"
     ]
    }
   ],
   "source": [
    "arr = np.array([1,2,3,4,5,6,7])\n",
    "print(arr[1:5])"
   ]
  },
  {
   "cell_type": "code",
   "execution_count": 18,
   "id": "3472caf6-835a-41ce-998f-a6f1a365f261",
   "metadata": {},
   "outputs": [
    {
     "name": "stdout",
     "output_type": "stream",
     "text": [
      "[1 3 5 7]\n"
     ]
    }
   ],
   "source": [
    "arr = np.array([1,2,3,4,5,6,7])\n",
    "print(arr[::2])\n",
    "#print(arr[0:7:2])"
   ]
  },
  {
   "cell_type": "markdown",
   "id": "cca94384-6b30-41e0-8e4f-f390a30ee44a",
   "metadata": {},
   "source": [
    "# Slicing in 2-D array"
   ]
  },
  {
   "cell_type": "code",
   "execution_count": 19,
   "id": "d56088b6-028c-4eef-8116-10f6fe2ecdb2",
   "metadata": {},
   "outputs": [
    {
     "name": "stdout",
     "output_type": "stream",
     "text": [
      "[70 80 90]\n"
     ]
    }
   ],
   "source": [
    "a = np.array([[10,20,30,40,50],[60,70,80,90,100]])\n",
    "print(a[1,1:4])"
   ]
  },
  {
   "cell_type": "code",
   "execution_count": 20,
   "id": "a51c2609-592a-4c04-bd61-dccec21ba265",
   "metadata": {},
   "outputs": [
    {
     "name": "stdout",
     "output_type": "stream",
     "text": [
      "[10 20 30]\n"
     ]
    }
   ],
   "source": [
    "a = np.array([[10,20,30,40,50],[60,70,80,90,100]])\n",
    "print(a[0,0:3])"
   ]
  },
  {
   "cell_type": "markdown",
   "id": "c12fd799-f98d-431e-baba-1c8a59bccbe0",
   "metadata": {},
   "source": [
    "# Checking the datatype of an array"
   ]
  },
  {
   "cell_type": "code",
   "execution_count": 21,
   "id": "8eec2440-0564-4b3c-99c8-634bdb1232e3",
   "metadata": {},
   "outputs": [
    {
     "name": "stdout",
     "output_type": "stream",
     "text": [
      "int32\n"
     ]
    }
   ],
   "source": [
    "arr = np.array([1,2,3,4])\n",
    "print(arr.dtype)"
   ]
  },
  {
   "cell_type": "code",
   "execution_count": 22,
   "id": "dda753c4-207c-41e9-8f5e-3290f7506679",
   "metadata": {},
   "outputs": [
    {
     "name": "stdout",
     "output_type": "stream",
     "text": [
      "<U7\n"
     ]
    }
   ],
   "source": [
    "arr = np.array(['animals','bat','cat'])\n",
    "print(arr.dtype)"
   ]
  },
  {
   "cell_type": "markdown",
   "id": "ade2fc00-8c63-4b81-878b-a0bae4093ad4",
   "metadata": {},
   "source": [
    "# Creating arrays with a defined data type"
   ]
  },
  {
   "cell_type": "code",
   "execution_count": 24,
   "id": "e6532643-60c5-43ce-97f4-d90075014eab",
   "metadata": {},
   "outputs": [
    {
     "name": "stdout",
     "output_type": "stream",
     "text": [
      "[b'1' b'2' b'3' b'4']\n",
      "|S1\n"
     ]
    }
   ],
   "source": [
    "arr = np.array([1,2,3,4], dtype = 'S')\n",
    "print(arr)\n",
    "print(arr.dtype)"
   ]
  },
  {
   "cell_type": "markdown",
   "id": "f25914d2-073f-48ce-85c4-2d7cc635708a",
   "metadata": {},
   "source": [
    "# Create an array with data types 4 bytes integer"
   ]
  },
  {
   "cell_type": "code",
   "execution_count": 26,
   "id": "e9dcbdc8-e048-4c8c-b3d9-60f6a971497b",
   "metadata": {},
   "outputs": [
    {
     "name": "stdout",
     "output_type": "stream",
     "text": [
      "[1 2 3 4]\n",
      "int32\n"
     ]
    }
   ],
   "source": [
    "arr = np.array([1,2,3,4], dtype = 'i4')\n",
    "print(arr)\n",
    "print(arr.dtype)"
   ]
  },
  {
   "cell_type": "markdown",
   "id": "b9bf5397-bf43-423f-9adc-d97a280246dc",
   "metadata": {},
   "source": [
    "# Numpy array Shape\n",
    "The shape of an array is the number of elements in each dimension."
   ]
  },
  {
   "cell_type": "markdown",
   "id": "6e642db1-ce58-4666-8fe8-1182c75c3b2f",
   "metadata": {},
   "source": [
    "# Print the shape of a 2-D array"
   ]
  },
  {
   "cell_type": "code",
   "execution_count": 28,
   "id": "ee89276a-9c1a-443b-9e68-c49f7c8bb911",
   "metadata": {},
   "outputs": [
    {
     "name": "stdout",
     "output_type": "stream",
     "text": [
      "(2, 4)\n"
     ]
    }
   ],
   "source": [
    "arr = np.array([[1,2,3,4],[5,6,7,8]])\n",
    "print(arr.shape)"
   ]
  },
  {
   "cell_type": "code",
   "execution_count": 32,
   "id": "448cad9d-5e8b-466a-998c-5b6dc7f1c386",
   "metadata": {},
   "outputs": [
    {
     "name": "stdout",
     "output_type": "stream",
     "text": [
      "(1, 3, 4)\n"
     ]
    }
   ],
   "source": [
    "arr = np.array([[[1,2,3,4],[5,6,7,8],[9,10,11,12]]])\n",
    "print(arr.shape)"
   ]
  },
  {
   "cell_type": "markdown",
   "id": "b71446e9-495a-44d4-b771-8402fd05b306",
   "metadata": {},
   "source": [
    "# Joining Numpy Arrays"
   ]
  },
  {
   "cell_type": "code",
   "execution_count": 34,
   "id": "bd1cc6f7-0fd9-4164-b1e0-cbbcf9bed901",
   "metadata": {},
   "outputs": [
    {
     "name": "stdout",
     "output_type": "stream",
     "text": [
      "[1 2 3 4 5 6]\n"
     ]
    }
   ],
   "source": [
    "arr1 = np.array([1,2,3])\n",
    "arr2 = np.array([4,5,6])\n",
    "\n",
    "arr = np.concatenate((arr1,arr2))\n",
    "print(arr)"
   ]
  },
  {
   "cell_type": "markdown",
   "id": "0ca990ea-be44-4d7b-af0f-2d2bca40d4ec",
   "metadata": {},
   "source": [
    "# Join 2-D Arrays\n"
   ]
  },
  {
   "cell_type": "markdown",
   "id": "6c28da64-e44c-4631-801d-b0c6fa58060d",
   "metadata": {},
   "source": [
    "# Row Axis"
   ]
  },
  {
   "cell_type": "code",
   "execution_count": 38,
   "id": "54977339-3518-4a37-8f38-ba82b6b910dc",
   "metadata": {},
   "outputs": [
    {
     "name": "stdout",
     "output_type": "stream",
     "text": [
      "[[1 2 5 6]\n",
      " [3 4 7 8]]\n"
     ]
    }
   ],
   "source": [
    "arr1 = np.array([[1,2],[3,4]])\n",
    "arr2 = np.array([[5,6],[7,8]])\n",
    "\n",
    "arr = np.concatenate((arr1, arr2), axis=1)\n",
    "print(arr)"
   ]
  },
  {
   "cell_type": "markdown",
   "id": "c39ff7c4-a687-439d-8410-5cedf01ec792",
   "metadata": {},
   "source": [
    "# Column Axis"
   ]
  },
  {
   "cell_type": "code",
   "execution_count": 39,
   "id": "32394d66-e604-4117-a9fe-39ae40496b48",
   "metadata": {},
   "outputs": [
    {
     "name": "stdout",
     "output_type": "stream",
     "text": [
      "[[1 2]\n",
      " [3 4]\n",
      " [5 6]\n",
      " [7 8]]\n"
     ]
    }
   ],
   "source": [
    "\n",
    "arr1 = np.array([[1,2],[3,4]])\n",
    "arr2 = np.array([[5,6],[7,8]])\n",
    "\n",
    "arr = np.concatenate((arr1, arr2), axis=0)\n",
    "print(arr)"
   ]
  },
  {
   "cell_type": "markdown",
   "id": "f832988c-1170-4b86-b922-b6776e1674c4",
   "metadata": {},
   "source": [
    "# Splitting Numpy Arrays"
   ]
  },
  {
   "cell_type": "markdown",
   "id": "c8f774ef-169b-487e-88c1-c355b929b230",
   "metadata": {},
   "source": [
    "# Splitting the array in 3 parts"
   ]
  },
  {
   "cell_type": "code",
   "execution_count": 40,
   "id": "6ef1117d-80e5-41e3-adb4-a474d8c36a77",
   "metadata": {},
   "outputs": [
    {
     "name": "stdout",
     "output_type": "stream",
     "text": [
      "[array([1, 2]), array([3, 4]), array([5, 6])]\n"
     ]
    }
   ],
   "source": [
    "arr = np.array([1,2,3,4,5,6])\n",
    "newarr = np.array_split(arr,3)\n",
    "print(newarr)"
   ]
  },
  {
   "cell_type": "markdown",
   "id": "e1365e88-f69b-44db-ad44-70b1d8349fbf",
   "metadata": {},
   "source": [
    "# Splitting the array in 4 parts"
   ]
  },
  {
   "cell_type": "code",
   "execution_count": 41,
   "id": "c9ab83a8-190f-4ece-91aa-f0580849bc83",
   "metadata": {},
   "outputs": [
    {
     "name": "stdout",
     "output_type": "stream",
     "text": [
      "[array([1, 2]), array([3, 4]), array([5]), array([6])]\n"
     ]
    }
   ],
   "source": [
    "arr = np.array([1,2,3,4,5,6])\n",
    "newarr = np.array_split(arr,4)\n",
    "print(newarr)"
   ]
  },
  {
   "cell_type": "markdown",
   "id": "311588e5-7db5-4093-af24-84f29fbfdd36",
   "metadata": {},
   "source": [
    "# Unique Function"
   ]
  },
  {
   "cell_type": "code",
   "execution_count": 42,
   "id": "c06fff24-0365-4e10-aa97-564d343ed696",
   "metadata": {},
   "outputs": [
    {
     "name": "stdout",
     "output_type": "stream",
     "text": [
      "[12  1  4  6  7  9  3  4  5 22 33  7  6  9  1  2 12]\n",
      "[ 1  2  3  4  5  6  7  9 12 22 33]\n"
     ]
    }
   ],
   "source": [
    "k = np.array([12,1,4,6,7,9,3,4,5,22,33,7,6,9,1,2,12])\n",
    "print(k)\n",
    "x = np.unique(k)\n",
    "print(x)"
   ]
  },
  {
   "cell_type": "markdown",
   "id": "04215d98-ae0e-4b50-ac67-b57dca51edc3",
   "metadata": {},
   "source": [
    "# Unique Element along with its index"
   ]
  },
  {
   "cell_type": "code",
   "execution_count": 43,
   "id": "75a75434-f481-411c-a404-c6906747f550",
   "metadata": {},
   "outputs": [
    {
     "name": "stdout",
     "output_type": "stream",
     "text": [
      "[12  1  4  6  7  9  3  4  5 22 33  7  6  9  1  2 12]\n",
      "(array([ 1,  2,  3,  4,  5,  6,  7,  9, 12, 22, 33]), array([ 1, 15,  6,  2,  8,  3,  4,  5,  0,  9, 10], dtype=int64))\n"
     ]
    }
   ],
   "source": [
    "k = np.array([12,1,4,6,7,9,3,4,5,22,33,7,6,9,1,2,12])\n",
    "print(k)\n",
    "x = np.unique(k, return_index = True)\n",
    "print(x)"
   ]
  },
  {
   "cell_type": "markdown",
   "id": "4204b7b8-e5c2-47f5-8d93-53b9acec2ce6",
   "metadata": {},
   "source": [
    "# Delete"
   ]
  },
  {
   "cell_type": "code",
   "execution_count": 45,
   "id": "9298fd5e-ef56-480d-87da-55b0b70be75d",
   "metadata": {},
   "outputs": [
    {
     "name": "stdout",
     "output_type": "stream",
     "text": [
      "[12 14 15]\n"
     ]
    }
   ],
   "source": [
    "a = np.array([12,13,14,15])\n",
    "d = np.delete(a, [1])\n",
    "print(d)"
   ]
  },
  {
   "cell_type": "code",
   "execution_count": 46,
   "id": "3ced15e2-cb3e-45ab-b657-ab603a0967f3",
   "metadata": {},
   "outputs": [
    {
     "name": "stdout",
     "output_type": "stream",
     "text": [
      "[[ 2  7  9  6  8]\n",
      " [ 4  5  7  1  2]\n",
      " [50  0 65  6  7]]\n"
     ]
    }
   ],
   "source": [
    "x = np.array([[2,7,9,6,8], [4,5,7,1,2], [50,0,65,6,7]])\n",
    "print(x)"
   ]
  },
  {
   "cell_type": "code",
   "execution_count": 47,
   "id": "d4eca05a-5a72-4a64-a6db-a2ba1663b807",
   "metadata": {},
   "outputs": [
    {
     "name": "stdout",
     "output_type": "stream",
     "text": [
      "[[ 2  7  9  6  8]\n",
      " [50  0 65  6  7]]\n"
     ]
    }
   ],
   "source": [
    "# delete [ 4  5  7  1  2]\n",
    "m = np.delete(x, 1, axis = 0)\n",
    "print(m)"
   ]
  },
  {
   "cell_type": "code",
   "execution_count": null,
   "id": "0b60e706-c5ab-467c-9aed-d75a0a5d1034",
   "metadata": {},
   "outputs": [],
   "source": []
  }
 ],
 "metadata": {
  "kernelspec": {
   "display_name": "Python 3 (ipykernel)",
   "language": "python",
   "name": "python3"
  },
  "language_info": {
   "codemirror_mode": {
    "name": "ipython",
    "version": 3
   },
   "file_extension": ".py",
   "mimetype": "text/x-python",
   "name": "python",
   "nbconvert_exporter": "python",
   "pygments_lexer": "ipython3",
   "version": "3.11.7"
  }
 },
 "nbformat": 4,
 "nbformat_minor": 5
}
