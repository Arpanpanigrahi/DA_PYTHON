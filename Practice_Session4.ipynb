{
 "cells": [
  {
   "cell_type": "markdown",
   "id": "2c8c7b75-4e0a-4f03-bded-ac615bd31bca",
   "metadata": {},
   "source": [
    "# ARRAYS\n",
    "Collection of similar types of elements."
   ]
  },
  {
   "cell_type": "markdown",
   "id": "67d9b3ca-5524-44d3-ad09-b01b4c5bb6cf",
   "metadata": {},
   "source": [
    "# Creation of Array"
   ]
  },
  {
   "cell_type": "code",
   "execution_count": 1,
   "id": "59c0479f-414d-488a-83f0-3d07c6602913",
   "metadata": {},
   "outputs": [
    {
     "name": "stdout",
     "output_type": "stream",
     "text": [
      "['Ford', 'Volvo', 'BMW']\n"
     ]
    }
   ],
   "source": [
    "cars = [\"Ford\", \"Volvo\", \"BMW\"]\n",
    "print(cars)"
   ]
  },
  {
   "cell_type": "markdown",
   "id": "37251651-d4a5-498b-9297-d2b4d5f6bca4",
   "metadata": {},
   "source": [
    "# Access the elements of an Array"
   ]
  },
  {
   "cell_type": "code",
   "execution_count": 3,
   "id": "1dc90c53-f71f-49b9-99b9-8c6f1d3cda6e",
   "metadata": {},
   "outputs": [
    {
     "name": "stdout",
     "output_type": "stream",
     "text": [
      "Ford\n"
     ]
    }
   ],
   "source": [
    "x = cars[0]\n",
    "print(x)"
   ]
  },
  {
   "cell_type": "markdown",
   "id": "badf8327-178e-4063-b7be-6d4f607a6524",
   "metadata": {},
   "source": [
    "# Modify the values"
   ]
  },
  {
   "cell_type": "code",
   "execution_count": 4,
   "id": "e2ced7e6-c391-4bdc-a7aa-eeb83276ba82",
   "metadata": {},
   "outputs": [
    {
     "name": "stdout",
     "output_type": "stream",
     "text": [
      "['Toyota', 'Volvo', 'BMW']\n"
     ]
    }
   ],
   "source": [
    "cars[0] = \"Toyota\"\n",
    "print(cars)"
   ]
  },
  {
   "cell_type": "markdown",
   "id": "266d941a-474b-4936-80f8-958758cf9f53",
   "metadata": {},
   "source": [
    "# Length of an array"
   ]
  },
  {
   "cell_type": "code",
   "execution_count": 6,
   "id": "7d69f1b1-7825-4d99-9682-c1ca605eed78",
   "metadata": {},
   "outputs": [
    {
     "name": "stdout",
     "output_type": "stream",
     "text": [
      "3\n"
     ]
    }
   ],
   "source": [
    "x = len(cars)\n",
    "print(x)"
   ]
  },
  {
   "cell_type": "markdown",
   "id": "7d3218dc-791c-443a-9cf1-a7786c782d12",
   "metadata": {},
   "source": [
    "# Print each item in car array"
   ]
  },
  {
   "cell_type": "code",
   "execution_count": 8,
   "id": "6bc61323-9d7b-42e4-9f44-ef71ec0b05b8",
   "metadata": {},
   "outputs": [
    {
     "name": "stdout",
     "output_type": "stream",
     "text": [
      "Ford\n",
      "Volvo\n",
      "BMW\n"
     ]
    }
   ],
   "source": [
    "cars = [\"Ford\", \"Volvo\", \"BMW\"]\n",
    "for x in cars:\n",
    "  print(x)"
   ]
  },
  {
   "cell_type": "markdown",
   "id": "a6571a3f-9bc2-4ee7-b007-e280acb65c81",
   "metadata": {},
   "source": [
    "# Adding array elements"
   ]
  },
  {
   "cell_type": "code",
   "execution_count": 9,
   "id": "2458ce48-7700-4b7f-8c8e-9cae3629f7ff",
   "metadata": {},
   "outputs": [
    {
     "name": "stdout",
     "output_type": "stream",
     "text": [
      "['Ford', 'Volvo', 'BMW', 'Honda']\n"
     ]
    }
   ],
   "source": [
    "cars = [\"Ford\", \"Volvo\", \"BMW\"]\n",
    "cars.append(\"Honda\")\n",
    "print(cars)\n"
   ]
  },
  {
   "cell_type": "markdown",
   "id": "200de040-23a9-4132-b74d-06bcbd05a631",
   "metadata": {},
   "source": [
    "# Remove array elements"
   ]
  },
  {
   "cell_type": "code",
   "execution_count": 10,
   "id": "967b5dc6-d974-495b-8272-813db21dcf56",
   "metadata": {},
   "outputs": [
    {
     "name": "stdout",
     "output_type": "stream",
     "text": [
      "['Ford', 'BMW']\n"
     ]
    }
   ],
   "source": [
    "cars = [\"Ford\", \"Volvo\", \"BMW\"]\n",
    "cars.pop(1)\n",
    "print(cars)"
   ]
  },
  {
   "cell_type": "code",
   "execution_count": null,
   "id": "724ab046-7c5d-4165-870f-33d8a25aec17",
   "metadata": {},
   "outputs": [],
   "source": []
  },
  {
   "cell_type": "markdown",
   "id": "4ffe79f0-52bb-4a13-a179-bd35bd6247f4",
   "metadata": {},
   "source": [
    "# DAY-4 REVISION"
   ]
  },
  {
   "cell_type": "code",
   "execution_count": 11,
   "id": "68259390-090a-4329-baf0-ed6dc9ac9052",
   "metadata": {},
   "outputs": [
    {
     "name": "stdout",
     "output_type": "stream",
     "text": [
      "[1, 2, 3, 4, 1, 2, 3, 4, 1, 2, 3, 4]\n"
     ]
    }
   ],
   "source": [
    "lst=[1,2,3,4]\n",
    "print(lst*3)"
   ]
  },
  {
   "cell_type": "code",
   "execution_count": 4,
   "id": "59501ca8-76b8-49f3-9c9a-c152a642d8c9",
   "metadata": {},
   "outputs": [],
   "source": [
    "import numpy as np"
   ]
  },
  {
   "cell_type": "markdown",
   "id": "89bfabcc-4ca3-4c16-85eb-b0af4826a214",
   "metadata": {},
   "source": [
    "# To print array elements and to know datatype"
   ]
  },
  {
   "cell_type": "code",
   "execution_count": 15,
   "id": "2d9ecfda-ea96-4651-9040-00fd9e5b4a47",
   "metadata": {},
   "outputs": [
    {
     "name": "stdout",
     "output_type": "stream",
     "text": [
      "<class 'numpy.ndarray'>\n",
      "[10 20 30 40]\n"
     ]
    }
   ],
   "source": [
    "x=[10,20,30,40]\n",
    "arr=np.array(x)\n",
    "print(type(arr))\n",
    "print(arr)"
   ]
  },
  {
   "cell_type": "markdown",
   "id": "56879340-a1cb-4644-8010-7d491fa08a59",
   "metadata": {},
   "source": [
    "# To give the dimension or shape to a given array "
   ]
  },
  {
   "cell_type": "code",
   "execution_count": 16,
   "id": "0dbd402b-02eb-41a6-af90-9c1d63c244d0",
   "metadata": {},
   "outputs": [
    {
     "data": {
      "text/plain": [
       "(4,)"
      ]
     },
     "execution_count": 16,
     "metadata": {},
     "output_type": "execute_result"
    }
   ],
   "source": [
    "arr.shape"
   ]
  },
  {
   "cell_type": "code",
   "execution_count": 19,
   "id": "f356881b-15a1-45f3-9482-5887c6c14037",
   "metadata": {},
   "outputs": [
    {
     "name": "stdout",
     "output_type": "stream",
     "text": [
      "[[1 2 3 4 5]\n",
      " [4 5 6 7 8]\n",
      " [5 6 7 8 9]]\n",
      "<class 'numpy.ndarray'>\n"
     ]
    }
   ],
   "source": [
    "x1=[1,2,3,4,5]\n",
    "x2=[4,5,6,7,8]\n",
    "x3=[5,6,7,8,9]\n",
    "arr=np.array([x1,x2,x3])\n",
    "print(arr)\n",
    "print(type(arr))"
   ]
  },
  {
   "cell_type": "code",
   "execution_count": 20,
   "id": "ddc57fa9-7db2-4655-961a-03185bab06e9",
   "metadata": {},
   "outputs": [
    {
     "data": {
      "text/plain": [
       "(3, 5)"
      ]
     },
     "execution_count": 20,
     "metadata": {},
     "output_type": "execute_result"
    }
   ],
   "source": [
    "arr.shape"
   ]
  },
  {
   "cell_type": "markdown",
   "id": "96d92b6d-27a2-4230-b713-1db4c6749057",
   "metadata": {},
   "source": [
    "# To change the dimension or shape to a given array "
   ]
  },
  {
   "cell_type": "code",
   "execution_count": 21,
   "id": "d1f19ea8-81e2-4628-8fbb-4c1f1b81fe5b",
   "metadata": {},
   "outputs": [
    {
     "data": {
      "text/plain": [
       "array([[1, 2, 3],\n",
       "       [4, 5, 4],\n",
       "       [5, 6, 7],\n",
       "       [8, 5, 6],\n",
       "       [7, 8, 9]])"
      ]
     },
     "execution_count": 21,
     "metadata": {},
     "output_type": "execute_result"
    }
   ],
   "source": [
    "arr.reshape(5,3)"
   ]
  },
  {
   "cell_type": "code",
   "execution_count": 23,
   "id": "ccc4fdf7-9934-4a4c-9364-cc7a02fa3eb2",
   "metadata": {},
   "outputs": [
    {
     "data": {
      "text/plain": [
       "array([[1, 2, 3, 4, 5],\n",
       "       [4, 5, 6, 7, 8],\n",
       "       [5, 6, 7, 8, 9]])"
      ]
     },
     "execution_count": 23,
     "metadata": {},
     "output_type": "execute_result"
    }
   ],
   "source": [
    "arr.reshape(3,5)"
   ]
  },
  {
   "cell_type": "markdown",
   "id": "d64eb257-34db-4676-ae99-7b158149a865",
   "metadata": {},
   "source": [
    "# To print array"
   ]
  },
  {
   "cell_type": "code",
   "execution_count": 24,
   "id": "d46e0690-08e5-4474-96b3-d68f0cba9503",
   "metadata": {},
   "outputs": [
    {
     "data": {
      "text/plain": [
       "array([[1, 2, 3, 4, 5],\n",
       "       [4, 5, 6, 7, 8],\n",
       "       [5, 6, 7, 8, 9]])"
      ]
     },
     "execution_count": 24,
     "metadata": {},
     "output_type": "execute_result"
    }
   ],
   "source": [
    "arr"
   ]
  },
  {
   "cell_type": "code",
   "execution_count": null,
   "id": "d8e4a96f-27e4-4818-a6bf-367b79bc2e34",
   "metadata": {},
   "outputs": [],
   "source": [
    "arr[2,5]"
   ]
  },
  {
   "cell_type": "markdown",
   "id": "d3f444cf-898c-4536-82a0-e53846867920",
   "metadata": {},
   "source": [
    "# To create an array evenly with space values"
   ]
  },
  {
   "cell_type": "code",
   "execution_count": 25,
   "id": "4b22d331-b00e-49b6-8fe5-6f28a48b6716",
   "metadata": {},
   "outputs": [
    {
     "name": "stdout",
     "output_type": "stream",
     "text": [
      "[0 1 2 3 4 5 6]\n"
     ]
    }
   ],
   "source": [
    "arr=np.arange(0,7)\n",
    "print(arr)"
   ]
  },
  {
   "cell_type": "code",
   "execution_count": 26,
   "id": "93a942b4-c668-47c1-ba6d-e87eb9caf283",
   "metadata": {},
   "outputs": [
    {
     "name": "stdout",
     "output_type": "stream",
     "text": [
      "[ 0  5 10 15]\n"
     ]
    }
   ],
   "source": [
    "arr=np.arange(0,20,5)\n",
    "print(arr)"
   ]
  },
  {
   "cell_type": "markdown",
   "id": "e7575a08-18db-400d-846b-6f32ab18ba26",
   "metadata": {},
   "source": [
    "# Some basic slicing operation on arrays"
   ]
  },
  {
   "cell_type": "code",
   "execution_count": 2,
   "id": "95a17f15-e895-426f-9882-4b884715f0f2",
   "metadata": {},
   "outputs": [],
   "source": [
    "import numpy as np"
   ]
  },
  {
   "cell_type": "code",
   "execution_count": 8,
   "id": "017921db-d8bb-45d2-8527-e57f2ace8f1c",
   "metadata": {},
   "outputs": [
    {
     "name": "stdout",
     "output_type": "stream",
     "text": [
      "[[1 2 3 4 5]\n",
      " [4 5 6 7 8]\n",
      " [5 6 7 8 9]]\n"
     ]
    }
   ],
   "source": [
    "x1=[1,2,3,4,5]\n",
    "x2=[4,5,6,7,8]\n",
    "x3=[5,6,7,8,9]\n",
    "arr=np.array([x1,x2,x3])\n",
    "print(arr)"
   ]
  },
  {
   "cell_type": "code",
   "execution_count": 3,
   "id": "e5cd1e44-1048-44b9-94cd-4570a8c87082",
   "metadata": {},
   "outputs": [
    {
     "name": "stdout",
     "output_type": "stream",
     "text": [
      "[0 1 2 3 4 5 6]\n"
     ]
    }
   ],
   "source": [
    "arr=np.arange(0,7)\n",
    "print(arr)"
   ]
  },
  {
   "cell_type": "code",
   "execution_count": 4,
   "id": "ccaf7ef4-df9b-4919-a9af-ee49a383fa03",
   "metadata": {},
   "outputs": [
    {
     "data": {
      "text/plain": [
       "array([1, 2, 3, 4])"
      ]
     },
     "execution_count": 4,
     "metadata": {},
     "output_type": "execute_result"
    }
   ],
   "source": [
    "arr[1:5]\n"
   ]
  },
  {
   "cell_type": "code",
   "execution_count": 6,
   "id": "40504901-a5c3-4ceb-a3a9-b47fcbef0fcc",
   "metadata": {},
   "outputs": [
    {
     "data": {
      "text/plain": [
       "array([2, 3, 4, 5])"
      ]
     },
     "execution_count": 6,
     "metadata": {},
     "output_type": "execute_result"
    }
   ],
   "source": [
    "arr=np.array([1,2,3,4,5,6,7])\n",
    "arr[1:5]"
   ]
  },
  {
   "cell_type": "markdown",
   "id": "10278d29-2ce6-481f-a195-9bbd6f925efb",
   "metadata": {},
   "source": [
    "# linspace() is a function in Python's NumPy library that allows you to create evenly spaced arrays with a specified number of elements."
   ]
  },
  {
   "cell_type": "code",
   "execution_count": 5,
   "id": "fec6035d-b35e-41d7-b599-3cbf56c19900",
   "metadata": {},
   "outputs": [
    {
     "data": {
      "text/plain": [
       "array([  5.,  10.,  15.,  20.,  25.,  30.,  35.,  40.,  45.,  50.,  55.,\n",
       "        60.,  65.,  70.,  75.,  80.,  85.,  90.,  95., 100.])"
      ]
     },
     "execution_count": 5,
     "metadata": {},
     "output_type": "execute_result"
    }
   ],
   "source": [
    "np.linspace(5,100,20)"
   ]
  },
  {
   "cell_type": "code",
   "execution_count": 14,
   "id": "992e2c61-6f77-4912-ae49-928b85ff5b22",
   "metadata": {},
   "outputs": [
    {
     "name": "stdout",
     "output_type": "stream",
     "text": [
      "[0.   0.25 0.5  0.75 1.  ]\n"
     ]
    }
   ],
   "source": [
    "arr = np.linspace(0,1,5)\n",
    "print(arr)"
   ]
  },
  {
   "cell_type": "code",
   "execution_count": 16,
   "id": "bca320c0-e30f-42d6-aafb-4cd4cf4bc0b8",
   "metadata": {},
   "outputs": [
    {
     "data": {
      "text/plain": [
       "array([2, 3, 4, 5, 6])"
      ]
     },
     "execution_count": 16,
     "metadata": {},
     "output_type": "execute_result"
    }
   ],
   "source": [
    "arr = np.array([1,2,3,4,5,6,7,8,9,10])\n",
    "arr[1:6]"
   ]
  },
  {
   "cell_type": "code",
   "execution_count": 17,
   "id": "dee001f1-004f-47a8-920a-f3991bdd1147",
   "metadata": {},
   "outputs": [
    {
     "data": {
      "text/plain": [
       "array([2, 3, 4, 5])"
      ]
     },
     "execution_count": 17,
     "metadata": {},
     "output_type": "execute_result"
    }
   ],
   "source": [
    "arr[1:5]"
   ]
  },
  {
   "cell_type": "code",
   "execution_count": 20,
   "id": "184fa4b5-13ea-41cb-85d8-5a101bb6a606",
   "metadata": {},
   "outputs": [
    {
     "name": "stdout",
     "output_type": "stream",
     "text": [
      "[  1   2   3 100 100 100 100 100 100 100]\n"
     ]
    }
   ],
   "source": [
    "arr[3:]=100\n",
    "print(arr)"
   ]
  },
  {
   "cell_type": "markdown",
   "id": "2ce6f9dc-06df-4a39-9d3b-ce8eac165b10",
   "metadata": {},
   "source": [
    "# Copy one array to another array"
   ]
  },
  {
   "cell_type": "code",
   "execution_count": 22,
   "id": "4ca809c9-a741-4fce-9b8a-8ea25efde840",
   "metadata": {},
   "outputs": [
    {
     "data": {
      "text/plain": [
       "array([  1,   2,   3, 100, 100, 100, 100, 100, 100, 100])"
      ]
     },
     "execution_count": 22,
     "metadata": {},
     "output_type": "execute_result"
    }
   ],
   "source": [
    "arr1=arr.copy()\n",
    "arr1"
   ]
  },
  {
   "cell_type": "code",
   "execution_count": 23,
   "id": "81fd2c98-4ca4-4b02-86d4-9fec9314af6c",
   "metadata": {},
   "outputs": [
    {
     "data": {
      "text/plain": [
       "array([  1,   2,   3, 100, 100, 100, 100, 100, 100, 100])"
      ]
     },
     "execution_count": 23,
     "metadata": {},
     "output_type": "execute_result"
    }
   ],
   "source": [
    "arr"
   ]
  },
  {
   "cell_type": "markdown",
   "id": "b32d8381-7a88-4629-9439-835242953d27",
   "metadata": {},
   "source": [
    "# Which is less than 2 will give True & Other will give False."
   ]
  },
  {
   "cell_type": "code",
   "execution_count": 24,
   "id": "f5d766b9-52e2-422a-abd8-6539efcc63f5",
   "metadata": {},
   "outputs": [
    {
     "data": {
      "text/plain": [
       "array([ True, False, False, False, False, False, False, False, False,\n",
       "       False])"
      ]
     },
     "execution_count": 24,
     "metadata": {},
     "output_type": "execute_result"
    }
   ],
   "source": [
    "arr1<2"
   ]
  },
  {
   "cell_type": "markdown",
   "id": "b754237f-b037-473b-96df-946a44e8e21a",
   "metadata": {},
   "source": [
    "# Multiply each element in an array by 2"
   ]
  },
  {
   "cell_type": "code",
   "execution_count": 25,
   "id": "097f938b-bb1a-410b-8667-7f330cdaa5c4",
   "metadata": {},
   "outputs": [
    {
     "data": {
      "text/plain": [
       "array([  2,   4,   6, 200, 200, 200, 200, 200, 200, 200])"
      ]
     },
     "execution_count": 25,
     "metadata": {},
     "output_type": "execute_result"
    }
   ],
   "source": [
    "arr1*2"
   ]
  },
  {
   "cell_type": "markdown",
   "id": "05ae1ff7-9e94-4ef2-8616-7b4a8fca049c",
   "metadata": {},
   "source": [
    "# To find the position which is less than 2 in an array"
   ]
  },
  {
   "cell_type": "code",
   "execution_count": 26,
   "id": "151b9d1d-f4b0-42db-8fef-c83772ddb982",
   "metadata": {},
   "outputs": [
    {
     "data": {
      "text/plain": [
       "array([1])"
      ]
     },
     "execution_count": 26,
     "metadata": {},
     "output_type": "execute_result"
    }
   ],
   "source": [
    "arr1[arr1<2]"
   ]
  },
  {
   "cell_type": "markdown",
   "id": "8bbcd968-9b69-4c2f-8f8c-b9989481d333",
   "metadata": {},
   "source": [
    "# To print data in tabular (rows, columns and values) format"
   ]
  },
  {
   "cell_type": "code",
   "execution_count": 28,
   "id": "9124208f-c24d-4673-8c9d-20d56a47ca28",
   "metadata": {},
   "outputs": [],
   "source": [
    "import pandas as pd"
   ]
  },
  {
   "cell_type": "code",
   "execution_count": 29,
   "id": "6d3a473e-e81d-4236-875c-c3942e7a1fb6",
   "metadata": {},
   "outputs": [],
   "source": [
    "import numpy as np"
   ]
  },
  {
   "cell_type": "code",
   "execution_count": 30,
   "id": "a096de8d-e1d4-466c-a622-da5c2872f634",
   "metadata": {},
   "outputs": [],
   "source": [
    "table=pd.DataFrame(np.arange(0,20).reshape(4,5),index=['R1','R2','R3','R4'],columns=['C1','C2','C3','C4','C5'])"
   ]
  },
  {
   "cell_type": "code",
   "execution_count": 31,
   "id": "33c85473-cc1d-4a4d-bf7f-98ac2c81a82b",
   "metadata": {},
   "outputs": [
    {
     "name": "stdout",
     "output_type": "stream",
     "text": [
      "    C1  C2  C3  C4  C5\n",
      "R1   0   1   2   3   4\n",
      "R2   5   6   7   8   9\n",
      "R3  10  11  12  13  14\n",
      "R4  15  16  17  18  19\n"
     ]
    }
   ],
   "source": [
    "print(table)"
   ]
  },
  {
   "cell_type": "code",
   "execution_count": null,
   "id": "c86b939b-3b68-4602-ae27-ee63276f81db",
   "metadata": {},
   "outputs": [],
   "source": []
  }
 ],
 "metadata": {
  "kernelspec": {
   "display_name": "Python 3 (ipykernel)",
   "language": "python",
   "name": "python3"
  },
  "language_info": {
   "codemirror_mode": {
    "name": "ipython",
    "version": 3
   },
   "file_extension": ".py",
   "mimetype": "text/x-python",
   "name": "python",
   "nbconvert_exporter": "python",
   "pygments_lexer": "ipython3",
   "version": "3.11.7"
  }
 },
 "nbformat": 4,
 "nbformat_minor": 5
}
